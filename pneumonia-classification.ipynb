{
  "nbformat": 4,
  "nbformat_minor": 0,
  "metadata": {
    "colab": {
      "name": "AIAS TermProject.ipynb",
      "provenance": [],
      "collapsed_sections": [
        "if77WWPaOE60"
      ],
      "toc_visible": true,
      "machine_shape": "hm"
    },
    "kernelspec": {
      "name": "python3",
      "display_name": "Python 3"
    },
    "language_info": {
      "name": "python"
    },
    "accelerator": "GPU",
    "widgets": {
      "application/vnd.jupyter.widget-state+json": {
        "6ac3dead0e8d42919652b80a8586d596": {
          "model_module": "@jupyter-widgets/controls",
          "model_name": "VBoxModel",
          "state": {
            "_view_name": "VBoxView",
            "_dom_classes": [],
            "_model_name": "VBoxModel",
            "_view_module": "@jupyter-widgets/controls",
            "_model_module_version": "1.5.0",
            "_view_count": null,
            "_view_module_version": "1.5.0",
            "box_style": "",
            "layout": "IPY_MODEL_5e4885caeb0a45ed886dfc5ff87b791e",
            "_model_module": "@jupyter-widgets/controls",
            "children": [
              "IPY_MODEL_916082a131ab4c02a1a0670b40be7a0e",
              "IPY_MODEL_ecfbc88adda54420a0be941eec528195"
            ]
          }
        },
        "5e4885caeb0a45ed886dfc5ff87b791e": {
          "model_module": "@jupyter-widgets/base",
          "model_name": "LayoutModel",
          "state": {
            "_view_name": "LayoutView",
            "grid_template_rows": null,
            "right": null,
            "justify_content": null,
            "_view_module": "@jupyter-widgets/base",
            "overflow": null,
            "_model_module_version": "1.2.0",
            "_view_count": null,
            "flex_flow": null,
            "width": null,
            "min_width": null,
            "border": null,
            "align_items": null,
            "bottom": null,
            "_model_module": "@jupyter-widgets/base",
            "top": null,
            "grid_column": null,
            "overflow_y": null,
            "overflow_x": null,
            "grid_auto_flow": null,
            "grid_area": null,
            "grid_template_columns": null,
            "flex": null,
            "_model_name": "LayoutModel",
            "justify_items": null,
            "grid_row": null,
            "max_height": null,
            "align_content": null,
            "visibility": null,
            "align_self": null,
            "height": null,
            "min_height": null,
            "padding": null,
            "grid_auto_rows": null,
            "grid_gap": null,
            "max_width": null,
            "order": null,
            "_view_module_version": "1.2.0",
            "grid_template_areas": null,
            "object_position": null,
            "object_fit": null,
            "grid_auto_columns": null,
            "margin": null,
            "display": null,
            "left": null
          }
        },
        "916082a131ab4c02a1a0670b40be7a0e": {
          "model_module": "@jupyter-widgets/controls",
          "model_name": "LabelModel",
          "state": {
            "_view_name": "LabelView",
            "style": "IPY_MODEL_a17ed16a6345407896ceff0d4e64a4d1",
            "_dom_classes": [],
            "description": "",
            "_model_name": "LabelModel",
            "placeholder": "​",
            "_view_module": "@jupyter-widgets/controls",
            "_model_module_version": "1.5.0",
            "value": " 211.35MB of 211.35MB uploaded (0.00MB deduped)\r",
            "_view_count": null,
            "_view_module_version": "1.5.0",
            "description_tooltip": null,
            "_model_module": "@jupyter-widgets/controls",
            "layout": "IPY_MODEL_7dc329ec1976417ab5ca25c8aed50ea5"
          }
        },
        "ecfbc88adda54420a0be941eec528195": {
          "model_module": "@jupyter-widgets/controls",
          "model_name": "FloatProgressModel",
          "state": {
            "_view_name": "ProgressView",
            "style": "IPY_MODEL_3600ef15bb21472a90d90458ad257336",
            "_dom_classes": [],
            "description": "",
            "_model_name": "FloatProgressModel",
            "bar_style": "",
            "max": 1,
            "_view_module": "@jupyter-widgets/controls",
            "_model_module_version": "1.5.0",
            "value": 1,
            "_view_count": null,
            "_view_module_version": "1.5.0",
            "orientation": "horizontal",
            "min": 0,
            "description_tooltip": null,
            "_model_module": "@jupyter-widgets/controls",
            "layout": "IPY_MODEL_35372d958c8048159fdbc77727dba4aa"
          }
        },
        "a17ed16a6345407896ceff0d4e64a4d1": {
          "model_module": "@jupyter-widgets/controls",
          "model_name": "DescriptionStyleModel",
          "state": {
            "_view_name": "StyleView",
            "_model_name": "DescriptionStyleModel",
            "description_width": "",
            "_view_module": "@jupyter-widgets/base",
            "_model_module_version": "1.5.0",
            "_view_count": null,
            "_view_module_version": "1.2.0",
            "_model_module": "@jupyter-widgets/controls"
          }
        },
        "7dc329ec1976417ab5ca25c8aed50ea5": {
          "model_module": "@jupyter-widgets/base",
          "model_name": "LayoutModel",
          "state": {
            "_view_name": "LayoutView",
            "grid_template_rows": null,
            "right": null,
            "justify_content": null,
            "_view_module": "@jupyter-widgets/base",
            "overflow": null,
            "_model_module_version": "1.2.0",
            "_view_count": null,
            "flex_flow": null,
            "width": null,
            "min_width": null,
            "border": null,
            "align_items": null,
            "bottom": null,
            "_model_module": "@jupyter-widgets/base",
            "top": null,
            "grid_column": null,
            "overflow_y": null,
            "overflow_x": null,
            "grid_auto_flow": null,
            "grid_area": null,
            "grid_template_columns": null,
            "flex": null,
            "_model_name": "LayoutModel",
            "justify_items": null,
            "grid_row": null,
            "max_height": null,
            "align_content": null,
            "visibility": null,
            "align_self": null,
            "height": null,
            "min_height": null,
            "padding": null,
            "grid_auto_rows": null,
            "grid_gap": null,
            "max_width": null,
            "order": null,
            "_view_module_version": "1.2.0",
            "grid_template_areas": null,
            "object_position": null,
            "object_fit": null,
            "grid_auto_columns": null,
            "margin": null,
            "display": null,
            "left": null
          }
        },
        "3600ef15bb21472a90d90458ad257336": {
          "model_module": "@jupyter-widgets/controls",
          "model_name": "ProgressStyleModel",
          "state": {
            "_view_name": "StyleView",
            "_model_name": "ProgressStyleModel",
            "description_width": "",
            "_view_module": "@jupyter-widgets/base",
            "_model_module_version": "1.5.0",
            "_view_count": null,
            "_view_module_version": "1.2.0",
            "bar_color": null,
            "_model_module": "@jupyter-widgets/controls"
          }
        },
        "35372d958c8048159fdbc77727dba4aa": {
          "model_module": "@jupyter-widgets/base",
          "model_name": "LayoutModel",
          "state": {
            "_view_name": "LayoutView",
            "grid_template_rows": null,
            "right": null,
            "justify_content": null,
            "_view_module": "@jupyter-widgets/base",
            "overflow": null,
            "_model_module_version": "1.2.0",
            "_view_count": null,
            "flex_flow": null,
            "width": null,
            "min_width": null,
            "border": null,
            "align_items": null,
            "bottom": null,
            "_model_module": "@jupyter-widgets/base",
            "top": null,
            "grid_column": null,
            "overflow_y": null,
            "overflow_x": null,
            "grid_auto_flow": null,
            "grid_area": null,
            "grid_template_columns": null,
            "flex": null,
            "_model_name": "LayoutModel",
            "justify_items": null,
            "grid_row": null,
            "max_height": null,
            "align_content": null,
            "visibility": null,
            "align_self": null,
            "height": null,
            "min_height": null,
            "padding": null,
            "grid_auto_rows": null,
            "grid_gap": null,
            "max_width": null,
            "order": null,
            "_view_module_version": "1.2.0",
            "grid_template_areas": null,
            "object_position": null,
            "object_fit": null,
            "grid_auto_columns": null,
            "margin": null,
            "display": null,
            "left": null
          }
        },
        "e4eba8c961aa4314853215ad9a0d97fc": {
          "model_module": "@jupyter-widgets/controls",
          "model_name": "VBoxModel",
          "state": {
            "_view_name": "VBoxView",
            "_dom_classes": [],
            "_model_name": "VBoxModel",
            "_view_module": "@jupyter-widgets/controls",
            "_model_module_version": "1.5.0",
            "_view_count": null,
            "_view_module_version": "1.5.0",
            "box_style": "",
            "layout": "IPY_MODEL_909540b6c88445a8a356501a466d8073",
            "_model_module": "@jupyter-widgets/controls",
            "children": [
              "IPY_MODEL_5d188be30af04db88eda2790e64178a4",
              "IPY_MODEL_562a576b219645c7afaf4f16bf8b0f50"
            ]
          }
        },
        "909540b6c88445a8a356501a466d8073": {
          "model_module": "@jupyter-widgets/base",
          "model_name": "LayoutModel",
          "state": {
            "_view_name": "LayoutView",
            "grid_template_rows": null,
            "right": null,
            "justify_content": null,
            "_view_module": "@jupyter-widgets/base",
            "overflow": null,
            "_model_module_version": "1.2.0",
            "_view_count": null,
            "flex_flow": null,
            "width": null,
            "min_width": null,
            "border": null,
            "align_items": null,
            "bottom": null,
            "_model_module": "@jupyter-widgets/base",
            "top": null,
            "grid_column": null,
            "overflow_y": null,
            "overflow_x": null,
            "grid_auto_flow": null,
            "grid_area": null,
            "grid_template_columns": null,
            "flex": null,
            "_model_name": "LayoutModel",
            "justify_items": null,
            "grid_row": null,
            "max_height": null,
            "align_content": null,
            "visibility": null,
            "align_self": null,
            "height": null,
            "min_height": null,
            "padding": null,
            "grid_auto_rows": null,
            "grid_gap": null,
            "max_width": null,
            "order": null,
            "_view_module_version": "1.2.0",
            "grid_template_areas": null,
            "object_position": null,
            "object_fit": null,
            "grid_auto_columns": null,
            "margin": null,
            "display": null,
            "left": null
          }
        },
        "5d188be30af04db88eda2790e64178a4": {
          "model_module": "@jupyter-widgets/controls",
          "model_name": "LabelModel",
          "state": {
            "_view_name": "LabelView",
            "style": "IPY_MODEL_e6b35808928c454287855e9640725f19",
            "_dom_classes": [],
            "description": "",
            "_model_name": "LabelModel",
            "placeholder": "​",
            "_view_module": "@jupyter-widgets/controls",
            "_model_module_version": "1.5.0",
            "value": " 211.35MB of 211.35MB uploaded (0.00MB deduped)\r",
            "_view_count": null,
            "_view_module_version": "1.5.0",
            "description_tooltip": null,
            "_model_module": "@jupyter-widgets/controls",
            "layout": "IPY_MODEL_deac0a0b94d044f78a04409ff0a46c3b"
          }
        },
        "562a576b219645c7afaf4f16bf8b0f50": {
          "model_module": "@jupyter-widgets/controls",
          "model_name": "FloatProgressModel",
          "state": {
            "_view_name": "ProgressView",
            "style": "IPY_MODEL_bbb8c047dd21469d9f7bbfaafe789c7f",
            "_dom_classes": [],
            "description": "",
            "_model_name": "FloatProgressModel",
            "bar_style": "",
            "max": 1,
            "_view_module": "@jupyter-widgets/controls",
            "_model_module_version": "1.5.0",
            "value": 1,
            "_view_count": null,
            "_view_module_version": "1.5.0",
            "orientation": "horizontal",
            "min": 0,
            "description_tooltip": null,
            "_model_module": "@jupyter-widgets/controls",
            "layout": "IPY_MODEL_fc43e17e87954c16bdd5f7a717ea0fc8"
          }
        },
        "e6b35808928c454287855e9640725f19": {
          "model_module": "@jupyter-widgets/controls",
          "model_name": "DescriptionStyleModel",
          "state": {
            "_view_name": "StyleView",
            "_model_name": "DescriptionStyleModel",
            "description_width": "",
            "_view_module": "@jupyter-widgets/base",
            "_model_module_version": "1.5.0",
            "_view_count": null,
            "_view_module_version": "1.2.0",
            "_model_module": "@jupyter-widgets/controls"
          }
        },
        "deac0a0b94d044f78a04409ff0a46c3b": {
          "model_module": "@jupyter-widgets/base",
          "model_name": "LayoutModel",
          "state": {
            "_view_name": "LayoutView",
            "grid_template_rows": null,
            "right": null,
            "justify_content": null,
            "_view_module": "@jupyter-widgets/base",
            "overflow": null,
            "_model_module_version": "1.2.0",
            "_view_count": null,
            "flex_flow": null,
            "width": null,
            "min_width": null,
            "border": null,
            "align_items": null,
            "bottom": null,
            "_model_module": "@jupyter-widgets/base",
            "top": null,
            "grid_column": null,
            "overflow_y": null,
            "overflow_x": null,
            "grid_auto_flow": null,
            "grid_area": null,
            "grid_template_columns": null,
            "flex": null,
            "_model_name": "LayoutModel",
            "justify_items": null,
            "grid_row": null,
            "max_height": null,
            "align_content": null,
            "visibility": null,
            "align_self": null,
            "height": null,
            "min_height": null,
            "padding": null,
            "grid_auto_rows": null,
            "grid_gap": null,
            "max_width": null,
            "order": null,
            "_view_module_version": "1.2.0",
            "grid_template_areas": null,
            "object_position": null,
            "object_fit": null,
            "grid_auto_columns": null,
            "margin": null,
            "display": null,
            "left": null
          }
        },
        "bbb8c047dd21469d9f7bbfaafe789c7f": {
          "model_module": "@jupyter-widgets/controls",
          "model_name": "ProgressStyleModel",
          "state": {
            "_view_name": "StyleView",
            "_model_name": "ProgressStyleModel",
            "description_width": "",
            "_view_module": "@jupyter-widgets/base",
            "_model_module_version": "1.5.0",
            "_view_count": null,
            "_view_module_version": "1.2.0",
            "bar_color": null,
            "_model_module": "@jupyter-widgets/controls"
          }
        },
        "fc43e17e87954c16bdd5f7a717ea0fc8": {
          "model_module": "@jupyter-widgets/base",
          "model_name": "LayoutModel",
          "state": {
            "_view_name": "LayoutView",
            "grid_template_rows": null,
            "right": null,
            "justify_content": null,
            "_view_module": "@jupyter-widgets/base",
            "overflow": null,
            "_model_module_version": "1.2.0",
            "_view_count": null,
            "flex_flow": null,
            "width": null,
            "min_width": null,
            "border": null,
            "align_items": null,
            "bottom": null,
            "_model_module": "@jupyter-widgets/base",
            "top": null,
            "grid_column": null,
            "overflow_y": null,
            "overflow_x": null,
            "grid_auto_flow": null,
            "grid_area": null,
            "grid_template_columns": null,
            "flex": null,
            "_model_name": "LayoutModel",
            "justify_items": null,
            "grid_row": null,
            "max_height": null,
            "align_content": null,
            "visibility": null,
            "align_self": null,
            "height": null,
            "min_height": null,
            "padding": null,
            "grid_auto_rows": null,
            "grid_gap": null,
            "max_width": null,
            "order": null,
            "_view_module_version": "1.2.0",
            "grid_template_areas": null,
            "object_position": null,
            "object_fit": null,
            "grid_auto_columns": null,
            "margin": null,
            "display": null,
            "left": null
          }
        },
        "86ddf9d95922437b8410cedf480ed7e8": {
          "model_module": "@jupyter-widgets/controls",
          "model_name": "VBoxModel",
          "state": {
            "_view_name": "VBoxView",
            "_dom_classes": [],
            "_model_name": "VBoxModel",
            "_view_module": "@jupyter-widgets/controls",
            "_model_module_version": "1.5.0",
            "_view_count": null,
            "_view_module_version": "1.5.0",
            "box_style": "",
            "layout": "IPY_MODEL_5a7f2be967e54fb5abba2c007959d422",
            "_model_module": "@jupyter-widgets/controls",
            "children": [
              "IPY_MODEL_bc6be677ec8f4f1bbb036d9d5a510712",
              "IPY_MODEL_36a0441972964518ae4a177a6a43f8c0"
            ]
          }
        },
        "5a7f2be967e54fb5abba2c007959d422": {
          "model_module": "@jupyter-widgets/base",
          "model_name": "LayoutModel",
          "state": {
            "_view_name": "LayoutView",
            "grid_template_rows": null,
            "right": null,
            "justify_content": null,
            "_view_module": "@jupyter-widgets/base",
            "overflow": null,
            "_model_module_version": "1.2.0",
            "_view_count": null,
            "flex_flow": null,
            "width": null,
            "min_width": null,
            "border": null,
            "align_items": null,
            "bottom": null,
            "_model_module": "@jupyter-widgets/base",
            "top": null,
            "grid_column": null,
            "overflow_y": null,
            "overflow_x": null,
            "grid_auto_flow": null,
            "grid_area": null,
            "grid_template_columns": null,
            "flex": null,
            "_model_name": "LayoutModel",
            "justify_items": null,
            "grid_row": null,
            "max_height": null,
            "align_content": null,
            "visibility": null,
            "align_self": null,
            "height": null,
            "min_height": null,
            "padding": null,
            "grid_auto_rows": null,
            "grid_gap": null,
            "max_width": null,
            "order": null,
            "_view_module_version": "1.2.0",
            "grid_template_areas": null,
            "object_position": null,
            "object_fit": null,
            "grid_auto_columns": null,
            "margin": null,
            "display": null,
            "left": null
          }
        },
        "bc6be677ec8f4f1bbb036d9d5a510712": {
          "model_module": "@jupyter-widgets/controls",
          "model_name": "LabelModel",
          "state": {
            "_view_name": "LabelView",
            "style": "IPY_MODEL_07fd03085d6e4cd491b8aad1b1d67cfd",
            "_dom_classes": [],
            "description": "",
            "_model_name": "LabelModel",
            "placeholder": "​",
            "_view_module": "@jupyter-widgets/controls",
            "_model_module_version": "1.5.0",
            "value": " 211.35MB of 211.35MB uploaded (0.00MB deduped)\r",
            "_view_count": null,
            "_view_module_version": "1.5.0",
            "description_tooltip": null,
            "_model_module": "@jupyter-widgets/controls",
            "layout": "IPY_MODEL_91f51347d3b2401989e1e7579119ee73"
          }
        },
        "36a0441972964518ae4a177a6a43f8c0": {
          "model_module": "@jupyter-widgets/controls",
          "model_name": "FloatProgressModel",
          "state": {
            "_view_name": "ProgressView",
            "style": "IPY_MODEL_9b8032f11ef14e2582555ba462e89447",
            "_dom_classes": [],
            "description": "",
            "_model_name": "FloatProgressModel",
            "bar_style": "",
            "max": 1,
            "_view_module": "@jupyter-widgets/controls",
            "_model_module_version": "1.5.0",
            "value": 1,
            "_view_count": null,
            "_view_module_version": "1.5.0",
            "orientation": "horizontal",
            "min": 0,
            "description_tooltip": null,
            "_model_module": "@jupyter-widgets/controls",
            "layout": "IPY_MODEL_2c72bfa5a2f14ae6b23b1ad00616a540"
          }
        },
        "07fd03085d6e4cd491b8aad1b1d67cfd": {
          "model_module": "@jupyter-widgets/controls",
          "model_name": "DescriptionStyleModel",
          "state": {
            "_view_name": "StyleView",
            "_model_name": "DescriptionStyleModel",
            "description_width": "",
            "_view_module": "@jupyter-widgets/base",
            "_model_module_version": "1.5.0",
            "_view_count": null,
            "_view_module_version": "1.2.0",
            "_model_module": "@jupyter-widgets/controls"
          }
        },
        "91f51347d3b2401989e1e7579119ee73": {
          "model_module": "@jupyter-widgets/base",
          "model_name": "LayoutModel",
          "state": {
            "_view_name": "LayoutView",
            "grid_template_rows": null,
            "right": null,
            "justify_content": null,
            "_view_module": "@jupyter-widgets/base",
            "overflow": null,
            "_model_module_version": "1.2.0",
            "_view_count": null,
            "flex_flow": null,
            "width": null,
            "min_width": null,
            "border": null,
            "align_items": null,
            "bottom": null,
            "_model_module": "@jupyter-widgets/base",
            "top": null,
            "grid_column": null,
            "overflow_y": null,
            "overflow_x": null,
            "grid_auto_flow": null,
            "grid_area": null,
            "grid_template_columns": null,
            "flex": null,
            "_model_name": "LayoutModel",
            "justify_items": null,
            "grid_row": null,
            "max_height": null,
            "align_content": null,
            "visibility": null,
            "align_self": null,
            "height": null,
            "min_height": null,
            "padding": null,
            "grid_auto_rows": null,
            "grid_gap": null,
            "max_width": null,
            "order": null,
            "_view_module_version": "1.2.0",
            "grid_template_areas": null,
            "object_position": null,
            "object_fit": null,
            "grid_auto_columns": null,
            "margin": null,
            "display": null,
            "left": null
          }
        },
        "9b8032f11ef14e2582555ba462e89447": {
          "model_module": "@jupyter-widgets/controls",
          "model_name": "ProgressStyleModel",
          "state": {
            "_view_name": "StyleView",
            "_model_name": "ProgressStyleModel",
            "description_width": "",
            "_view_module": "@jupyter-widgets/base",
            "_model_module_version": "1.5.0",
            "_view_count": null,
            "_view_module_version": "1.2.0",
            "bar_color": null,
            "_model_module": "@jupyter-widgets/controls"
          }
        },
        "2c72bfa5a2f14ae6b23b1ad00616a540": {
          "model_module": "@jupyter-widgets/base",
          "model_name": "LayoutModel",
          "state": {
            "_view_name": "LayoutView",
            "grid_template_rows": null,
            "right": null,
            "justify_content": null,
            "_view_module": "@jupyter-widgets/base",
            "overflow": null,
            "_model_module_version": "1.2.0",
            "_view_count": null,
            "flex_flow": null,
            "width": null,
            "min_width": null,
            "border": null,
            "align_items": null,
            "bottom": null,
            "_model_module": "@jupyter-widgets/base",
            "top": null,
            "grid_column": null,
            "overflow_y": null,
            "overflow_x": null,
            "grid_auto_flow": null,
            "grid_area": null,
            "grid_template_columns": null,
            "flex": null,
            "_model_name": "LayoutModel",
            "justify_items": null,
            "grid_row": null,
            "max_height": null,
            "align_content": null,
            "visibility": null,
            "align_self": null,
            "height": null,
            "min_height": null,
            "padding": null,
            "grid_auto_rows": null,
            "grid_gap": null,
            "max_width": null,
            "order": null,
            "_view_module_version": "1.2.0",
            "grid_template_areas": null,
            "object_position": null,
            "object_fit": null,
            "grid_auto_columns": null,
            "margin": null,
            "display": null,
            "left": null
          }
        }
      }
    }
  },
  "cells": [
    {
      "cell_type": "markdown",
      "metadata": {
        "id": "leHGntTp7Bv1"
      },
      "source": [
        "참고 코드\n",
        "-  https://www.kaggle.com/aakashnain/beating-everything-with-depthwise-convolution"
      ]
    },
    {
      "cell_type": "markdown",
      "metadata": {
        "id": "lxEG-HNGKWQk"
      },
      "source": [
        "# 1. Environment Settings"
      ]
    },
    {
      "cell_type": "markdown",
      "metadata": {
        "id": "RUq81SvVKZjL"
      },
      "source": [
        "## 1.1. Use GPU"
      ]
    },
    {
      "cell_type": "code",
      "metadata": {
        "colab": {
          "base_uri": "https://localhost:8080/"
        },
        "id": "-NvJMtkLKQJQ",
        "outputId": "991475e0-3446-4815-f803-4d8eee5f9f05"
      },
      "source": [
        "%tensorflow_version 2.x\n",
        "import tensorflow as tf\n",
        "device_name = tf.test.gpu_device_name()\n",
        "if device_name != '/device:GPU:0':\n",
        "  raise SystemError('GPU device not found')\n",
        "print('Found GPU at: {}'.format(device_name))"
      ],
      "execution_count": null,
      "outputs": [
        {
          "output_type": "stream",
          "text": [
            "Found GPU at: /device:GPU:0\n"
          ],
          "name": "stdout"
        }
      ]
    },
    {
      "cell_type": "markdown",
      "metadata": {
        "id": "Bkwwze8UKsNP"
      },
      "source": [
        "## 1.2. Install Additional Libraries\n",
        "* Wandb : 그래프 분석"
      ]
    },
    {
      "cell_type": "code",
      "metadata": {
        "colab": {
          "base_uri": "https://localhost:8080/"
        },
        "id": "wgW4sJi_KvHH",
        "outputId": "7347f505-6ed5-4444-9955-143945e7514c"
      },
      "source": [
        "!pip install wandb"
      ],
      "execution_count": null,
      "outputs": [
        {
          "output_type": "stream",
          "text": [
            "Collecting wandb\n",
            "\u001b[?25l  Downloading https://files.pythonhosted.org/packages/d4/f6/91c07f54c2162854f5028aaa13f576ca17a3bc0cf6da02c2ad5baddae128/wandb-0.10.33-py2.py3-none-any.whl (1.8MB)\n",
            "\u001b[K     |████████████████████████████████| 1.8MB 9.2MB/s \n",
            "\u001b[?25hRequirement already satisfied: protobuf>=3.12.0 in /usr/local/lib/python3.7/dist-packages (from wandb) (3.17.3)\n",
            "Requirement already satisfied: python-dateutil>=2.6.1 in /usr/local/lib/python3.7/dist-packages (from wandb) (2.8.1)\n",
            "Collecting sentry-sdk>=0.4.0\n",
            "\u001b[?25l  Downloading https://files.pythonhosted.org/packages/ce/41/75fad31fff378871c462745ce724b3701a6acad17028d79476ec2545e40f/sentry_sdk-1.3.0-py2.py3-none-any.whl (133kB)\n",
            "\u001b[K     |████████████████████████████████| 143kB 48.2MB/s \n",
            "\u001b[?25hCollecting pathtools\n",
            "  Downloading https://files.pythonhosted.org/packages/e7/7f/470d6fcdf23f9f3518f6b0b76be9df16dcc8630ad409947f8be2eb0ed13a/pathtools-0.1.2.tar.gz\n",
            "Requirement already satisfied: requests<3,>=2.0.0 in /usr/local/lib/python3.7/dist-packages (from wandb) (2.23.0)\n",
            "Requirement already satisfied: promise<3,>=2.0 in /usr/local/lib/python3.7/dist-packages (from wandb) (2.3)\n",
            "Collecting docker-pycreds>=0.4.0\n",
            "  Downloading https://files.pythonhosted.org/packages/f5/e8/f6bd1eee09314e7e6dee49cbe2c5e22314ccdb38db16c9fc72d2fa80d054/docker_pycreds-0.4.0-py2.py3-none-any.whl\n",
            "Collecting shortuuid>=0.5.0\n",
            "  Downloading https://files.pythonhosted.org/packages/25/a6/2ecc1daa6a304e7f1b216f0896b26156b78e7c38e1211e9b798b4716c53d/shortuuid-1.0.1-py3-none-any.whl\n",
            "Requirement already satisfied: Click!=8.0.0,>=7.0 in /usr/local/lib/python3.7/dist-packages (from wandb) (7.1.2)\n",
            "Requirement already satisfied: psutil>=5.0.0 in /usr/local/lib/python3.7/dist-packages (from wandb) (5.4.8)\n",
            "Requirement already satisfied: six>=1.13.0 in /usr/local/lib/python3.7/dist-packages (from wandb) (1.15.0)\n",
            "Collecting GitPython>=1.0.0\n",
            "\u001b[?25l  Downloading https://files.pythonhosted.org/packages/bc/91/b38c4fabb6e5092ab23492ded4f318ab7299b19263272b703478038c0fbc/GitPython-3.1.18-py3-none-any.whl (170kB)\n",
            "\u001b[K     |████████████████████████████████| 174kB 54.5MB/s \n",
            "\u001b[?25hRequirement already satisfied: PyYAML in /usr/local/lib/python3.7/dist-packages (from wandb) (3.13)\n",
            "Collecting subprocess32>=3.5.3\n",
            "\u001b[?25l  Downloading https://files.pythonhosted.org/packages/32/c8/564be4d12629b912ea431f1a50eb8b3b9d00f1a0b1ceff17f266be190007/subprocess32-3.5.4.tar.gz (97kB)\n",
            "\u001b[K     |████████████████████████████████| 102kB 12.7MB/s \n",
            "\u001b[?25hCollecting configparser>=3.8.1\n",
            "  Downloading https://files.pythonhosted.org/packages/fd/01/ff260a18caaf4457eb028c96eeb405c4a230ca06c8ec9c1379f813caa52e/configparser-5.0.2-py3-none-any.whl\n",
            "Requirement already satisfied: certifi in /usr/local/lib/python3.7/dist-packages (from sentry-sdk>=0.4.0->wandb) (2021.5.30)\n",
            "Requirement already satisfied: urllib3>=1.10.0 in /usr/local/lib/python3.7/dist-packages (from sentry-sdk>=0.4.0->wandb) (1.24.3)\n",
            "Requirement already satisfied: chardet<4,>=3.0.2 in /usr/local/lib/python3.7/dist-packages (from requests<3,>=2.0.0->wandb) (3.0.4)\n",
            "Requirement already satisfied: idna<3,>=2.5 in /usr/local/lib/python3.7/dist-packages (from requests<3,>=2.0.0->wandb) (2.10)\n",
            "Requirement already satisfied: typing-extensions>=3.7.4.0; python_version < \"3.8\" in /usr/local/lib/python3.7/dist-packages (from GitPython>=1.0.0->wandb) (3.7.4.3)\n",
            "Collecting gitdb<5,>=4.0.1\n",
            "\u001b[?25l  Downloading https://files.pythonhosted.org/packages/ea/e8/f414d1a4f0bbc668ed441f74f44c116d9816833a48bf81d22b697090dba8/gitdb-4.0.7-py3-none-any.whl (63kB)\n",
            "\u001b[K     |████████████████████████████████| 71kB 10.9MB/s \n",
            "\u001b[?25hCollecting smmap<5,>=3.0.1\n",
            "  Downloading https://files.pythonhosted.org/packages/68/ee/d540eb5e5996eb81c26ceffac6ee49041d473bc5125f2aa995cf51ec1cf1/smmap-4.0.0-py2.py3-none-any.whl\n",
            "Building wheels for collected packages: pathtools, subprocess32\n",
            "  Building wheel for pathtools (setup.py) ... \u001b[?25l\u001b[?25hdone\n",
            "  Created wheel for pathtools: filename=pathtools-0.1.2-cp37-none-any.whl size=8807 sha256=a3e38370fdae38b85bde1e8ea13482df2012c9eab07323b7e2c9076d07c4143e\n",
            "  Stored in directory: /root/.cache/pip/wheels/0b/04/79/c3b0c3a0266a3cb4376da31e5bfe8bba0c489246968a68e843\n",
            "  Building wheel for subprocess32 (setup.py) ... \u001b[?25l\u001b[?25hdone\n",
            "  Created wheel for subprocess32: filename=subprocess32-3.5.4-cp37-none-any.whl size=6502 sha256=4ffc23498f92d15938fd57051e637e942bc5c62c172f470949ae153152e21c46\n",
            "  Stored in directory: /root/.cache/pip/wheels/68/39/1a/5e402bdfdf004af1786c8b853fd92f8c4a04f22aad179654d1\n",
            "Successfully built pathtools subprocess32\n",
            "Installing collected packages: sentry-sdk, pathtools, docker-pycreds, shortuuid, smmap, gitdb, GitPython, subprocess32, configparser, wandb\n",
            "Successfully installed GitPython-3.1.18 configparser-5.0.2 docker-pycreds-0.4.0 gitdb-4.0.7 pathtools-0.1.2 sentry-sdk-1.3.0 shortuuid-1.0.1 smmap-4.0.0 subprocess32-3.5.4 wandb-0.10.33\n"
          ],
          "name": "stdout"
        }
      ]
    },
    {
      "cell_type": "markdown",
      "metadata": {
        "id": "keqou8pfKh0l"
      },
      "source": [
        "## 1.3. Import Libraries"
      ]
    },
    {
      "cell_type": "code",
      "metadata": {
        "id": "mz5TXKl7KoCy"
      },
      "source": [
        "from tensorflow.keras.models import Model\n",
        "from tensorflow.keras.callbacks import ModelCheckpoint, Callback\n",
        "from tensorflow.keras.optimizers import Adam, SGD, RMSprop\n",
        "from tensorflow.keras.applications import ResNet50\n",
        "from tensorflow.keras.layers import Input, Dropout\n",
        "from tensorflow.keras.layers import Dense, GlobalAveragePooling2D\n",
        "\n",
        "import numpy as np\n",
        "import pandas as pd\n",
        "import matplotlib.pyplot as plt\n",
        "import seaborn as sns\n",
        "import cv2\n",
        "import os\n",
        "\n",
        "from pathlib import Path\n",
        "\n",
        "import keras\n",
        "from keras import optimizers\n",
        "from keras.models import Sequential\n",
        "from keras.applications.resnet50 import preprocess_input\n",
        "from keras.layers import Dense, Conv2D , MaxPool2D , Flatten , Dropout , BatchNormalization\n",
        "from keras.preprocessing.image import ImageDataGenerator\n",
        "from keras.callbacks import ReduceLROnPlateau\n",
        "from keras.callbacks import EarlyStopping\n",
        "from keras.callbacks import ReduceLROnPlateau\n",
        "from keras.utils.np_utils import to_categorical\n",
        "\n",
        "import wandb\n",
        "from wandb.keras import WandbCallback\n",
        "\n",
        "from sklearn.model_selection import train_test_split\n",
        "from sklearn.metrics import classification_report,confusion_matrix"
      ],
      "execution_count": null,
      "outputs": []
    },
    {
      "cell_type": "markdown",
      "metadata": {
        "id": "sjZl3n4ZLPJO"
      },
      "source": [
        "## 1.4. Load a Dataset\n",
        "Google Drive에 저장된 데이터세트를 불러옴"
      ]
    },
    {
      "cell_type": "markdown",
      "metadata": {
        "id": "OCrt8bLdLZoj"
      },
      "source": [
        "### 1.4.1. 로드하기\n",
        "구글 드라이브 마운트"
      ]
    },
    {
      "cell_type": "code",
      "metadata": {
        "colab": {
          "base_uri": "https://localhost:8080/"
        },
        "id": "Qw3zeomdLYSH",
        "outputId": "b748fb9f-8fa7-4d53-954c-ff141ea58348"
      },
      "source": [
        "from google.colab import drive\n",
        "drive.mount('/content/drive')"
      ],
      "execution_count": null,
      "outputs": [
        {
          "output_type": "stream",
          "text": [
            "Mounted at /content/drive\n"
          ],
          "name": "stdout"
        }
      ]
    },
    {
      "cell_type": "markdown",
      "metadata": {
        "id": "qIzkY6ePLfw0"
      },
      "source": [
        "파일 압축 해제"
      ]
    },
    {
      "cell_type": "code",
      "metadata": {
        "colab": {
          "base_uri": "https://localhost:8080/"
        },
        "id": "3Fot1RNMLjD8",
        "outputId": "c6144cfd-4652-4bd1-d6f8-7c9d7034cc6a"
      },
      "source": [
        "!unzip -q \"/content/drive/MyDrive/AIAS/dataset/x-ray_3pneumonia.zip\" -d dataset\n",
        "!ls"
      ],
      "execution_count": null,
      "outputs": [
        {
          "output_type": "stream",
          "text": [
            "dataset  drive\tsample_data\n"
          ],
          "name": "stdout"
        }
      ]
    },
    {
      "cell_type": "markdown",
      "metadata": {
        "id": "FmQrEnhNLlJW"
      },
      "source": [
        "### 1.4.2. 변수로 저장\n",
        "파일 경로 정의"
      ]
    },
    {
      "cell_type": "code",
      "metadata": {
        "id": "3eIXMyccLmiX"
      },
      "source": [
        "data_dir = Path('/content/dataset/x-ray_3pneumonia') \n",
        "\n",
        "train_dir = data_dir / 'train'\n",
        "val_dir = data_dir / 'val'\n",
        "test_dir = data_dir / 'test'"
      ],
      "execution_count": null,
      "outputs": []
    },
    {
      "cell_type": "markdown",
      "metadata": {
        "id": "PoZKuSgjLs5U"
      },
      "source": [
        "이미지 각각 train_data, val_data, test_data에 저장"
      ]
    },
    {
      "cell_type": "code",
      "metadata": {
        "colab": {
          "base_uri": "https://localhost:8080/"
        },
        "id": "YfoQ-aJNLvQF",
        "outputId": "43e447c9-fd3e-45ce-c990-d56acb46e929"
      },
      "source": [
        "labels = ['bacterial_pneumonia', 'viral_pneumonia',  'normal']\n",
        "img_size = 224\n",
        "\n",
        "def get_data(data_dir):\n",
        "    data = [] \n",
        "    for label in labels: \n",
        "        path = os.path.join(data_dir, label)\n",
        "        class_num = labels.index(label)\n",
        "        os.listdir()\n",
        "        for img in os.listdir(path):\n",
        "            try:\n",
        "                img_arr = cv2.imread(os.path.join(path, img), cv2.IMREAD_GRAYSCALE)\n",
        "                resized_arr = cv2.resize(img_arr, (img_size, img_size)) # Reshaping images to preferred size\n",
        "                resized_arr = np.multiply(resized_arr, 1./255)\n",
        "                data.append([resized_arr, class_num])\n",
        "            except Exception as e:\n",
        "                print(e)\n",
        "        print('label[',label,'] finish to get data')\n",
        "    print()\n",
        "    return np.array(data)\n",
        "\n",
        "train_data = get_data(train_dir)\n",
        "val_data = get_data(val_dir)\n",
        "test_data = get_data(test_dir)\n",
        "\n",
        "print(train_data.shape)\n",
        "print(val_data.shape)\n",
        "print(test_data.shape)"
      ],
      "execution_count": null,
      "outputs": [
        {
          "output_type": "stream",
          "text": [
            "label[ bacterial_pneumonia ] finish to get data\n",
            "label[ viral_pneumonia ] finish to get data\n",
            "label[ normal ] finish to get data\n",
            "\n"
          ],
          "name": "stdout"
        },
        {
          "output_type": "stream",
          "text": [
            "/usr/local/lib/python3.7/dist-packages/ipykernel_launcher.py:20: VisibleDeprecationWarning: Creating an ndarray from ragged nested sequences (which is a list-or-tuple of lists-or-tuples-or ndarrays with different lengths or shapes) is deprecated. If you meant to do this, you must specify 'dtype=object' when creating the ndarray\n"
          ],
          "name": "stderr"
        },
        {
          "output_type": "stream",
          "text": [
            "label[ bacterial_pneumonia ] finish to get data\n",
            "label[ viral_pneumonia ] finish to get data\n",
            "label[ normal ] finish to get data\n",
            "\n",
            "label[ bacterial_pneumonia ] finish to get data\n",
            "label[ viral_pneumonia ] finish to get data\n",
            "label[ normal ] finish to get data\n",
            "\n",
            "(4544, 2)\n",
            "(567, 2)\n",
            "(571, 2)\n"
          ],
          "name": "stdout"
        }
      ]
    },
    {
      "cell_type": "markdown",
      "metadata": {
        "id": "_tLCc7laMQDd"
      },
      "source": [
        "### 1.4.3. 원하는 데이터 포맷으로 처리\n",
        "* X: (-1, img_size, img_size)\n",
        "* Y: (-1, 3), one-hot encoding"
      ]
    },
    {
      "cell_type": "code",
      "metadata": {
        "colab": {
          "base_uri": "https://localhost:8080/"
        },
        "id": "opqGRR61MaCs",
        "outputId": "be9208e6-e7bd-4beb-d1aa-591b465170c6"
      },
      "source": [
        "num_classes=3\n",
        "X_train = np.stack(train_data[:,0]).reshape(-1, img_size, img_size).astype('float32')\n",
        "y_train = to_categorical(np.array(train_data[:,1], dtype='float64'), num_classes=num_classes)\n",
        "X_val = np.stack(val_data[:,0]).reshape(-1, img_size, img_size).astype('float32')\n",
        "y_val = to_categorical(np.array(val_data[:,1], dtype='float64'), num_classes=num_classes)\n",
        "X_test = np.stack(test_data[:,0]).reshape(-1, img_size, img_size).astype('float32')\n",
        "y_test = to_categorical(np.array(test_data[:,1], dtype='float64'), num_classes=num_classes)\n",
        "\n",
        "print('train set: ',X_train.shape, y_train.shape)\n",
        "print('val set: ',X_val.shape, y_val.shape)\n",
        "print('test set: ',X_test.shape, y_test.shape)"
      ],
      "execution_count": null,
      "outputs": [
        {
          "output_type": "stream",
          "text": [
            "train set:  (4544, 224, 224) (4544, 3)\n",
            "val set:  (567, 224, 224) (567, 3)\n",
            "test set:  (571, 224, 224) (571, 3)\n"
          ],
          "name": "stdout"
        }
      ]
    },
    {
      "cell_type": "markdown",
      "metadata": {
        "id": "IqJdPRZuMh5i"
      },
      "source": [
        "### 1.4.4. 불필요하게 RAM 용량 차지하는 변수 삭제"
      ]
    },
    {
      "cell_type": "code",
      "metadata": {
        "id": "78YBdSIMMorv"
      },
      "source": [
        "del(train_data)\n",
        "del(val_data)\n",
        "del(test_data)"
      ],
      "execution_count": null,
      "outputs": []
    },
    {
      "cell_type": "markdown",
      "metadata": {
        "id": "4sRqFNqeMvkk"
      },
      "source": [
        "# 2. Preprocessing"
      ]
    },
    {
      "cell_type": "code",
      "metadata": {
        "id": "yOYPKtjYNVOi"
      },
      "source": [
        "# 데이터 균형정도 시각화\n",
        "def visualization_balance(y_train, plotting):\n",
        "  l = []\n",
        "  for i in np.argmax(y_train, axis=1): # y_train\n",
        "    if(i == 0):\n",
        "      l.append(\"bacterial_pneumonia\")\n",
        "    elif(i == 1):\n",
        "      l.append(\"viral_pneumonia\")\n",
        "    elif (i == 2):\n",
        "      l.append(\"normal\")\n",
        "    else:\n",
        "      l.append(\"unknown\")\n",
        "  if plotting==1:\n",
        "    sns.set_style('darkgrid')\n",
        "    sns.countplot(l)\n",
        "\n",
        "  print(\"bacterial_pneumonia / viral_pneumonia / normal / unknown\")\n",
        "  print(l.count(\"bacterial_pneumonia\"),\" / \",l.count(\"viral_pneumonia\"),\" / \", l.count(\"normal\"),\" / \", l.count(\"unknown\"))"
      ],
      "execution_count": null,
      "outputs": []
    },
    {
      "cell_type": "code",
      "metadata": {
        "id": "LxNsdSsGOeRg"
      },
      "source": [
        "def plot_one_column(X_train, y_train):\n",
        "  fig, axs = plt.subplots(1,3,figsize=(12,4))\n",
        "\n",
        "  idx = 0\n",
        "  check = np.zeros(3, dtype='uint8')\n",
        "  for i in np.argmax(y_train, axis=1): # y_train\n",
        "    if(check[i]==1): continue\n",
        "    axs[i].imshow(np.reshape(X_train[idx], (img_size,img_size)), cmap='gray')\n",
        "    check[i] = 1\n",
        "    idx += 1\n",
        "    if(np.sum(check)==3): break\n",
        "    \n",
        "  axs[0].set_title(\"bacterial\")\n",
        "  axs[1].set_title(\"viral\")\n",
        "  axs[2].set_title(\"normal\")\n",
        "  for i in range(3):\n",
        "    axs[i].grid(b=False)"
      ],
      "execution_count": null,
      "outputs": []
    },
    {
      "cell_type": "markdown",
      "metadata": {
        "id": "if77WWPaOE60"
      },
      "source": [
        "## 2.1. (OLD) 전처리 기법 정의"
      ]
    },
    {
      "cell_type": "markdown",
      "metadata": {
        "id": "U9I6D0LlOJYR"
      },
      "source": [
        "### Undersampling"
      ]
    },
    {
      "cell_type": "code",
      "metadata": {
        "id": "-b7crCsNNPMp"
      },
      "source": [
        "def undersampling(X_train, y_train, target_num, shuffle):\n",
        "  X_train_result = np.zeros((target_num*3, img_size, img_size))\n",
        "  y_train_result = np.zeros((target_num*3, 3))\n",
        "\n",
        "  if shuffle==1:\n",
        "    s = np.arange(X_train.shape[0])\n",
        "    np.random.shuffle(s)\n",
        "    X_train = np.reshape(np.array(X_train, dtype=np.uint8)[s], (-1, img_size,img_size))\n",
        "    y_train = y_train[s]\n",
        "  \n",
        "  idx=0\n",
        "  i=0\n",
        "  cnt = np.zeros(3)\n",
        "  labels = np.argmax(y_train, axis=1)\n",
        "  while(1):\n",
        "    label = labels[i]\n",
        "    i+=1\n",
        "    if np.sum(cnt)==target_num*3:\n",
        "      break\n",
        "    if idx==target_num*3: break\n",
        "    if cnt[label]==target_num:\n",
        "      continue\n",
        "    cnt[label]+=1\n",
        "\n",
        "    X_train_result[idx]=np.reshape(X_train[i-1], (img_size,img_size))\n",
        "    y_train_result[idx]=y_train[i-1]\n",
        "    idx+=1\n",
        "    \n",
        "  return X_train_result, y_train_result"
      ],
      "execution_count": null,
      "outputs": []
    },
    {
      "cell_type": "markdown",
      "metadata": {
        "id": "8xdrcs2vNsMO"
      },
      "source": [
        "(실행 예시)"
      ]
    },
    {
      "cell_type": "code",
      "metadata": {
        "colab": {
          "base_uri": "https://localhost:8080/"
        },
        "id": "VhBNBbgnNryb",
        "outputId": "dc03f246-8525-4d9e-d00d-edcacecc0163"
      },
      "source": [
        "X_train_usamp, y_train_usamp = undersampling(X_train.copy(), y_train.copy(), 1000, 1)\n",
        "visualization_balance(y_train_usamp, 1)\n",
        "\n",
        "del(X_train_usamp)\n",
        "del(y_train_usamp)"
      ],
      "execution_count": null,
      "outputs": [
        {
          "output_type": "stream",
          "text": [
            "bacterial_pneumonia / viral_pneumonia / normal / unknown\n",
            "1000  /  1000  /  1000  /  0\n"
          ],
          "name": "stdout"
        },
        {
          "output_type": "stream",
          "text": [
            "/usr/local/lib/python3.7/dist-packages/seaborn/_decorators.py:43: FutureWarning: Pass the following variable as a keyword arg: x. From version 0.12, the only valid positional argument will be `data`, and passing other arguments without an explicit keyword will result in an error or misinterpretation.\n",
            "  FutureWarning\n"
          ],
          "name": "stderr"
        },
        {
          "output_type": "display_data",
          "data": {
            "image/png": "[encoded data removed]",
            "text/plain": [
              "<Figure size 432x288 with 1 Axes>"
            ]
          },
          "metadata": {
            "tags": []
          }
        }
      ]
    },
    {
      "cell_type": "markdown",
      "metadata": {
        "id": "KZ7wravqNO21"
      },
      "source": [
        "### Affine Transformation\n",
        "이동, 확대, 회전 등의 변형을 가하는 기법"
      ]
    },
    {
      "cell_type": "code",
      "metadata": {
        "id": "dMOUw_9oOO8_"
      },
      "source": [
        "from tensorflow.keras import layers\n",
        "\n",
        "affine_transformation = tf.keras.Sequential([\n",
        "  layers.experimental.preprocessing.RandomTranslation(0.05, 0.05, fill_mode='constant'),\n",
        "  layers.experimental.preprocessing.RandomZoom((-0.2,-0.1),(-0.2,-0.1), fill_mode='constant'),\n",
        "  layers.experimental.preprocessing.RandomRotation((-0.02, 0.02), fill_mode='constant'),\n",
        "])"
      ],
      "execution_count": null,
      "outputs": []
    },
    {
      "cell_type": "code",
      "metadata": {
        "colab": {
          "base_uri": "https://localhost:8080/"
        },
        "id": "W60ZJqhKObhm",
        "outputId": "9f1d59c4-ff79-4e4d-8fa5-905fb74316bb"
      },
      "source": [
        "X_train_affine = affine_transformation(np.reshape(X_train.copy(),(-1,img_size,img_size,1)))\n",
        "plot_one_column(X_train_affine, y_train)\n",
        "del(X_train_affine)"
      ],
      "execution_count": null,
      "outputs": [
        {
          "output_type": "display_data",
          "data": {
            "image/png": "[encoded data removed]",
            "text/plain": [
              "<Figure size 864x288 with 3 Axes>"
            ]
          },
          "metadata": {
            "tags": []
          }
        }
      ]
    },
    {
      "cell_type": "markdown",
      "metadata": {
        "id": "oD_cZZFQOxmY"
      },
      "source": [
        "### Elastic Distortion\n",
        "다양한 방향으로 생성된 displacement vector를 기반으로 이미지를 왜곡하는 기법"
      ]
    },
    {
      "cell_type": "code",
      "metadata": {
        "id": "_4EXSS90O5e9"
      },
      "source": [
        "from scipy.ndimage.filters import gaussian_filter\n",
        "from scipy.ndimage.interpolation import map_coordinates\n",
        "\n",
        "# 출처: https://www.kaggle.com/raghakot/easier-keras-imagedatagenerator\n",
        "def elastic_transform(image, alpha, sigma, random_state=None):\n",
        "    \"\"\"Elastic deformation of images as described in [Simard2003]_.\n",
        "    .. [Simard2003] Simard, Steinkraus and Platt, \"Best Practices for\n",
        "       Convolutional Neural Networks applied to Visual Document Analysis\", in\n",
        "       Proc. of the International Conference on Document Analysis and\n",
        "       Recognition, 2003.\n",
        "    \"\"\"\n",
        "    if random_state is None:\n",
        "        random_state = np.random.RandomState(None)\n",
        "\n",
        "    shape = image.shape\n",
        "    dx = gaussian_filter((random_state.rand(*shape) * 2 - 1), sigma, mode=\"constant\", cval=0) * alpha\n",
        "    dy = gaussian_filter((random_state.rand(*shape) * 2 - 1), sigma, mode=\"constant\", cval=0) * alpha\n",
        "\n",
        "    x, y = np.meshgrid(np.arange(shape[1]), np.arange(shape[0]))\n",
        "    indices = np.reshape(y+dy, (-1, 1)), np.reshape(x+dx, (-1, 1))\n",
        "\n",
        "    distored_image = map_coordinates(image, indices, order=1, mode='reflect')\n",
        "    return distored_image.reshape(image.shape)"
      ],
      "execution_count": null,
      "outputs": []
    },
    {
      "cell_type": "code",
      "metadata": {
        "id": "91Nhup06PLip"
      },
      "source": [
        "def my_elastic_transform(X_train):\n",
        "    X_train_elas = np.zeros(X_train.shape)\n",
        "    for i in range(X_train.shape[0]):\n",
        "      sigma = np.random.uniform(img_size * 0.11, img_size * 0.18)\n",
        "      X_train_elas[i] = elastic_transform(X_train[i].reshape(img_size, img_size).copy(),img_size, sigma)\n",
        "    \n",
        "    return X_train_elas"
      ],
      "execution_count": null,
      "outputs": []
    },
    {
      "cell_type": "code",
      "metadata": {
        "colab": {
          "base_uri": "https://localhost:8080/"
        },
        "id": "G11YK5HwO8Mt",
        "outputId": "32dafd41-e332-43d7-d6d2-ecdfbc1b5426"
      },
      "source": [
        "X_train_elas = my_elastic_transform(X_train)\n",
        "plot_one_column(X_train_elas, y_train)\n",
        "del(X_train_elas)"
      ],
      "execution_count": null,
      "outputs": [
        {
          "output_type": "display_data",
          "data": {
            "image/png": "[encoded data removed]",
            "text/plain": [
              "<Figure size 864x288 with 3 Axes>"
            ]
          },
          "metadata": {
            "tags": []
          }
        }
      ]
    },
    {
      "cell_type": "markdown",
      "metadata": {
        "id": "31Kdk-xzPi39"
      },
      "source": [
        "### Needle Augmentation\n",
        "원본 이미지에 무작위로 바늘 이미지를 합성"
      ]
    },
    {
      "cell_type": "code",
      "metadata": {
        "id": "RDdqZIiTPnEl"
      },
      "source": [
        "# import os\n",
        "# import random\n",
        "# import numpy as np\n",
        "# import pandas as pd\n",
        "# import cv2\n",
        "# import matplotlib.pyplot as plt\n",
        "\n",
        "# import torch\n",
        "# import torchvision\n",
        "# from torchvision import transforms\n",
        "# import tensorflow as tf\n",
        "# import albumentations as A\n",
        "# def NeedleAugmentation(image, n_needles=2, dark_needles=False, p=0.5, needle_folder='/content/drive/MyDrive/AIAS/dataset/needle_augmentation'):\n",
        "#     aug_prob = random.random()\n",
        "\n",
        "#     if aug_prob < p:\n",
        "#         height, width, _ = image.shape  # target image width and height\n",
        "#         needle_images = [im for im in os.listdir(needle_folder) if 'png' in im]\n",
        "\n",
        "#         for _ in range(1, n_needles):\n",
        "#             needle = cv2.cvtColor(cv2.imread(os.path.join(needle_folder, random.choice(needle_images))), cv2.COLOR_BGR2RGB)\n",
        "#             needle = cv2.resize(needle, (134,75),needle) # 224,126\n",
        "#             needle = cv2.flip(needle, random.choice([-1, 0, 1]))\n",
        "#             needle = cv2.rotate(needle, random.choice([0, 1, 2]))\n",
        "\n",
        "#             h_height, h_width, _ = needle.shape  # needle image width and height\n",
        "#             roi_ho = random.randint(0, abs(image.shape[0] - needle.shape[0]))\n",
        "#             roi_wo = random.randint(0, abs(image.shape[1] - needle.shape[1]))\n",
        "#             roi = image[roi_ho:roi_ho + h_height, roi_wo:roi_wo + h_width]\n",
        "            \n",
        "#             # Creating a mask and inverse mask \n",
        "#             img2gray = cv2.cvtColor(needle, cv2.COLOR_BGR2GRAY)\n",
        "#             ret, mask = cv2.threshold(img2gray, 10, 255, cv2.THRESH_BINARY)\n",
        "#             mask_inv = cv2.bitwise_not(mask)\n",
        "\n",
        "#             # Now black-out the area of needle in ROI\n",
        "#             img_bg = cv2.bitwise_and(roi, roi, mask=mask_inv)\n",
        "\n",
        "#             # Take only region of insect from insect image.\n",
        "#             if dark_needles:\n",
        "#                 img_bg = cv2.bitwise_and(roi, roi, mask=mask_inv)\n",
        "#                 needle_fg = cv2.bitwise_and(img_bg, img_bg, mask=mask)\n",
        "#             else:\n",
        "#                 needle_fg = cv2.bitwise_and(needle, needle, mask=mask)\n",
        "            \n",
        "#             # Put needle in ROI and modify the target image\n",
        "#             img_bg = np.expand_dims(img_bg, axis=2)\n",
        "#             img_bg = np.concatenate([img_bg,img_bg,img_bg], axis=2)\n",
        "#             print('img_bg:', img_bg.shape)\n",
        "#             print('needle_fg:', needle_fg.shape)\n",
        "#             dst = cv2.add(img_bg, needle_fg, dtype=cv2.CV_8U)\n",
        "#             print('dst:',dst.shape)\n",
        "\n",
        "#             # dst = dst[:, :, np.newaxis]\n",
        "#             # print('dst:',dst.shape)\n",
        "#             print('image:',image.shape)\n",
        "#             image = np.expand_dims(image, axis=2)\n",
        "#             image = np.concatenate([image,image,image], axis=2)\n",
        "            \n",
        "#             print('image[roi_ho:roi_ho + h_height, roi_wo:roi_wo + h_width]', image[roi_ho:roi_ho + h_height, roi_wo:roi_wo + h_width].shape)\n",
        "#             print('np.expand_dims(dst, axis=2)', np.expand_dims(dst, axis=2).shape)\n",
        "#             image[roi_ho:roi_ho + h_height, roi_wo:roi_wo + h_width] = np.expand_dims(dst, axis=3)\n",
        "#             print('dst:',dst.shape)\n",
        "#             print('image:',image.shape)\n",
        "\n",
        "#             image = np.reshape(image[:,:,0], (img_size,img_size))\n",
        "#             plt.imshow(image,cmap='gray')\n",
        "            \n",
        "#     return image"
      ],
      "execution_count": null,
      "outputs": []
    },
    {
      "cell_type": "code",
      "metadata": {
        "id": "9AY6bxUCPytg"
      },
      "source": [
        "# def my_NeedleAugmentation(X_train, n_needles, dark_needles, p):\n",
        "#     X_train_needle = np.zeros(X_train.shape)\n",
        "#     for i in range(X_train.shape[0]):\n",
        "#       X_train_needle[i] = np.reshape(NeedleAugmentation(np.reshape(X_train[i].copy(), (img_size,img_size,1)), n_needles=int(n_needles), dark_needles=dark_needles, p=p), (-1,img_size,img_size))\n",
        "    \n",
        "#     return X_train_needle"
      ],
      "execution_count": null,
      "outputs": []
    },
    {
      "cell_type": "code",
      "metadata": {
        "id": "SE_5DdmYRQTf"
      },
      "source": [
        "# X_tmp = np.reshape(X_train[0].copy(), (img_size,img_size,1))\n",
        "# print(X_tmp.shape)\n",
        "# X_train_needle = NeedleAugmentation(X_tmp, n_needles=2, dark_needles=False, p=1)\n",
        "\n",
        "# print(X_train_needle.shape)\n",
        "# # plt.imshow(np.reshape(X_train_needle,(img_size, img_size)), cmap='gray')"
      ],
      "execution_count": null,
      "outputs": []
    },
    {
      "cell_type": "code",
      "metadata": {
        "id": "zdG6cYSdQKix"
      },
      "source": [
        "# X_train_needle = my_NeedleAugmentation(X_train.copy(), 3, False, 1)\n",
        "# plot_one_column(X_train_needle, y_train)"
      ],
      "execution_count": null,
      "outputs": []
    },
    {
      "cell_type": "markdown",
      "metadata": {
        "id": "uHdn_4ygjoZ2"
      },
      "source": [
        "## 2.2. (NEW) 전처리 기법 정의"
      ]
    },
    {
      "cell_type": "markdown",
      "metadata": {
        "id": "WO-SRS9tkAHR"
      },
      "source": [
        "#### albumentation"
      ]
    },
    {
      "cell_type": "code",
      "metadata": {
        "colab": {
          "base_uri": "https://localhost:8080/"
        },
        "id": "LDHoTk0kjbE8",
        "outputId": "58fd9589-d876-4758-dcc7-2b7955e24ca3"
      },
      "source": [
        "!pip install -U git+https://github.com/albu/albumentations > /dev/null && echo \"All libraries are successfully installed!\"\n",
        "!wget https://upload.wikimedia.org/wikipedia/commons/thumb/8/8a/Dryocopus_pileatus_MP2.jpg/600px-Dryocopus_pileatus_MP2.jpg -q -O example.jpg\n",
        "\n",
        "import numpy as np\n",
        "import cv2\n",
        "from matplotlib import pyplot as plt\n",
        "from IPython.display import display, HTML \n",
        "from albumentations import (VerticalFlip, HorizontalFlip, Flip, RandomRotate90, Rotate, ShiftScaleRotate, CenterCrop, OpticalDistortion, GridDistortion, ElasticTransform, JpegCompression, HueSaturationValue,\n",
        "                            RGBShift, RandomBrightness, RandomContrast, Blur, MotionBlur, MedianBlur, GaussNoise, CLAHE, ChannelShuffle, InvertImg, RandomGamma, ToGray, PadIfNeeded \n",
        "                           )\n",
        "import albumentations as alb"
      ],
      "execution_count": null,
      "outputs": [
        {
          "output_type": "stream",
          "text": [
            "  Running command git clone -q https://github.com/albu/albumentations /tmp/pip-req-build-xd3r7ft7\n",
            "All libraries are successfully installed!\n"
          ],
          "name": "stdout"
        }
      ]
    },
    {
      "cell_type": "code",
      "metadata": {
        "id": "eVCCrJkakQWH"
      },
      "source": [
        "alb_config = {\n",
        "    'target_size': 224,\n",
        "    'seed': 23,\n",
        "    'batch_size': 8,\n",
        "    'enable_preprocessing': False,\n",
        "\n",
        "    'augm_p_corrections': 0.3,\n",
        "    'augm_p_contrast': 1,\n",
        "    'augm_p_gamma': 1,\n",
        "    'augm_p_brightness': 1,\n",
        "\n",
        "    'augm_p_blurs': 0.5,\n",
        "    'augm_p_blur': 1,\n",
        "    'augm_p_motionblur': 1,\n",
        "    'augm_p_medianblur': 1,\n",
        "\n",
        "    'augm_p_distortions': 0.3,\n",
        "    'augm_p_elastic': 1,\n",
        "    'augm_p_grid': 1,\n",
        "    'augm_p_optical': 1,\n",
        "\n",
        "    'augm_p_shiftscalrot': 0.3,\n",
        "    'augm_shift_limit': 0.2,\n",
        "    'augm_scale_limit': 0.1,\n",
        "    'augm_rotate_limit': 20,\n",
        "}"
      ],
      "execution_count": null,
      "outputs": []
    },
    {
      "cell_type": "code",
      "metadata": {
        "id": "qtWNnHaIkVFr"
      },
      "source": [
        "augm = alb.Compose([\n",
        "        alb.HorizontalFlip(),\n",
        "        alb.OneOf([\n",
        "            # alb.RandomContrast(p=config[\"augm_p_contrast\"]),\n",
        "            alb.RandomGamma(p=alb_config[\"augm_p_gamma\"]),\n",
        "            # alb.RandomBrightness(p=config[\"augm_p_brightness\"]),\n",
        "        ],\n",
        "            p=alb_config[\"augm_p_corrections\"]),\n",
        "        alb.OneOf([\n",
        "            alb.Blur(blur_limit=4, p=alb_config[\"augm_p_blur\"]),\n",
        "            alb.MotionBlur(blur_limit=4, p=alb_config[\"augm_p_motionblur\"]),\n",
        "            # alb.MedianBlur(blur_limit=3, p=alb_config[\"augm_p_medianblur\"]),\n",
        "        ],\n",
        "            p=alb_config[\"augm_p_blurs\"]),\n",
        "        alb.OneOf([\n",
        "            alb.ElasticTransform(alpha=60,\n",
        "                                #  sigma=60 * 0.20,\n",
        "                                 sigma=60 * 0.15,\n",
        "                                 alpha_affine=60 * 0.03,\n",
        "                                 p=alb_config[\"augm_p_elastic\"]),\n",
        "            alb.GridDistortion(p=alb_config[\"augm_p_grid\"]),\n",
        "            alb.OpticalDistortion(\n",
        "                # distort_limit=0.2, shift_limit=0.05, p=alb_config[\"augm_p_optical\"]),\n",
        "                distort_limit=0.3, shift_limit=0.1, p=alb_config[\"augm_p_optical\"]),\n",
        "        ],\n",
        "            p=alb_config[\"augm_p_distortions\"]),\n",
        "        alb.ShiftScaleRotate(shift_limit=alb_config[\"augm_shift_limit\"],\n",
        "                             scale_limit=alb_config[\"augm_scale_limit\"],\n",
        "                             rotate_limit=alb_config[\"augm_rotate_limit\"],\n",
        "                             interpolation=cv2.INTER_LINEAR,\n",
        "                             border_mode=cv2.BORDER_CONSTANT,\n",
        "                             p=alb_config[\"augm_p_shiftscalrot\"]),\n",
        "        # alb.Resize(alb_config[\"target_size\"], alb_config[\"target_size\"]),\n",
        "    ])\n",
        "    "
      ],
      "execution_count": null,
      "outputs": []
    },
    {
      "cell_type": "code",
      "metadata": {
        "id": "KjGSvv-EkcGh"
      },
      "source": [
        "def get_alb_aug(X_train):\n",
        "  aug_img = np.zeros(X_train.shape)\n",
        "  for i in range(X_train.shape[0]):\n",
        "    aug_img[i] = augm(image=X_train[i])['image']\n",
        "  return aug_img"
      ],
      "execution_count": null,
      "outputs": []
    },
    {
      "cell_type": "code",
      "metadata": {
        "colab": {
          "base_uri": "https://localhost:8080/",
          "height": 261
        },
        "id": "lG86j8SakmuS",
        "outputId": "d72b95e6-fa13-473c-de6c-f59ed1c38418"
      },
      "source": [
        "X_train_aug = get_alb_aug(X_train.copy())\n",
        "plot_one_column(X_train_aug,y_train)\n",
        "del(X_train_aug)"
      ],
      "execution_count": null,
      "outputs": [
        {
          "output_type": "display_data",
          "data": {
            "image/png": "[encoded data removed]",
            "text/plain": [
              "<Figure size 864x288 with 3 Axes>"
            ]
          },
          "metadata": {
            "tags": []
          }
        }
      ]
    },
    {
      "cell_type": "markdown",
      "metadata": {
        "id": "XHeiZmRzkh8D"
      },
      "source": [
        "### Oversampling"
      ]
    },
    {
      "cell_type": "code",
      "metadata": {
        "id": "TzBSDZAGlq2I"
      },
      "source": [
        "def get_balance(y_train):\n",
        "  l = []\n",
        "  for i in np.argmax(y_train, axis=1): # y_train\n",
        "    if(i == 0):\n",
        "      l.append(\"bacterial_pneumonia\")\n",
        "    elif(i == 1):\n",
        "      l.append(\"viral_pneumonia\")\n",
        "    elif (i == 2):\n",
        "      l.append(\"normal\")\n",
        "    else:\n",
        "      l.append(\"unknown\")\n",
        "  balance = np.zeros(3)\n",
        "  balance[0] = l.count(\"bacterial_pneumonia\")\n",
        "  balance[1] = l.count(\"viral_pneumonia\")\n",
        "  balance[2] = l.count(\"normal\")\n",
        "  balance = np.array(balance, dtype='uint32')\n",
        "  return balance"
      ],
      "execution_count": null,
      "outputs": []
    },
    {
      "cell_type": "code",
      "metadata": {
        "id": "mMJCmhRRmGeE"
      },
      "source": [
        "def undersampling(X_train, y_train, target_num, shuffle):\n",
        "  X_train_result = np.zeros((np.sum(target_num), img_size,img_size))\n",
        "  y_train_result = np.zeros((np.sum(target_num), 3))\n",
        "\n",
        "  if shuffle==1:\n",
        "    s = np.arange(X_train.shape[0])\n",
        "    np.random.shuffle(s)\n",
        "    X_train = np.reshape(np.array(X_train, dtype=np.uint8)[s], (-1, img_size,img_size))\n",
        "    y_train = y_train[s]\n",
        "  \n",
        "  idx=0\n",
        "  i=0\n",
        "  cnt = np.zeros(3)\n",
        "  labels = np.argmax(y_train, axis=1)\n",
        "  while(1):\n",
        "    label = labels[i]\n",
        "    i+=1\n",
        "    if np.sum(cnt)==np.sum(target_num): break\n",
        "    if idx==sum(target_num): break\n",
        "    if i==4544: break\n",
        "    if cnt[label]==target_num[label]:\n",
        "      continue\n",
        "    cnt[label]+=1\n",
        "    X_train_result[idx]=np.reshape(X_train[i-1], (img_size,img_size))\n",
        "    y_train_result[idx]=y_train[i-1]\n",
        "    idx+=1\n",
        "\n",
        "  return X_train_result, y_train_result\n"
      ],
      "execution_count": null,
      "outputs": []
    },
    {
      "cell_type": "code",
      "metadata": {
        "id": "Q4J76w01kj-3"
      },
      "source": [
        "def oversampling(X_train, y_train, max_num, shuffle):\n",
        "  \"\"\"\n",
        "  [WARNING]\n",
        "  만일 balance[k]<max_num인 경우 원치 않는 동작을 수행함\n",
        "  \"\"\"\n",
        "  balance = get_balance(y_train)\n",
        "  target_num = np.array([max_num-balance[0], max_num-balance[1], max_num-balance[2]],dtype='uint32')\n",
        "  # print('balance num: ', balance)\n",
        "  # print('max num: ', max_num)\n",
        "  # print('target num: ', target_num)\n",
        "  # print()\n",
        "\n",
        "  X_train_u, y_train_u = undersampling(X_train.copy(), y_train.copy(), target_num, shuffle)\n",
        "\n",
        "  balance = get_balance(y_train_u)\n",
        "  # print('--- after undersampling ---')\n",
        "  # print('balance num: ', balance)\n",
        "  # print()\n",
        "\n",
        "  X_train_result = np.zeros((max_num,img_size,img_size))\n",
        "  y_train_result = np.zeros((max_num,3))\n",
        "  X_train_result = np.concatenate([X_train, X_train_u])\n",
        "  y_train_result = np.concatenate([y_train, y_train_u])\n",
        "\n",
        "  # balance =  np.zeros(3)\n",
        "  # get_balance(y_train_result, balance)\n",
        "  # print('--- after oversampling ---')\n",
        "  # print('balance num: ', balance)\n",
        "  # print('y :', y_train_result)\n",
        "  # print()\n",
        "\n",
        "  # del(X_train_u)\n",
        "  # del(y_train_u)\n",
        "\n",
        "  return X_train_result, y_train_result\n"
      ],
      "execution_count": null,
      "outputs": []
    },
    {
      "cell_type": "code",
      "metadata": {
        "colab": {
          "base_uri": "https://localhost:8080/",
          "height": 357
        },
        "id": "Rv6LTtfXlhlE",
        "outputId": "137f8dd2-4da2-4aec-b681-03376b1989cc"
      },
      "source": [
        "X_train_osamp, y_train_osamp = oversampling(X_train, y_train, 2181, 0)\n",
        "visualization_balance(y_train_osamp,1)\n",
        "del(X_train_osamp)\n",
        "del(y_train_osamp)"
      ],
      "execution_count": null,
      "outputs": [
        {
          "output_type": "stream",
          "text": [
            "bacterial_pneumonia / viral_pneumonia / normal / unknown\n",
            "2181  /  2181  /  2181  /  0\n"
          ],
          "name": "stdout"
        },
        {
          "output_type": "stream",
          "text": [
            "/usr/local/lib/python3.7/dist-packages/seaborn/_decorators.py:43: FutureWarning: Pass the following variable as a keyword arg: x. From version 0.12, the only valid positional argument will be `data`, and passing other arguments without an explicit keyword will result in an error or misinterpretation.\n",
            "  FutureWarning\n"
          ],
          "name": "stderr"
        },
        {
          "output_type": "display_data",
          "data": {
            "image/png": "[encoded data removed]",
            "text/plain": [
              "<Figure size 432x288 with 1 Axes>"
            ]
          },
          "metadata": {
            "tags": []
          }
        }
      ]
    },
    {
      "cell_type": "markdown",
      "metadata": {
        "id": "gPRftw4dnJz9"
      },
      "source": [
        "# 3. Train"
      ]
    },
    {
      "cell_type": "markdown",
      "metadata": {
        "id": "_KFcLxZYnoge"
      },
      "source": [
        "## 3.1. Settings\n",
        "학습 결과를 기록하기 위한 환경 설정"
      ]
    },
    {
      "cell_type": "code",
      "metadata": {
        "colab": {
          "base_uri": "https://localhost:8080/"
        },
        "id": "vCCGDx5-nVcb",
        "outputId": "2a11f5ad-e6db-49e0-a4ca-fbc188d58079"
      },
      "source": [
        "!wandb login"
      ],
      "execution_count": null,
      "outputs": [
        {
          "output_type": "stream",
          "text": [
            "\u001b[34m\u001b[1mwandb\u001b[0m: You can find your API key in your browser here: https://wandb.ai/authorize\n",
            "\u001b[34m\u001b[1mwandb\u001b[0m: Paste an API key from your profile and hit enter: "
          ],
          "name": "stdout"
        }
      ]
    },
    {
      "cell_type": "code",
      "metadata": {
        "id": "wzt-p6T3oVWV"
      },
      "source": [
        "early_stop=EarlyStopping(monitor=\"val_loss\",\n",
        "                         min_delta = .001,\n",
        "                         patience=6,\n",
        "                         mode=\"auto\",\n",
        "                         verbose=1,\n",
        "                         restore_best_weights = True\n",
        "                         )\n",
        "Learning_rate_reduction=ReduceLROnPlateau(monitor='val_accuracy',\n",
        "                                          factor=0.5,\n",
        "                                          patience=5, \n",
        "                                          verbose=1, \n",
        "                                          min_delta = 0.01\n",
        "                                          )\n",
        "\n",
        "chkpt = ModelCheckpoint(filepath='/content/drive/MyDrive/AIAS/checkpoint/{epoch:02d}-{val_accuracy:.5f}.h5',\n",
        "                        save_weights_only=True, \n",
        "                        save_best_only = True,\n",
        "                        verbose=1, \n",
        "                        mode='min', \n",
        "                        monitor='val_loss'\n",
        "                        )"
      ],
      "execution_count": null,
      "outputs": []
    },
    {
      "cell_type": "markdown",
      "metadata": {
        "id": "-N7HKWAl69t1"
      },
      "source": [
        "## 3.2. Define a Model"
      ]
    },
    {
      "cell_type": "markdown",
      "metadata": {
        "id": "fX8_qYrUn2p6"
      },
      "source": [
        "\n",
        "### 3.2.3 dataset 증강 실험 및 학습 영역에 관한 실험 모델\n",
        "ResNet50을 base model로 사용\n",
        "* `㉠ Edit Here to change the freeze range (transfer learning)` 부분을 통해 freeze 범위를 설정할 수 있음\n"
      ]
    },
    {
      "cell_type": "code",
      "metadata": {
        "id": "cc_qHztWn1WV"
      },
      "source": [
        "from tensorflow.keras.applications import ResNet50\n",
        "from tensorflow.keras.layers import Input, Dropout\n",
        "from tensorflow.keras.layers import Dense, GlobalAveragePooling2D\n",
        "\n",
        "with tf.device('/device:GPU:0'): #GPU 사용하려면 돌릴 모델을 이 안쪽으로 넣어주면 된다고 함\n",
        "  def build_model():\n",
        "      img_input = tf.keras.Input(shape=(img_size, img_size,1), name='ImageInput')\n",
        "      img_conc = tf.keras.layers.Concatenate()([img_input, img_input, img_input])  # 따라서 graysclae(1 channel)에서 3 channel로 증가시켜줌.  \n",
        "\n",
        "      # < Create the Base Pre-trained Model >\n",
        "      base_model = ResNet50( weights='imagenet', include_top=False, input_tensor=img_conc )\n",
        "      \n",
        "\n",
        "      # < Define the freeze range >\n",
        "      # ㉠ Edit Here to change the freeze range (transfer learning)\n",
        "      # ex) 144 ->114\n",
        "      for layer in base_model.layers[:144]: # trainable parameters : 15,541,891 \n",
        "          layer.trainable = False  \n",
        "      # Check\n",
        "      for i, layer in enumerate(base_model.layers):\n",
        "        print(i, layer.name, \"-\", layer.trainable)\n",
        "\n",
        "\n",
        "      # < Add User-defined Layers >\n",
        "      # add a global spatial average pooling layer\n",
        "      x = base_model.output\n",
        "      x = GlobalAveragePooling2D()(x)\n",
        "      \n",
        "      # add fully-connected layers\n",
        "      x = BatchNormalization(name='batchNorm1')(x)\n",
        "      x = Dense(256, activation='relu', name='fc1', kernel_regularizer=keras.regularizers.l2(0.001))(x)\n",
        "      x = Dropout(0.5, name='dropout1')(x) #optional\n",
        "      \n",
        "      x = BatchNormalization(name='batchNorm2')(x)\n",
        "      x = Dense(128, activation='relu', name='fc2',kernel_regularizer=keras.regularizers.l2(0.001))(x) \n",
        "      x = Dropout(0.5, name='dropout2')(x) #optional\n",
        "\n",
        "      # add a logistic layer\n",
        "      predictions = Dense(3, activation='softmax', name='fc3')(x) \n",
        "\n",
        "\n",
        "      # < Return the Final Model >\n",
        "      model = Model(inputs=img_input, outputs=predictions)\n",
        "      return model"
      ],
      "execution_count": null,
      "outputs": []
    },
    {
      "cell_type": "markdown",
      "metadata": {
        "id": "Usdch4Jv5h58"
      },
      "source": [
        "### 3.2.2 최종 테스트 모델"
      ]
    },
    {
      "cell_type": "code",
      "metadata": {
        "id": "7uZfoh0W5ggn"
      },
      "source": [
        "from tensorflow.keras.applications import ResNet50\n",
        "from tensorflow.keras.layers import Input, Dropout\n",
        "from tensorflow.keras.layers import Dense, GlobalAveragePooling2D\n",
        "\n",
        "with tf.device('/device:GPU:0'): #GPU 사용하려면 돌릴 모델을 이 안쪽으로 넣어주면 된다고 함\n",
        "  def build_model():\n",
        "      img_input = tf.keras.Input(shape=(img_size, img_size,1), name='ImageInput')\n",
        "      img_conc = tf.keras.layers.Concatenate()([img_input, img_input, img_input])  # 따라서 graysclae(1 channel)에서 3 channel로 증가시켜줌.  \n",
        "\n",
        "      # create the base pre-trained model\n",
        "      base_model = ResNet50( weights='imagenet', include_top=False, input_tensor=img_conc )\n",
        "      for layer in base_model.layers[:144]: #trainable parameters : 15,541,891 \n",
        "          layer.trainable = False  \n",
        "\n",
        "      #check\n",
        "      for i, layer in enumerate(base_model.layers):\n",
        "        print(i, layer.name, \"-\", layer.trainable)\n",
        "\n",
        "      # add a global spatial average pooling layer\n",
        "      x = base_model.output\n",
        "      x = GlobalAveragePooling2D()(x)\n",
        "      \n",
        "      # let's add a fully-connected \n",
        "      x = BatchNormalization(name='batchNorm1')(x)\n",
        "      x = Dense(128, activation='relu', name='fc1', kernel_regularizer=keras.regularizers.l2(0.001))(x)\n",
        "      x = Dropout(0.5, name='dropout1')(x) #optional\n",
        "      \n",
        "      x = BatchNormalization(name='batchNorm2')(x)\n",
        "      x = Dense(64, activation='relu', name='fc2',kernel_regularizer=keras.regularizers.l2(0.001))(x) \n",
        "      x = Dropout(0.5, name='dropout2')(x) #optional\n",
        "\n",
        "      x = BatchNormalization(name='batchNorm3')(x)\n",
        "      x = Dense(64, activation='relu', name='fc3',kernel_regularizer=keras.regularizers.l2(0.001))(x) \n",
        "      x = Dropout(0.5, name='dropout3')(x) #optional\n",
        "\n",
        "      # and a logistic layer\n",
        "      predictions = Dense(3, activation='softmax', name='fc4')(x) \n",
        "\n",
        "      # this is the model we will train\n",
        "      model = Model(inputs=img_input, outputs=predictions)\n",
        "      return model"
      ],
      "execution_count": null,
      "outputs": []
    },
    {
      "cell_type": "markdown",
      "metadata": {
        "id": "yC-LU2tP1qo8"
      },
      "source": [
        "## 3.3. Run"
      ]
    },
    {
      "cell_type": "markdown",
      "metadata": {
        "id": "y4YT8BYGoAXj"
      },
      "source": [
        "### 3.3.1. With Cross-validation"
      ]
    },
    {
      "cell_type": "markdown",
      "metadata": {
        "id": "Rp1_q5dcoIaO"
      },
      "source": [
        "Cross-validation을 수행하기 위해 다음과 같이 X_train과 X_val 변수를 합쳐줌"
      ]
    },
    {
      "cell_type": "code",
      "metadata": {
        "colab": {
          "base_uri": "https://localhost:8080/"
        },
        "id": "0sNrSGRooMun",
        "outputId": "c96be548-1944-4344-d43a-a46d7e569f7d"
      },
      "source": [
        "X = np.concatenate([X_train, X_val])\n",
        "Y = np.concatenate([y_train, y_val])\n",
        "print('X.shape:',X.shape)\n",
        "print('Y.shape:',Y.shape)"
      ],
      "execution_count": null,
      "outputs": [
        {
          "output_type": "stream",
          "text": [
            "X.shape: (5111, 224, 224)\n",
            "Y.shape: (5111, 3)\n"
          ],
          "name": "stdout"
        }
      ]
    },
    {
      "cell_type": "code",
      "metadata": {
        "colab": {
          "base_uri": "https://localhost:8080/",
          "height": 1000,
          "referenced_widgets": [
            "6ac3dead0e8d42919652b80a8586d596",
            "5e4885caeb0a45ed886dfc5ff87b791e",
            "916082a131ab4c02a1a0670b40be7a0e",
            "ecfbc88adda54420a0be941eec528195",
            "a17ed16a6345407896ceff0d4e64a4d1",
            "7dc329ec1976417ab5ca25c8aed50ea5",
            "3600ef15bb21472a90d90458ad257336",
            "35372d958c8048159fdbc77727dba4aa",
            "e4eba8c961aa4314853215ad9a0d97fc",
            "909540b6c88445a8a356501a466d8073",
            "5d188be30af04db88eda2790e64178a4",
            "562a576b219645c7afaf4f16bf8b0f50",
            "e6b35808928c454287855e9640725f19",
            "deac0a0b94d044f78a04409ff0a46c3b",
            "bbb8c047dd21469d9f7bbfaafe789c7f",
            "fc43e17e87954c16bdd5f7a717ea0fc8",
            "86ddf9d95922437b8410cedf480ed7e8",
            "5a7f2be967e54fb5abba2c007959d422",
            "bc6be677ec8f4f1bbb036d9d5a510712",
            "36a0441972964518ae4a177a6a43f8c0",
            "07fd03085d6e4cd491b8aad1b1d67cfd",
            "91f51347d3b2401989e1e7579119ee73",
            "9b8032f11ef14e2582555ba462e89447",
            "2c72bfa5a2f14ae6b23b1ad00616a540"
          ]
        },
        "id": "M6FEYby8oagj",
        "outputId": "15b4e7fe-7344-4f47-a935-afec11d340b1"
      },
      "source": [
        "from sklearn.model_selection import KFold\n",
        "\n",
        "skf = KFold(n_splits=9, shuffle=True)\n",
        "accuracy = []\n",
        "test_loss_list=[]\n",
        "test_score_list = []\n",
        "\n",
        "for train, validation in skf.split(X, Y):\n",
        "\n",
        "  ## <Settings>\n",
        "  run = wandb.init(project='Final_AIAS',\n",
        "                 config={  # and include hyperparameters and metadata\n",
        "                     \"learning_rate\": 0.0001,\n",
        "                     \"epochs\": 50,\n",
        "                     \"batch_size\": 32,\n",
        "                     \"loss_function\": \"categorical_crossentropy\",\n",
        "                     \"architecture\": \"RenNet-50\",\n",
        "                     \"dataset\": \"original+augm*3((balanced))\"\n",
        "                 })\n",
        "  config = wandb.config  # We'll use this to configure our experiment\n",
        "  callbacks=[Learning_rate_reduction, chkpt, WandbCallback()] #콜백함수에 chkpt추가 (early_stop)\n",
        "  tf.keras.backend.clear_session()\n",
        "  \n",
        "  ## <Define the model>\n",
        "  model = build_model()\n",
        "  optimizer = tf.keras.optimizers.Adam(config.learning_rate) \n",
        "  model.compile(optimizer=optimizer,\n",
        "                loss = config.loss_function,\n",
        "                metrics = ['accuracy']\n",
        "                )\n",
        "\n",
        "  ## <Training Dataset>\n",
        "  # Original : X\n",
        "  print('>> Original')\n",
        "  X_model_train = X[train]\n",
        "  y_model_train = Y[train]\n",
        "  print('      X_model_train:',X_model_train.shape)\n",
        "  print('      y_model_train:',y_model_train.shape)\n",
        "\n",
        "  # Oversampling : X + alpha\n",
        "  print('>> Oversampling')\n",
        "  balance = get_balance(y_model_train)\n",
        "  max_num = np.max(balance)\n",
        "  \n",
        "  X_model_train_oversampled = np.zeros((max_num*3,img_size,img_size))\n",
        "  y_model_train_oversampled = np.zeros((max_num*3,3))\n",
        "  X_model_train_oversampled, y_model_train_oversampled = oversampling(X_model_train, y_model_train, max_num, 0)\n",
        "  print('after oversampling')\n",
        "  print('   X_model_train_oversampled',X_model_train_oversampled.shape)\n",
        "  print('   y_model_train_oversampled',y_model_train_oversampled.shape)\n",
        "  print()\n",
        "\n",
        "  # Augmentation : X' + alpha'\n",
        "  print('>> Augmentation1')\n",
        "  X_aug_train1 = np.stack(get_alb_aug(X_model_train_oversampled)).reshape(-1, img_size, img_size).astype('float32')\n",
        "  X_aug_train2 = np.stack(get_alb_aug(X_model_train_oversampled)).reshape(-1, img_size, img_size).astype('float32')\n",
        "  print('      X_aug_train1:',X_aug_train1.shape)\n",
        "  print('      X_aug_train2:',X_aug_train2.shape)\n",
        "\n",
        "  X_model_train = np.concatenate([X_model_train, X_aug_train1, X_aug_train2]) # X_aug_train3, X_aug_train4, X_model_train_u])\n",
        "  del(X_aug_train1)\n",
        "  del(X_aug_train2)\n",
        "  y_model_train = np.concatenate([y_model_train, y_model_train_oversampled, y_model_train_oversampled]) #, y_model_train_oversampled, y_model_train_oversampled, y_model_train_u])\n",
        "  print('      X_model_train:',X_model_train.shape)\n",
        "  print('      y_model_train:',y_model_train.shape)\n",
        "\n",
        "  print('>> Augmentation2')\n",
        "  X_aug_train3 = np.stack(get_alb_aug(X_model_train_oversampled)).reshape(-1, img_size, img_size).astype('float32')\n",
        "  print('      X_aug_train3:',X_aug_train3.shape)\n",
        "  del(X_model_train_oversampled)\n",
        "\n",
        "  X_model_train = np.concatenate([X_model_train, X_aug_train3])#, X_aug_train4]) # X_aug_train3, X_aug_train4, X_model_train_u])\n",
        "  del(X_aug_train3)\n",
        "  y_model_train = np.concatenate([y_model_train, y_model_train_oversampled]) #, y_model_train_oversampled]) #, y_model_train_oversampled, y_model_train_oversampled, y_model_train_u])\n",
        "  del(y_model_train_oversampled)\n",
        "  print('      X_model_train:',X_model_train.shape)\n",
        "  print('      y_model_train:',y_model_train.shape)\n",
        "\n",
        "  # Undersampling : alpha\"\n",
        "  print('>> Undersampling')\n",
        "  balance = get_balance(y_model_train)\n",
        "  max_num = np.max(balance)\n",
        "  target_num = np.array([max_num-balance[0], max_num-balance[1], max_num-balance[2]],dtype='uint32')\n",
        "  print('      max_num:',max_num)\n",
        "  print('      target_num:',target_num)\n",
        "  \n",
        "  \n",
        "  X_model_train_u =  np.zeros((np.sum(target_num),img_size,img_size))\n",
        "  print('      X_model_train_u:',X_model_train_u.shape)\n",
        "  y_model_train_u =  np.zeros((np.sum(target_num),3))\n",
        "  X_model_train_u, y_model_train_u = undersampling(X_model_train.copy(), y_model_train.copy(), target_num, 0)\n",
        "  print('      X_model_train_u:',X_model_train_u.shape)\n",
        "  print('      y_model_train_u:',y_model_train_u.shape)\n",
        "\n",
        "  # Concatenate : X + (X'+alpha')*4 + alph\"\n",
        "  print('>> final Concatenate ')\n",
        "  X_model_train = np.concatenate([X_model_train, X_model_train_u])\n",
        "  del(X_model_train_u)\n",
        "  y_model_train = np.concatenate([y_model_train, y_model_train_u])\n",
        "  del(y_model_train_u)\n",
        "  print('      X_model_train:',X_model_train.shape)\n",
        "  print('      y_model_train:',y_model_train.shape)\n",
        "\n",
        "  # Suffling\n",
        "  # print('>> Shuffling')\n",
        "  # s = np.arange(X_model_train.shape[0])\n",
        "  # np.random.shuffle(s)\n",
        "  # X_model_train = X_model_train[s]\n",
        "  # y_model_train = y_model_train[s]\n",
        "  # print('      X_model_train:',X_model_train.shape)\n",
        "  # print('      y_model_train:',y_model_train.shape)\n",
        "\n",
        "  ## <Validation Dataset>\n",
        "  X_model_val = X[validation]\n",
        "  y_model_val = Y[validation]\n",
        "\n",
        "  print('=== what I want ===')\n",
        "  print('data size: ', X_model_train.shape[0])\n",
        "  print('batch_size: ',config.batch_size)\n",
        "  print('nb_epochs: ',config.epochs)\n",
        "  print('nb_train_steps: ', X_model_train.shape[0]//config.batch_size)\n",
        "  print()\n",
        "\n",
        "\n",
        "  ## <Run>\n",
        "  with tf.device('/device:GPU:0'): \n",
        "    history = model.fit(X_model_train, y_model_train,\n",
        "                        epochs=config.epochs,\n",
        "                        # steps_per_epoch = nb_train_steps,\n",
        "                        batch_size = config.batch_size,\n",
        "                        validation_data = (X_model_val, y_model_val),\n",
        "                        validation_steps = 5,\n",
        "                        callbacks = callbacks)\n",
        "  \n",
        "  run.join() #send end signal to wandb"
      ],
      "execution_count": null,
      "outputs": [
        {
          "output_type": "stream",
          "text": [
            "\u001b[34m\u001b[1mwandb\u001b[0m: Currently logged in as: \u001b[33mhong-dasol\u001b[0m (use `wandb login --relogin` to force relogin)\n"
          ],
          "name": "stderr"
        },
        {
          "output_type": "display_data",
          "data": {
            "text/html": [
              "\n",
              "                Tracking run with wandb version 0.10.32<br/>\n",
              "                Syncing run <strong style=\"color:#cdcd00\">celestial-rain-4</strong> to <a href=\"https://wandb.ai\" target=\"_blank\">Weights & Biases</a> <a href=\"https://docs.wandb.com/integrations/jupyter.html\" target=\"_blank\">(Documentation)</a>.<br/>\n",
              "                Project page: <a href=\"https://wandb.ai/hong-dasol/Final_AIAS\" target=\"_blank\">https://wandb.ai/hong-dasol/Final_AIAS</a><br/>\n",
              "                Run page: <a href=\"https://wandb.ai/hong-dasol/Final_AIAS/runs/3sqi62wm\" target=\"_blank\">https://wandb.ai/hong-dasol/Final_AIAS/runs/3sqi62wm</a><br/>\n",
              "                Run data is saved locally in <code>/content/wandb/run-20210612_144441-3sqi62wm</code><br/><br/>\n",
              "            "
            ],
            "text/plain": [
              "<IPython.core.display.HTML object>"
            ]
          },
          "metadata": {
            "tags": []
          }
        },
        {
          "output_type": "stream",
          "text": [
            "0 ImageInput - False\n",
            "1 concatenate - False\n",
            "2 conv1_pad - False\n",
            "3 conv1_conv - False\n",
            "4 conv1_bn - False\n",
            "5 conv1_relu - False\n",
            "6 pool1_pad - False\n",
            "7 pool1_pool - False\n",
            "8 conv2_block1_1_conv - False\n",
            "9 conv2_block1_1_bn - False\n",
            "10 conv2_block1_1_relu - False\n",
            "11 conv2_block1_2_conv - False\n",
            "12 conv2_block1_2_bn - False\n",
            "13 conv2_block1_2_relu - False\n",
            "14 conv2_block1_0_conv - False\n",
            "15 conv2_block1_3_conv - False\n",
            "16 conv2_block1_0_bn - False\n",
            "17 conv2_block1_3_bn - False\n",
            "18 conv2_block1_add - False\n",
            "19 conv2_block1_out - False\n",
            "20 conv2_block2_1_conv - False\n",
            "21 conv2_block2_1_bn - False\n",
            "22 conv2_block2_1_relu - False\n",
            "23 conv2_block2_2_conv - False\n",
            "24 conv2_block2_2_bn - False\n",
            "25 conv2_block2_2_relu - False\n",
            "26 conv2_block2_3_conv - False\n",
            "27 conv2_block2_3_bn - False\n",
            "28 conv2_block2_add - False\n",
            "29 conv2_block2_out - False\n",
            "30 conv2_block3_1_conv - False\n",
            "31 conv2_block3_1_bn - False\n",
            "32 conv2_block3_1_relu - False\n",
            "33 conv2_block3_2_conv - False\n",
            "34 conv2_block3_2_bn - False\n",
            "35 conv2_block3_2_relu - False\n",
            "36 conv2_block3_3_conv - False\n",
            "37 conv2_block3_3_bn - False\n",
            "38 conv2_block3_add - False\n",
            "39 conv2_block3_out - False\n",
            "40 conv3_block1_1_conv - False\n",
            "41 conv3_block1_1_bn - False\n",
            "42 conv3_block1_1_relu - False\n",
            "43 conv3_block1_2_conv - False\n",
            "44 conv3_block1_2_bn - False\n",
            "45 conv3_block1_2_relu - False\n",
            "46 conv3_block1_0_conv - False\n",
            "47 conv3_block1_3_conv - False\n",
            "48 conv3_block1_0_bn - False\n",
            "49 conv3_block1_3_bn - False\n",
            "50 conv3_block1_add - False\n",
            "51 conv3_block1_out - False\n",
            "52 conv3_block2_1_conv - False\n",
            "53 conv3_block2_1_bn - False\n",
            "54 conv3_block2_1_relu - False\n",
            "55 conv3_block2_2_conv - False\n",
            "56 conv3_block2_2_bn - False\n",
            "57 conv3_block2_2_relu - False\n",
            "58 conv3_block2_3_conv - False\n",
            "59 conv3_block2_3_bn - False\n",
            "60 conv3_block2_add - False\n",
            "61 conv3_block2_out - False\n",
            "62 conv3_block3_1_conv - False\n",
            "63 conv3_block3_1_bn - False\n",
            "64 conv3_block3_1_relu - False\n",
            "65 conv3_block3_2_conv - False\n",
            "66 conv3_block3_2_bn - False\n",
            "67 conv3_block3_2_relu - False\n",
            "68 conv3_block3_3_conv - False\n",
            "69 conv3_block3_3_bn - False\n",
            "70 conv3_block3_add - False\n",
            "71 conv3_block3_out - False\n",
            "72 conv3_block4_1_conv - False\n",
            "73 conv3_block4_1_bn - False\n",
            "74 conv3_block4_1_relu - False\n",
            "75 conv3_block4_2_conv - False\n",
            "76 conv3_block4_2_bn - False\n",
            "77 conv3_block4_2_relu - False\n",
            "78 conv3_block4_3_conv - False\n",
            "79 conv3_block4_3_bn - False\n",
            "80 conv3_block4_add - False\n",
            "81 conv3_block4_out - False\n",
            "82 conv4_block1_1_conv - False\n",
            "83 conv4_block1_1_bn - False\n",
            "84 conv4_block1_1_relu - False\n",
            "85 conv4_block1_2_conv - False\n",
            "86 conv4_block1_2_bn - False\n",
            "87 conv4_block1_2_relu - False\n",
            "88 conv4_block1_0_conv - False\n",
            "89 conv4_block1_3_conv - False\n",
            "90 conv4_block1_0_bn - False\n",
            "91 conv4_block1_3_bn - False\n",
            "92 conv4_block1_add - False\n",
            "93 conv4_block1_out - False\n",
            "94 conv4_block2_1_conv - False\n",
            "95 conv4_block2_1_bn - False\n",
            "96 conv4_block2_1_relu - False\n",
            "97 conv4_block2_2_conv - False\n",
            "98 conv4_block2_2_bn - False\n",
            "99 conv4_block2_2_relu - False\n",
            "100 conv4_block2_3_conv - False\n",
            "101 conv4_block2_3_bn - False\n",
            "102 conv4_block2_add - False\n",
            "103 conv4_block2_out - False\n",
            "104 conv4_block3_1_conv - False\n",
            "105 conv4_block3_1_bn - False\n",
            "106 conv4_block3_1_relu - False\n",
            "107 conv4_block3_2_conv - False\n",
            "108 conv4_block3_2_bn - False\n",
            "109 conv4_block3_2_relu - False\n",
            "110 conv4_block3_3_conv - False\n",
            "111 conv4_block3_3_bn - False\n",
            "112 conv4_block3_add - False\n",
            "113 conv4_block3_out - False\n",
            "114 conv4_block4_1_conv - False\n",
            "115 conv4_block4_1_bn - False\n",
            "116 conv4_block4_1_relu - False\n",
            "117 conv4_block4_2_conv - False\n",
            "118 conv4_block4_2_bn - False\n",
            "119 conv4_block4_2_relu - False\n",
            "120 conv4_block4_3_conv - False\n",
            "121 conv4_block4_3_bn - False\n",
            "122 conv4_block4_add - False\n",
            "123 conv4_block4_out - False\n",
            "124 conv4_block5_1_conv - False\n",
            "125 conv4_block5_1_bn - False\n",
            "126 conv4_block5_1_relu - False\n",
            "127 conv4_block5_2_conv - False\n",
            "128 conv4_block5_2_bn - False\n",
            "129 conv4_block5_2_relu - False\n",
            "130 conv4_block5_3_conv - False\n",
            "131 conv4_block5_3_bn - False\n",
            "132 conv4_block5_add - False\n",
            "133 conv4_block5_out - False\n",
            "134 conv4_block6_1_conv - False\n",
            "135 conv4_block6_1_bn - False\n",
            "136 conv4_block6_1_relu - False\n",
            "137 conv4_block6_2_conv - False\n",
            "138 conv4_block6_2_bn - False\n",
            "139 conv4_block6_2_relu - False\n",
            "140 conv4_block6_3_conv - False\n",
            "141 conv4_block6_3_bn - False\n",
            "142 conv4_block6_add - False\n",
            "143 conv4_block6_out - False\n",
            "144 conv5_block1_1_conv - True\n",
            "145 conv5_block1_1_bn - True\n",
            "146 conv5_block1_1_relu - True\n",
            "147 conv5_block1_2_conv - True\n",
            "148 conv5_block1_2_bn - True\n",
            "149 conv5_block1_2_relu - True\n",
            "150 conv5_block1_0_conv - True\n",
            "151 conv5_block1_3_conv - True\n",
            "152 conv5_block1_0_bn - True\n",
            "153 conv5_block1_3_bn - True\n",
            "154 conv5_block1_add - True\n",
            "155 conv5_block1_out - True\n",
            "156 conv5_block2_1_conv - True\n",
            "157 conv5_block2_1_bn - True\n",
            "158 conv5_block2_1_relu - True\n",
            "159 conv5_block2_2_conv - True\n",
            "160 conv5_block2_2_bn - True\n",
            "161 conv5_block2_2_relu - True\n",
            "162 conv5_block2_3_conv - True\n",
            "163 conv5_block2_3_bn - True\n",
            "164 conv5_block2_add - True\n",
            "165 conv5_block2_out - True\n",
            "166 conv5_block3_1_conv - True\n",
            "167 conv5_block3_1_bn - True\n",
            "168 conv5_block3_1_relu - True\n",
            "169 conv5_block3_2_conv - True\n",
            "170 conv5_block3_2_bn - True\n",
            "171 conv5_block3_2_relu - True\n",
            "172 conv5_block3_3_conv - True\n",
            "173 conv5_block3_3_bn - True\n",
            "174 conv5_block3_add - True\n",
            "175 conv5_block3_out - True\n",
            ">> Original\n",
            "      X_model_train: (4543, 224, 224)\n",
            "      y_model_train: (4543, 3)\n",
            ">> Oversampling\n",
            "after oversampling\n",
            "   X_model_train_oversampled (6543, 224, 224)\n",
            "   y_model_train_oversampled (6543, 3)\n",
            "\n",
            ">> Augmentation1\n",
            "      X_aug_train1: (6543, 224, 224)\n",
            "      X_aug_train2: (6543, 224, 224)\n",
            "      X_model_train: (17629, 224, 224)\n",
            "      y_model_train: (17629, 3)\n",
            ">> Augmentation2\n",
            "      X_aug_train3: (6543, 224, 224)\n",
            "      X_model_train: (24172, 224, 224)\n",
            "      y_model_train: (24172, 3)\n",
            ">> Undersampling\n",
            "      max_num: 8724\n",
            "      target_num: [   0  969 1031]\n",
            "      X_model_train_u: (2000, 224, 224)\n",
            "      X_model_train_u: (2000, 224, 224)\n",
            "      y_model_train_u: (2000, 3)\n",
            ">> final Concatenate \n",
            "      X_model_train: (26172, 224, 224)\n",
            "      y_model_train: (26172, 3)\n",
            "=== what I want ===\n",
            "data size:  26172\n",
            "batch_size:  32\n",
            "nb_epochs:  50\n",
            "nb_train_steps:  817\n",
            "\n",
            "Epoch 1/50\n",
            "818/818 [==============================] - 76s 71ms/step - loss: 1.2498 - accuracy: 0.6118 - val_loss: 1.3811 - val_accuracy: 0.7875\n",
            "\n",
            "Epoch 00001: val_loss improved from inf to 1.38107, saving model to /content/drive/MyDrive/AIAS/checkpoint/01-0.78750.h5\n"
          ],
          "name": "stdout"
        },
        {
          "output_type": "stream",
          "text": [
            "/usr/local/lib/python3.7/dist-packages/tensorflow/python/keras/utils/generic_utils.py:497: CustomMaskWarning: Custom mask layers require a config and must override get_config. When loading, the custom mask layer must be passed to the custom_objects argument.\n",
            "  category=CustomMaskWarning)\n"
          ],
          "name": "stderr"
        },
        {
          "output_type": "stream",
          "text": [
            "Epoch 2/50\n",
            "818/818 [==============================] - 57s 69ms/step - loss: 0.9853 - accuracy: 0.6798 - val_loss: 1.4064 - val_accuracy: 0.1875\n",
            "\n",
            "Epoch 00002: val_loss did not improve from 1.38107\n",
            "Epoch 3/50\n",
            "818/818 [==============================] - 57s 69ms/step - loss: 0.8550 - accuracy: 0.7099 - val_loss: 20.2034 - val_accuracy: 0.0000e+00\n",
            "\n",
            "Epoch 00003: val_loss did not improve from 1.38107\n",
            "Epoch 4/50\n",
            "818/818 [==============================] - 57s 69ms/step - loss: 0.7736 - accuracy: 0.7226 - val_loss: 1.5227 - val_accuracy: 0.3562\n",
            "\n",
            "Epoch 00004: val_loss did not improve from 1.38107\n",
            "Epoch 5/50\n",
            "818/818 [==============================] - 57s 69ms/step - loss: 0.7152 - accuracy: 0.7355 - val_loss: 1.2933 - val_accuracy: 0.5562\n",
            "\n",
            "Epoch 00005: val_loss improved from 1.38107 to 1.29331, saving model to /content/drive/MyDrive/AIAS/checkpoint/05-0.55625.h5\n",
            "Epoch 6/50\n",
            "818/818 [==============================] - 57s 69ms/step - loss: 0.6792 - accuracy: 0.7378 - val_loss: 1.0397 - val_accuracy: 0.5688\n",
            "\n",
            "Epoch 00006: ReduceLROnPlateau reducing learning rate to 4.999999873689376e-05.\n",
            "\n",
            "Epoch 00006: val_loss improved from 1.29331 to 1.03975, saving model to /content/drive/MyDrive/AIAS/checkpoint/06-0.56875.h5\n",
            "Epoch 7/50\n",
            "818/818 [==============================] - 57s 69ms/step - loss: 0.6308 - accuracy: 0.7544 - val_loss: 0.3503 - val_accuracy: 0.9875\n",
            "\n",
            "Epoch 00007: val_loss improved from 1.03975 to 0.35032, saving model to /content/drive/MyDrive/AIAS/checkpoint/07-0.98750.h5\n",
            "Epoch 8/50\n",
            "818/818 [==============================] - 57s 69ms/step - loss: 0.6054 - accuracy: 0.7624 - val_loss: 1.5865 - val_accuracy: 0.1375\n",
            "\n",
            "Epoch 00008: val_loss did not improve from 0.35032\n",
            "Epoch 9/50\n",
            "818/818 [==============================] - 57s 69ms/step - loss: 0.5881 - accuracy: 0.7694 - val_loss: 3.3936 - val_accuracy: 0.0000e+00\n",
            "\n",
            "Epoch 00009: val_loss did not improve from 0.35032\n",
            "Epoch 10/50\n",
            "818/818 [==============================] - 57s 69ms/step - loss: 0.5799 - accuracy: 0.7698 - val_loss: 1.9224 - val_accuracy: 0.0688\n",
            "\n",
            "Epoch 00010: val_loss did not improve from 0.35032\n",
            "Epoch 11/50\n",
            "818/818 [==============================] - 57s 69ms/step - loss: 0.5644 - accuracy: 0.7748 - val_loss: 0.8999 - val_accuracy: 0.5500\n",
            "\n",
            "Epoch 00011: val_loss did not improve from 0.35032\n",
            "Epoch 12/50\n",
            "818/818 [==============================] - 57s 69ms/step - loss: 0.5625 - accuracy: 0.7744 - val_loss: 6.8611 - val_accuracy: 0.1125\n",
            "\n",
            "Epoch 00012: ReduceLROnPlateau reducing learning rate to 2.499999936844688e-05.\n",
            "\n",
            "Epoch 00012: val_loss did not improve from 0.35032\n",
            "Epoch 13/50\n",
            "818/818 [==============================] - 57s 70ms/step - loss: 0.5260 - accuracy: 0.7904 - val_loss: 2.5614 - val_accuracy: 0.4563\n",
            "\n",
            "Epoch 00013: val_loss did not improve from 0.35032\n",
            "Epoch 14/50\n",
            "818/818 [==============================] - 57s 69ms/step - loss: 0.5105 - accuracy: 0.7979 - val_loss: 0.9201 - val_accuracy: 0.4875\n",
            "\n",
            "Epoch 00014: val_loss did not improve from 0.35032\n",
            "Epoch 15/50\n",
            "818/818 [==============================] - 57s 70ms/step - loss: 0.5014 - accuracy: 0.8015 - val_loss: 1.0092 - val_accuracy: 0.4875\n",
            "\n",
            "Epoch 00015: val_loss did not improve from 0.35032\n",
            "Epoch 16/50\n",
            "818/818 [==============================] - 57s 70ms/step - loss: 0.4931 - accuracy: 0.8061 - val_loss: 0.6042 - val_accuracy: 0.7500\n",
            "\n",
            "Epoch 00016: val_loss did not improve from 0.35032\n",
            "Epoch 17/50\n",
            "818/818 [==============================] - 57s 69ms/step - loss: 0.4910 - accuracy: 0.8043 - val_loss: 1.2693 - val_accuracy: 0.6375\n",
            "\n",
            "Epoch 00017: ReduceLROnPlateau reducing learning rate to 1.249999968422344e-05.\n",
            "\n",
            "Epoch 00017: val_loss did not improve from 0.35032\n",
            "Epoch 18/50\n",
            "818/818 [==============================] - 57s 69ms/step - loss: 0.4672 - accuracy: 0.8172 - val_loss: 0.7684 - val_accuracy: 0.7188\n",
            "\n",
            "Epoch 00018: val_loss did not improve from 0.35032\n",
            "Epoch 19/50\n",
            "818/818 [==============================] - 57s 69ms/step - loss: 0.4589 - accuracy: 0.8221 - val_loss: 0.8312 - val_accuracy: 0.7375\n",
            "\n",
            "Epoch 00019: val_loss did not improve from 0.35032\n",
            "Epoch 20/50\n",
            "818/818 [==============================] - 57s 69ms/step - loss: 0.4509 - accuracy: 0.8239 - val_loss: 0.5028 - val_accuracy: 0.8438\n",
            "\n",
            "Epoch 00020: val_loss did not improve from 0.35032\n",
            "Epoch 21/50\n",
            "818/818 [==============================] - 57s 70ms/step - loss: 0.4463 - accuracy: 0.8255 - val_loss: 1.0699 - val_accuracy: 0.4625\n",
            "\n",
            "Epoch 00021: val_loss did not improve from 0.35032\n",
            "Epoch 22/50\n",
            "818/818 [==============================] - 57s 70ms/step - loss: 0.4397 - accuracy: 0.8289 - val_loss: 0.5261 - val_accuracy: 0.8313\n",
            "\n",
            "Epoch 00022: ReduceLROnPlateau reducing learning rate to 6.24999984211172e-06.\n",
            "\n",
            "Epoch 00022: val_loss did not improve from 0.35032\n",
            "Epoch 23/50\n",
            "818/818 [==============================] - 57s 69ms/step - loss: 0.4227 - accuracy: 0.8367 - val_loss: 0.9704 - val_accuracy: 0.5813\n",
            "\n",
            "Epoch 00023: val_loss did not improve from 0.35032\n",
            "Epoch 24/50\n",
            "818/818 [==============================] - 57s 70ms/step - loss: 0.4178 - accuracy: 0.8399 - val_loss: 0.7035 - val_accuracy: 0.7563\n",
            "\n",
            "Epoch 00024: val_loss did not improve from 0.35032\n",
            "Epoch 25/50\n",
            "818/818 [==============================] - 57s 70ms/step - loss: 0.4133 - accuracy: 0.8432 - val_loss: 0.8168 - val_accuracy: 0.7188\n",
            "\n",
            "Epoch 00025: val_loss did not improve from 0.35032\n",
            "Epoch 26/50\n",
            "818/818 [==============================] - 57s 70ms/step - loss: 0.4115 - accuracy: 0.8444 - val_loss: 0.9394 - val_accuracy: 0.7063\n",
            "\n",
            "Epoch 00026: val_loss did not improve from 0.35032\n",
            "Epoch 27/50\n",
            "818/818 [==============================] - 57s 70ms/step - loss: 0.4048 - accuracy: 0.8471 - val_loss: 0.7017 - val_accuracy: 0.7625\n",
            "\n",
            "Epoch 00027: ReduceLROnPlateau reducing learning rate to 3.12499992105586e-06.\n",
            "\n",
            "Epoch 00027: val_loss did not improve from 0.35032\n",
            "Epoch 28/50\n",
            "818/818 [==============================] - 57s 70ms/step - loss: 0.3999 - accuracy: 0.8517 - val_loss: 0.6375 - val_accuracy: 0.8000\n",
            "\n",
            "Epoch 00028: val_loss did not improve from 0.35032\n",
            "Epoch 29/50\n",
            "818/818 [==============================] - 57s 69ms/step - loss: 0.3941 - accuracy: 0.8525 - val_loss: 0.4019 - val_accuracy: 0.8562\n",
            "\n",
            "Epoch 00029: val_loss did not improve from 0.35032\n",
            "Epoch 30/50\n",
            "818/818 [==============================] - 57s 69ms/step - loss: 0.3911 - accuracy: 0.8528 - val_loss: 0.4329 - val_accuracy: 0.8562\n",
            "\n",
            "Epoch 00030: val_loss did not improve from 0.35032\n",
            "Epoch 31/50\n",
            "818/818 [==============================] - 57s 69ms/step - loss: 0.3897 - accuracy: 0.8545 - val_loss: 0.5267 - val_accuracy: 0.8125\n",
            "\n",
            "Epoch 00031: val_loss did not improve from 0.35032\n",
            "Epoch 32/50\n",
            "818/818 [==============================] - 57s 69ms/step - loss: 0.3859 - accuracy: 0.8564 - val_loss: 0.8480 - val_accuracy: 0.7125\n",
            "\n",
            "Epoch 00032: ReduceLROnPlateau reducing learning rate to 1.56249996052793e-06.\n",
            "\n",
            "Epoch 00032: val_loss did not improve from 0.35032\n",
            "Epoch 33/50\n",
            "818/818 [==============================] - 57s 69ms/step - loss: 0.3794 - accuracy: 0.8576 - val_loss: 0.6074 - val_accuracy: 0.7812\n",
            "\n",
            "Epoch 00033: val_loss did not improve from 0.35032\n",
            "Epoch 34/50\n",
            "818/818 [==============================] - 57s 70ms/step - loss: 0.3773 - accuracy: 0.8594 - val_loss: 0.5813 - val_accuracy: 0.8062\n",
            "\n",
            "Epoch 00034: val_loss did not improve from 0.35032\n",
            "Epoch 35/50\n",
            "818/818 [==============================] - 57s 69ms/step - loss: 0.3820 - accuracy: 0.8582 - val_loss: 0.6189 - val_accuracy: 0.7625\n",
            "\n",
            "Epoch 00035: val_loss did not improve from 0.35032\n",
            "Epoch 36/50\n",
            "818/818 [==============================] - 57s 70ms/step - loss: 0.3776 - accuracy: 0.8611 - val_loss: 0.6287 - val_accuracy: 0.7812\n",
            "\n",
            "Epoch 00036: val_loss did not improve from 0.35032\n",
            "Epoch 37/50\n",
            "818/818 [==============================] - 57s 70ms/step - loss: 0.3788 - accuracy: 0.8591 - val_loss: 0.8354 - val_accuracy: 0.7188\n",
            "\n",
            "Epoch 00037: ReduceLROnPlateau reducing learning rate to 7.81249980263965e-07.\n",
            "\n",
            "Epoch 00037: val_loss did not improve from 0.35032\n",
            "Epoch 38/50\n",
            "818/818 [==============================] - 57s 70ms/step - loss: 0.3752 - accuracy: 0.8611 - val_loss: 0.7248 - val_accuracy: 0.7437\n",
            "\n",
            "Epoch 00038: val_loss did not improve from 0.35032\n",
            "Epoch 39/50\n",
            "818/818 [==============================] - 57s 69ms/step - loss: 0.3703 - accuracy: 0.8630 - val_loss: 0.6955 - val_accuracy: 0.7563\n",
            "\n",
            "Epoch 00039: val_loss did not improve from 0.35032\n",
            "Epoch 40/50\n",
            "818/818 [==============================] - 57s 70ms/step - loss: 0.3713 - accuracy: 0.8619 - val_loss: 0.7074 - val_accuracy: 0.7563\n",
            "\n",
            "Epoch 00040: val_loss did not improve from 0.35032\n",
            "Epoch 41/50\n",
            "818/818 [==============================] - 57s 69ms/step - loss: 0.3767 - accuracy: 0.8605 - val_loss: 0.6595 - val_accuracy: 0.7812\n",
            "\n",
            "Epoch 00041: val_loss did not improve from 0.35032\n",
            "Epoch 42/50\n",
            "818/818 [==============================] - 57s 69ms/step - loss: 0.3708 - accuracy: 0.8634 - val_loss: 0.6524 - val_accuracy: 0.7812\n",
            "\n",
            "Epoch 00042: ReduceLROnPlateau reducing learning rate to 3.906249901319825e-07.\n",
            "\n",
            "Epoch 00042: val_loss did not improve from 0.35032\n",
            "Epoch 43/50\n",
            "818/818 [==============================] - 57s 69ms/step - loss: 0.3660 - accuracy: 0.8645 - val_loss: 0.6954 - val_accuracy: 0.7500\n",
            "\n",
            "Epoch 00043: val_loss did not improve from 0.35032\n",
            "Epoch 44/50\n",
            "818/818 [==============================] - 57s 69ms/step - loss: 0.3689 - accuracy: 0.8649 - val_loss: 0.7437 - val_accuracy: 0.7437\n",
            "\n",
            "Epoch 00044: val_loss did not improve from 0.35032\n",
            "Epoch 45/50\n",
            "818/818 [==============================] - 56s 69ms/step - loss: 0.3661 - accuracy: 0.8647 - val_loss: 0.7119 - val_accuracy: 0.7500\n",
            "\n",
            "Epoch 00045: val_loss did not improve from 0.35032\n",
            "Epoch 46/50\n",
            "818/818 [==============================] - 57s 69ms/step - loss: 0.3641 - accuracy: 0.8668 - val_loss: 0.7116 - val_accuracy: 0.7625\n",
            "\n",
            "Epoch 00046: val_loss did not improve from 0.35032\n",
            "Epoch 47/50\n",
            "818/818 [==============================] - 57s 69ms/step - loss: 0.3678 - accuracy: 0.8640 - val_loss: 0.6519 - val_accuracy: 0.7875\n",
            "\n",
            "Epoch 00047: ReduceLROnPlateau reducing learning rate to 1.9531249506599124e-07.\n",
            "\n",
            "Epoch 00047: val_loss did not improve from 0.35032\n",
            "Epoch 48/50\n",
            "818/818 [==============================] - 56s 69ms/step - loss: 0.3666 - accuracy: 0.8667 - val_loss: 0.6876 - val_accuracy: 0.7750\n",
            "\n",
            "Epoch 00048: val_loss did not improve from 0.35032\n",
            "Epoch 49/50\n",
            "818/818 [==============================] - 57s 69ms/step - loss: 0.3663 - accuracy: 0.8651 - val_loss: 0.7047 - val_accuracy: 0.7625\n",
            "\n",
            "Epoch 00049: val_loss did not improve from 0.35032\n",
            "Epoch 50/50\n",
            "818/818 [==============================] - 56s 69ms/step - loss: 0.3664 - accuracy: 0.8660 - val_loss: 0.7281 - val_accuracy: 0.7563\n",
            "\n",
            "Epoch 00050: val_loss did not improve from 0.35032\n",
            "18/18 [==============================] - 1s 64ms/step - loss: 0.6093 - accuracy: 0.7758\n",
            "18/18 [==============================] - 1s 53ms/step - loss: 0.6093 - accuracy: 0.7758\n",
            "Loss on test set:  0.6093\n",
            "Accuracy on test set:  0.7758\n",
            "\n"
          ],
          "name": "stdout"
        },
        {
          "output_type": "display_data",
          "data": {
            "text/html": [
              "<br/>Waiting for W&B process to finish, PID 2607<br/>Program ended successfully."
            ],
            "text/plain": [
              "<IPython.core.display.HTML object>"
            ]
          },
          "metadata": {
            "tags": []
          }
        },
        {
          "output_type": "display_data",
          "data": {
            "application/vnd.jupyter.widget-view+json": {
              "model_id": "6ac3dead0e8d42919652b80a8586d596",
              "version_minor": 0,
              "version_major": 2
            },
            "text/plain": [
              "VBox(children=(Label(value=' 211.33MB of 211.33MB uploaded (0.00MB deduped)\\r'), FloatProgress(value=1.0, max=…"
            ]
          },
          "metadata": {
            "tags": []
          }
        },
        {
          "output_type": "display_data",
          "data": {
            "text/html": [
              "Find user logs for this run at: <code>/content/wandb/run-20210612_144441-3sqi62wm/logs/debug.log</code>"
            ],
            "text/plain": [
              "<IPython.core.display.HTML object>"
            ]
          },
          "metadata": {
            "tags": []
          }
        },
        {
          "output_type": "display_data",
          "data": {
            "text/html": [
              "Find internal logs for this run at: <code>/content/wandb/run-20210612_144441-3sqi62wm/logs/debug-internal.log</code>"
            ],
            "text/plain": [
              "<IPython.core.display.HTML object>"
            ]
          },
          "metadata": {
            "tags": []
          }
        },
        {
          "output_type": "display_data",
          "data": {
            "text/html": [
              "<h3>Run summary:</h3><br/><style>\n",
              "    table.wandb td:nth-child(1) { padding: 0 10px; text-align: right }\n",
              "    </style><table class=\"wandb\">\n",
              "<tr><td>epoch</td><td>49</td></tr><tr><td>loss</td><td>0.36638</td></tr><tr><td>accuracy</td><td>0.86604</td></tr><tr><td>val_loss</td><td>0.72812</td></tr><tr><td>val_accuracy</td><td>0.75625</td></tr><tr><td>lr</td><td>0.0</td></tr><tr><td>_runtime</td><td>2945</td></tr><tr><td>_timestamp</td><td>1623512026</td></tr><tr><td>_step</td><td>49</td></tr><tr><td>best_val_loss</td><td>0.35032</td></tr><tr><td>best_epoch</td><td>6</td></tr></table>"
            ],
            "text/plain": [
              "<IPython.core.display.HTML object>"
            ]
          },
          "metadata": {
            "tags": []
          }
        },
        {
          "output_type": "display_data",
          "data": {
            "text/html": [
              "<h3>Run history:</h3><br/><style>\n",
              "    table.wandb td:nth-child(1) { padding: 0 10px; text-align: right }\n",
              "    </style><table class=\"wandb\">\n",
              "<tr><td>epoch</td><td>▁▁▁▁▂▂▂▂▂▃▃▃▃▃▃▄▄▄▄▄▅▅▅▅▅▅▆▆▆▆▆▆▇▇▇▇▇███</td></tr><tr><td>loss</td><td>█▆▅▄▃▃▃▃▃▃▂▂▂▂▂▂▂▂▁▁▁▁▁▁▁▁▁▁▁▁▁▁▁▁▁▁▁▁▁▁</td></tr><tr><td>accuracy</td><td>▁▃▄▄▄▅▅▅▅▅▆▆▆▆▇▇▇▇▇▇▇▇██████████████████</td></tr><tr><td>val_loss</td><td>▁▁█▁▁▁▁▂▁▃▂▁▁▁▁▁▁▁▁▁▁▁▁▁▁▁▁▁▁▁▁▁▁▁▁▁▁▁▁▁</td></tr><tr><td>val_accuracy</td><td>▇▂▁▄▅█▂▁▅▂▄▄▆▆▆▆▄▇▅▆▆▆▇▇▇▆▇▇▇▆▆▆▇▇▆▆▆▇▆▆</td></tr><tr><td>lr</td><td>█████▄▄▄▄▄▃▃▃▃▂▂▂▂▁▁▁▁▁▁▁▁▁▁▁▁▁▁▁▁▁▁▁▁▁▁</td></tr><tr><td>_runtime</td><td>▁▁▁▁▂▂▂▂▂▃▃▃▃▃▃▄▄▄▄▄▅▅▅▅▅▅▆▆▆▆▆▆▇▇▇▇▇███</td></tr><tr><td>_timestamp</td><td>▁▁▁▁▂▂▂▂▂▃▃▃▃▃▃▄▄▄▄▄▅▅▅▅▅▅▆▆▆▆▆▆▇▇▇▇▇███</td></tr><tr><td>_step</td><td>▁▁▁▁▂▂▂▂▂▃▃▃▃▃▃▄▄▄▄▄▅▅▅▅▅▅▆▆▆▆▆▆▇▇▇▇▇███</td></tr></table><br/>"
            ],
            "text/plain": [
              "<IPython.core.display.HTML object>"
            ]
          },
          "metadata": {
            "tags": []
          }
        },
        {
          "output_type": "display_data",
          "data": {
            "text/html": [
              "Synced 5 W&B file(s), 1 media file(s), 0 artifact file(s) and 1 other file(s)"
            ],
            "text/plain": [
              "<IPython.core.display.HTML object>"
            ]
          },
          "metadata": {
            "tags": []
          }
        },
        {
          "output_type": "display_data",
          "data": {
            "text/html": [
              "\n",
              "                    <br/>Synced <strong style=\"color:#cdcd00\">celestial-rain-4</strong>: <a href=\"https://wandb.ai/hong-dasol/Final_AIAS/runs/3sqi62wm\" target=\"_blank\">https://wandb.ai/hong-dasol/Final_AIAS/runs/3sqi62wm</a><br/>\n",
              "                "
            ],
            "text/plain": [
              "<IPython.core.display.HTML object>"
            ]
          },
          "metadata": {
            "tags": []
          }
        },
        {
          "output_type": "display_data",
          "data": {
            "text/html": [
              "\n",
              "                Tracking run with wandb version 0.10.32<br/>\n",
              "                Syncing run <strong style=\"color:#cdcd00\">driven-violet-5</strong> to <a href=\"https://wandb.ai\" target=\"_blank\">Weights & Biases</a> <a href=\"https://docs.wandb.com/integrations/jupyter.html\" target=\"_blank\">(Documentation)</a>.<br/>\n",
              "                Project page: <a href=\"https://wandb.ai/hong-dasol/Final_AIAS\" target=\"_blank\">https://wandb.ai/hong-dasol/Final_AIAS</a><br/>\n",
              "                Run page: <a href=\"https://wandb.ai/hong-dasol/Final_AIAS/runs/3jav4sks\" target=\"_blank\">https://wandb.ai/hong-dasol/Final_AIAS/runs/3jav4sks</a><br/>\n",
              "                Run data is saved locally in <code>/content/wandb/run-20210612_153354-3jav4sks</code><br/><br/>\n",
              "            "
            ],
            "text/plain": [
              "<IPython.core.display.HTML object>"
            ]
          },
          "metadata": {
            "tags": []
          }
        },
        {
          "output_type": "stream",
          "text": [
            "0 ImageInput - False\n",
            "1 concatenate - False\n",
            "2 conv1_pad - False\n",
            "3 conv1_conv - False\n",
            "4 conv1_bn - False\n",
            "5 conv1_relu - False\n",
            "6 pool1_pad - False\n",
            "7 pool1_pool - False\n",
            "8 conv2_block1_1_conv - False\n",
            "9 conv2_block1_1_bn - False\n",
            "10 conv2_block1_1_relu - False\n",
            "11 conv2_block1_2_conv - False\n",
            "12 conv2_block1_2_bn - False\n",
            "13 conv2_block1_2_relu - False\n",
            "14 conv2_block1_0_conv - False\n",
            "15 conv2_block1_3_conv - False\n",
            "16 conv2_block1_0_bn - False\n",
            "17 conv2_block1_3_bn - False\n",
            "18 conv2_block1_add - False\n",
            "19 conv2_block1_out - False\n",
            "20 conv2_block2_1_conv - False\n",
            "21 conv2_block2_1_bn - False\n",
            "22 conv2_block2_1_relu - False\n",
            "23 conv2_block2_2_conv - False\n",
            "24 conv2_block2_2_bn - False\n",
            "25 conv2_block2_2_relu - False\n",
            "26 conv2_block2_3_conv - False\n",
            "27 conv2_block2_3_bn - False\n",
            "28 conv2_block2_add - False\n",
            "29 conv2_block2_out - False\n",
            "30 conv2_block3_1_conv - False\n",
            "31 conv2_block3_1_bn - False\n",
            "32 conv2_block3_1_relu - False\n",
            "33 conv2_block3_2_conv - False\n",
            "34 conv2_block3_2_bn - False\n",
            "35 conv2_block3_2_relu - False\n",
            "36 conv2_block3_3_conv - False\n",
            "37 conv2_block3_3_bn - False\n",
            "38 conv2_block3_add - False\n",
            "39 conv2_block3_out - False\n",
            "40 conv3_block1_1_conv - False\n",
            "41 conv3_block1_1_bn - False\n",
            "42 conv3_block1_1_relu - False\n",
            "43 conv3_block1_2_conv - False\n",
            "44 conv3_block1_2_bn - False\n",
            "45 conv3_block1_2_relu - False\n",
            "46 conv3_block1_0_conv - False\n",
            "47 conv3_block1_3_conv - False\n",
            "48 conv3_block1_0_bn - False\n",
            "49 conv3_block1_3_bn - False\n",
            "50 conv3_block1_add - False\n",
            "51 conv3_block1_out - False\n",
            "52 conv3_block2_1_conv - False\n",
            "53 conv3_block2_1_bn - False\n",
            "54 conv3_block2_1_relu - False\n",
            "55 conv3_block2_2_conv - False\n",
            "56 conv3_block2_2_bn - False\n",
            "57 conv3_block2_2_relu - False\n",
            "58 conv3_block2_3_conv - False\n",
            "59 conv3_block2_3_bn - False\n",
            "60 conv3_block2_add - False\n",
            "61 conv3_block2_out - False\n",
            "62 conv3_block3_1_conv - False\n",
            "63 conv3_block3_1_bn - False\n",
            "64 conv3_block3_1_relu - False\n",
            "65 conv3_block3_2_conv - False\n",
            "66 conv3_block3_2_bn - False\n",
            "67 conv3_block3_2_relu - False\n",
            "68 conv3_block3_3_conv - False\n",
            "69 conv3_block3_3_bn - False\n",
            "70 conv3_block3_add - False\n",
            "71 conv3_block3_out - False\n",
            "72 conv3_block4_1_conv - False\n",
            "73 conv3_block4_1_bn - False\n",
            "74 conv3_block4_1_relu - False\n",
            "75 conv3_block4_2_conv - False\n",
            "76 conv3_block4_2_bn - False\n",
            "77 conv3_block4_2_relu - False\n",
            "78 conv3_block4_3_conv - False\n",
            "79 conv3_block4_3_bn - False\n",
            "80 conv3_block4_add - False\n",
            "81 conv3_block4_out - False\n",
            "82 conv4_block1_1_conv - False\n",
            "83 conv4_block1_1_bn - False\n",
            "84 conv4_block1_1_relu - False\n",
            "85 conv4_block1_2_conv - False\n",
            "86 conv4_block1_2_bn - False\n",
            "87 conv4_block1_2_relu - False\n",
            "88 conv4_block1_0_conv - False\n",
            "89 conv4_block1_3_conv - False\n",
            "90 conv4_block1_0_bn - False\n",
            "91 conv4_block1_3_bn - False\n",
            "92 conv4_block1_add - False\n",
            "93 conv4_block1_out - False\n",
            "94 conv4_block2_1_conv - False\n",
            "95 conv4_block2_1_bn - False\n",
            "96 conv4_block2_1_relu - False\n",
            "97 conv4_block2_2_conv - False\n",
            "98 conv4_block2_2_bn - False\n",
            "99 conv4_block2_2_relu - False\n",
            "100 conv4_block2_3_conv - False\n",
            "101 conv4_block2_3_bn - False\n",
            "102 conv4_block2_add - False\n",
            "103 conv4_block2_out - False\n",
            "104 conv4_block3_1_conv - False\n",
            "105 conv4_block3_1_bn - False\n",
            "106 conv4_block3_1_relu - False\n",
            "107 conv4_block3_2_conv - False\n",
            "108 conv4_block3_2_bn - False\n",
            "109 conv4_block3_2_relu - False\n",
            "110 conv4_block3_3_conv - False\n",
            "111 conv4_block3_3_bn - False\n",
            "112 conv4_block3_add - False\n",
            "113 conv4_block3_out - False\n",
            "114 conv4_block4_1_conv - False\n",
            "115 conv4_block4_1_bn - False\n",
            "116 conv4_block4_1_relu - False\n",
            "117 conv4_block4_2_conv - False\n",
            "118 conv4_block4_2_bn - False\n",
            "119 conv4_block4_2_relu - False\n",
            "120 conv4_block4_3_conv - False\n",
            "121 conv4_block4_3_bn - False\n",
            "122 conv4_block4_add - False\n",
            "123 conv4_block4_out - False\n",
            "124 conv4_block5_1_conv - False\n",
            "125 conv4_block5_1_bn - False\n",
            "126 conv4_block5_1_relu - False\n",
            "127 conv4_block5_2_conv - False\n",
            "128 conv4_block5_2_bn - False\n",
            "129 conv4_block5_2_relu - False\n",
            "130 conv4_block5_3_conv - False\n",
            "131 conv4_block5_3_bn - False\n",
            "132 conv4_block5_add - False\n",
            "133 conv4_block5_out - False\n",
            "134 conv4_block6_1_conv - False\n",
            "135 conv4_block6_1_bn - False\n",
            "136 conv4_block6_1_relu - False\n",
            "137 conv4_block6_2_conv - False\n",
            "138 conv4_block6_2_bn - False\n",
            "139 conv4_block6_2_relu - False\n",
            "140 conv4_block6_3_conv - False\n",
            "141 conv4_block6_3_bn - False\n",
            "142 conv4_block6_add - False\n",
            "143 conv4_block6_out - False\n",
            "144 conv5_block1_1_conv - True\n",
            "145 conv5_block1_1_bn - True\n",
            "146 conv5_block1_1_relu - True\n",
            "147 conv5_block1_2_conv - True\n",
            "148 conv5_block1_2_bn - True\n",
            "149 conv5_block1_2_relu - True\n",
            "150 conv5_block1_0_conv - True\n",
            "151 conv5_block1_3_conv - True\n",
            "152 conv5_block1_0_bn - True\n",
            "153 conv5_block1_3_bn - True\n",
            "154 conv5_block1_add - True\n",
            "155 conv5_block1_out - True\n",
            "156 conv5_block2_1_conv - True\n",
            "157 conv5_block2_1_bn - True\n",
            "158 conv5_block2_1_relu - True\n",
            "159 conv5_block2_2_conv - True\n",
            "160 conv5_block2_2_bn - True\n",
            "161 conv5_block2_2_relu - True\n",
            "162 conv5_block2_3_conv - True\n",
            "163 conv5_block2_3_bn - True\n",
            "164 conv5_block2_add - True\n",
            "165 conv5_block2_out - True\n",
            "166 conv5_block3_1_conv - True\n",
            "167 conv5_block3_1_bn - True\n",
            "168 conv5_block3_1_relu - True\n",
            "169 conv5_block3_2_conv - True\n",
            "170 conv5_block3_2_bn - True\n",
            "171 conv5_block3_2_relu - True\n",
            "172 conv5_block3_3_conv - True\n",
            "173 conv5_block3_3_bn - True\n",
            "174 conv5_block3_add - True\n",
            "175 conv5_block3_out - True\n",
            ">> Original\n",
            "      X_model_train: (4543, 224, 224)\n",
            "      y_model_train: (4543, 3)\n",
            ">> Oversampling\n",
            "after oversampling\n",
            "   X_model_train_oversampled (6573, 224, 224)\n",
            "   y_model_train_oversampled (6573, 3)\n",
            "\n",
            ">> Augmentation1\n",
            "      X_aug_train1: (6573, 224, 224)\n",
            "      X_aug_train2: (6573, 224, 224)\n",
            "      X_model_train: (17689, 224, 224)\n",
            "      y_model_train: (17689, 3)\n",
            ">> Augmentation2\n",
            "      X_aug_train3: (6573, 224, 224)\n",
            "      X_model_train: (24262, 224, 224)\n",
            "      y_model_train: (24262, 3)\n",
            ">> Undersampling\n",
            "      max_num: 8764\n",
            "      target_num: [   0  985 1045]\n",
            "      X_model_train_u: (2030, 224, 224)\n",
            "      X_model_train_u: (2030, 224, 224)\n",
            "      y_model_train_u: (2030, 3)\n",
            ">> final Concatenate \n",
            "      X_model_train: (26292, 224, 224)\n",
            "      y_model_train: (26292, 3)\n",
            "=== what I want ===\n",
            "data size:  26292\n",
            "batch_size:  32\n",
            "nb_epochs:  50\n",
            "nb_train_steps:  821\n",
            "\n",
            "Epoch 1/50\n",
            "822/822 [==============================] - 61s 70ms/step - loss: 1.2347 - accuracy: 0.6320 - val_loss: 0.8109 - val_accuracy: 0.8625\n",
            "\n",
            "Epoch 00001: val_loss did not improve from 0.35032\n",
            "Epoch 2/50\n",
            "822/822 [==============================] - 57s 69ms/step - loss: 0.9815 - accuracy: 0.6934 - val_loss: 0.7429 - val_accuracy: 0.8562\n",
            "\n",
            "Epoch 00002: val_loss did not improve from 0.35032\n",
            "Epoch 3/50\n",
            "822/822 [==============================] - 57s 69ms/step - loss: 0.8496 - accuracy: 0.7164 - val_loss: 5.3068 - val_accuracy: 0.0000e+00\n",
            "\n",
            "Epoch 00003: val_loss did not improve from 0.35032\n",
            "Epoch 4/50\n",
            "822/822 [==============================] - 57s 69ms/step - loss: 0.7747 - accuracy: 0.7283 - val_loss: 1.7415 - val_accuracy: 0.1875\n",
            "\n",
            "Epoch 00004: val_loss did not improve from 0.35032\n",
            "Epoch 5/50\n",
            "822/822 [==============================] - 57s 69ms/step - loss: 0.7161 - accuracy: 0.7368 - val_loss: 0.5305 - val_accuracy: 0.9000\n",
            "\n",
            "Epoch 00005: val_loss did not improve from 0.35032\n",
            "Epoch 6/50\n",
            "822/822 [==============================] - 57s 69ms/step - loss: 0.6711 - accuracy: 0.7459 - val_loss: 9.0236 - val_accuracy: 0.0000e+00\n",
            "\n",
            "Epoch 00006: val_loss did not improve from 0.35032\n",
            "Epoch 7/50\n",
            "822/822 [==============================] - 57s 69ms/step - loss: 0.6438 - accuracy: 0.7479 - val_loss: 12.9117 - val_accuracy: 0.0063\n",
            "\n",
            "Epoch 00007: val_loss did not improve from 0.35032\n",
            "Epoch 8/50\n",
            "822/822 [==============================] - 57s 69ms/step - loss: 0.6182 - accuracy: 0.7565 - val_loss: 0.7932 - val_accuracy: 0.6250\n",
            "\n",
            "Epoch 00008: val_loss did not improve from 0.35032\n",
            "Epoch 9/50\n",
            "822/822 [==============================] - 57s 70ms/step - loss: 0.6011 - accuracy: 0.7573 - val_loss: 3.8441 - val_accuracy: 0.1125\n",
            "\n",
            "Epoch 00009: val_loss did not improve from 0.35032\n",
            "Epoch 10/50\n",
            "822/822 [==============================] - 57s 69ms/step - loss: 0.5884 - accuracy: 0.7633 - val_loss: 3.6299 - val_accuracy: 0.3000\n",
            "\n",
            "Epoch 00010: ReduceLROnPlateau reducing learning rate to 4.999999873689376e-05.\n",
            "\n",
            "Epoch 00010: val_loss did not improve from 0.35032\n",
            "Epoch 11/50\n",
            "822/822 [==============================] - 57s 69ms/step - loss: 0.5493 - accuracy: 0.7793 - val_loss: 0.2122 - val_accuracy: 0.9750\n",
            "\n",
            "Epoch 00011: val_loss improved from 0.35032 to 0.21219, saving model to /content/drive/MyDrive/AIAS/checkpoint/11-0.97500.h5\n",
            "Epoch 12/50\n",
            "822/822 [==============================] - 57s 69ms/step - loss: 0.5377 - accuracy: 0.7815 - val_loss: 3.7018 - val_accuracy: 0.0000e+00\n",
            "\n",
            "Epoch 00012: val_loss did not improve from 0.21219\n",
            "Epoch 13/50\n",
            "822/822 [==============================] - 57s 69ms/step - loss: 0.5231 - accuracy: 0.7859 - val_loss: 3.4179 - val_accuracy: 0.0312\n",
            "\n",
            "Epoch 00013: val_loss did not improve from 0.21219\n",
            "Epoch 14/50\n",
            "822/822 [==============================] - 57s 69ms/step - loss: 0.5080 - accuracy: 0.7927 - val_loss: 0.5985 - val_accuracy: 0.8000\n",
            "\n",
            "Epoch 00014: val_loss did not improve from 0.21219\n",
            "Epoch 15/50\n",
            "822/822 [==============================] - 57s 69ms/step - loss: 0.5058 - accuracy: 0.7914 - val_loss: 2.0099 - val_accuracy: 0.0562\n",
            "\n",
            "Epoch 00015: val_loss did not improve from 0.21219\n",
            "Epoch 16/50\n",
            "822/822 [==============================] - 57s 69ms/step - loss: 0.4929 - accuracy: 0.8002 - val_loss: 0.0762 - val_accuracy: 0.9937\n",
            "\n",
            "Epoch 00016: val_loss improved from 0.21219 to 0.07616, saving model to /content/drive/MyDrive/AIAS/checkpoint/16-0.99375.h5\n",
            "Epoch 17/50\n",
            "822/822 [==============================] - 57s 69ms/step - loss: 0.4833 - accuracy: 0.8013 - val_loss: 1.3532 - val_accuracy: 0.7812\n",
            "\n",
            "Epoch 00017: val_loss did not improve from 0.07616\n",
            "Epoch 18/50\n",
            "822/822 [==============================] - 57s 69ms/step - loss: 0.4807 - accuracy: 0.8026 - val_loss: 0.1402 - val_accuracy: 0.9812\n",
            "\n",
            "Epoch 00018: val_loss did not improve from 0.07616\n",
            "Epoch 19/50\n",
            "822/822 [==============================] - 57s 69ms/step - loss: 0.4736 - accuracy: 0.8052 - val_loss: 3.1544 - val_accuracy: 0.0063\n",
            "\n",
            "Epoch 00019: val_loss did not improve from 0.07616\n",
            "Epoch 20/50\n",
            "822/822 [==============================] - 57s 69ms/step - loss: 0.4652 - accuracy: 0.8053 - val_loss: 0.8973 - val_accuracy: 0.4688\n",
            "\n",
            "Epoch 00020: val_loss did not improve from 0.07616\n",
            "Epoch 21/50\n",
            "822/822 [==============================] - 57s 69ms/step - loss: 0.4606 - accuracy: 0.8086 - val_loss: 1.1622 - val_accuracy: 0.7563\n",
            "\n",
            "Epoch 00021: ReduceLROnPlateau reducing learning rate to 2.499999936844688e-05.\n",
            "\n",
            "Epoch 00021: val_loss did not improve from 0.07616\n",
            "Epoch 22/50\n",
            "822/822 [==============================] - 57s 70ms/step - loss: 0.4335 - accuracy: 0.8241 - val_loss: 0.4237 - val_accuracy: 0.8188\n",
            "\n",
            "Epoch 00022: val_loss did not improve from 0.07616\n",
            "Epoch 23/50\n",
            "822/822 [==============================] - 57s 69ms/step - loss: 0.4256 - accuracy: 0.8251 - val_loss: 1.2161 - val_accuracy: 0.3313\n",
            "\n",
            "Epoch 00023: val_loss did not improve from 0.07616\n",
            "Epoch 24/50\n",
            "822/822 [==============================] - 57s 69ms/step - loss: 0.4175 - accuracy: 0.8269 - val_loss: 1.1082 - val_accuracy: 0.7000\n",
            "\n",
            "Epoch 00024: val_loss did not improve from 0.07616\n",
            "Epoch 25/50\n",
            "822/822 [==============================] - 57s 69ms/step - loss: 0.4101 - accuracy: 0.8307 - val_loss: 1.6963 - val_accuracy: 0.7000\n",
            "\n",
            "Epoch 00025: val_loss did not improve from 0.07616\n",
            "Epoch 26/50\n",
            "822/822 [==============================] - 57s 69ms/step - loss: 0.4083 - accuracy: 0.8356 - val_loss: 0.6235 - val_accuracy: 0.8813\n",
            "\n",
            "Epoch 00026: ReduceLROnPlateau reducing learning rate to 1.249999968422344e-05.\n",
            "\n",
            "Epoch 00026: val_loss did not improve from 0.07616\n",
            "Epoch 27/50\n",
            "822/822 [==============================] - 57s 70ms/step - loss: 0.3835 - accuracy: 0.8425 - val_loss: 0.2850 - val_accuracy: 0.8813\n",
            "\n",
            "Epoch 00027: val_loss did not improve from 0.07616\n",
            "Epoch 28/50\n",
            "822/822 [==============================] - 57s 69ms/step - loss: 0.3765 - accuracy: 0.8455 - val_loss: 0.2529 - val_accuracy: 0.9187\n",
            "\n",
            "Epoch 00028: val_loss did not improve from 0.07616\n",
            "Epoch 29/50\n",
            "822/822 [==============================] - 57s 69ms/step - loss: 0.3713 - accuracy: 0.8484 - val_loss: 1.1818 - val_accuracy: 0.3625\n",
            "\n",
            "Epoch 00029: val_loss did not improve from 0.07616\n",
            "Epoch 30/50\n",
            "822/822 [==============================] - 57s 69ms/step - loss: 0.3702 - accuracy: 0.8498 - val_loss: 0.7163 - val_accuracy: 0.7000\n",
            "\n",
            "Epoch 00030: val_loss did not improve from 0.07616\n",
            "Epoch 31/50\n",
            "822/822 [==============================] - 57s 69ms/step - loss: 0.3679 - accuracy: 0.8497 - val_loss: 0.6126 - val_accuracy: 0.8500\n",
            "\n",
            "Epoch 00031: ReduceLROnPlateau reducing learning rate to 6.24999984211172e-06.\n",
            "\n",
            "Epoch 00031: val_loss did not improve from 0.07616\n",
            "Epoch 32/50\n",
            "822/822 [==============================] - 57s 69ms/step - loss: 0.3494 - accuracy: 0.8592 - val_loss: 0.3508 - val_accuracy: 0.8687\n",
            "\n",
            "Epoch 00032: val_loss did not improve from 0.07616\n",
            "Epoch 33/50\n",
            "822/822 [==============================] - 57s 69ms/step - loss: 0.3489 - accuracy: 0.8607 - val_loss: 0.8480 - val_accuracy: 0.5688\n",
            "\n",
            "Epoch 00033: val_loss did not improve from 0.07616\n",
            "Epoch 34/50\n",
            "822/822 [==============================] - 57s 69ms/step - loss: 0.3456 - accuracy: 0.8610 - val_loss: 0.8099 - val_accuracy: 0.7688\n",
            "\n",
            "Epoch 00034: val_loss did not improve from 0.07616\n",
            "Epoch 35/50\n",
            "822/822 [==============================] - 57s 69ms/step - loss: 0.3448 - accuracy: 0.8612 - val_loss: 0.6473 - val_accuracy: 0.8875\n",
            "\n",
            "Epoch 00035: val_loss did not improve from 0.07616\n",
            "Epoch 36/50\n",
            "822/822 [==============================] - 57s 69ms/step - loss: 0.3414 - accuracy: 0.8642 - val_loss: 0.7424 - val_accuracy: 0.6438\n",
            "\n",
            "Epoch 00036: ReduceLROnPlateau reducing learning rate to 3.12499992105586e-06.\n",
            "\n",
            "Epoch 00036: val_loss did not improve from 0.07616\n",
            "Epoch 37/50\n",
            "822/822 [==============================] - 57s 69ms/step - loss: 0.3325 - accuracy: 0.8664 - val_loss: 0.7216 - val_accuracy: 0.7563\n",
            "\n",
            "Epoch 00037: val_loss did not improve from 0.07616\n",
            "Epoch 38/50\n",
            "822/822 [==============================] - 57s 69ms/step - loss: 0.3284 - accuracy: 0.8668 - val_loss: 0.6616 - val_accuracy: 0.7188\n",
            "\n",
            "Epoch 00038: val_loss did not improve from 0.07616\n",
            "Epoch 39/50\n",
            "822/822 [==============================] - 57s 69ms/step - loss: 0.3274 - accuracy: 0.8702 - val_loss: 0.7864 - val_accuracy: 0.6750\n",
            "\n",
            "Epoch 00039: val_loss did not improve from 0.07616\n",
            "Epoch 40/50\n",
            "822/822 [==============================] - 57s 70ms/step - loss: 0.3272 - accuracy: 0.8717 - val_loss: 1.0485 - val_accuracy: 0.5312\n",
            "\n",
            "Epoch 00040: val_loss did not improve from 0.07616\n",
            "Epoch 41/50\n",
            "822/822 [==============================] - 57s 70ms/step - loss: 0.3246 - accuracy: 0.8712 - val_loss: 0.7148 - val_accuracy: 0.6812\n",
            "\n",
            "Epoch 00041: ReduceLROnPlateau reducing learning rate to 1.56249996052793e-06.\n",
            "\n",
            "Epoch 00041: val_loss did not improve from 0.07616\n",
            "Epoch 42/50\n",
            "822/822 [==============================] - 57s 70ms/step - loss: 0.3215 - accuracy: 0.8733 - val_loss: 0.7362 - val_accuracy: 0.7125\n",
            "\n",
            "Epoch 00042: val_loss did not improve from 0.07616\n",
            "Epoch 43/50\n",
            "822/822 [==============================] - 57s 69ms/step - loss: 0.3226 - accuracy: 0.8736 - val_loss: 0.6991 - val_accuracy: 0.7250\n",
            "\n",
            "Epoch 00043: val_loss did not improve from 0.07616\n",
            "Epoch 44/50\n",
            "822/822 [==============================] - 57s 69ms/step - loss: 0.3215 - accuracy: 0.8728 - val_loss: 0.7566 - val_accuracy: 0.6938\n",
            "\n",
            "Epoch 00044: val_loss did not improve from 0.07616\n",
            "Epoch 45/50\n",
            "822/822 [==============================] - 57s 69ms/step - loss: 0.3195 - accuracy: 0.8751 - val_loss: 0.6152 - val_accuracy: 0.7625\n",
            "\n",
            "Epoch 00045: val_loss did not improve from 0.07616\n",
            "Epoch 46/50\n",
            "822/822 [==============================] - 57s 69ms/step - loss: 0.3160 - accuracy: 0.8747 - val_loss: 0.6915 - val_accuracy: 0.7063\n",
            "\n",
            "Epoch 00046: ReduceLROnPlateau reducing learning rate to 7.81249980263965e-07.\n",
            "\n",
            "Epoch 00046: val_loss did not improve from 0.07616\n",
            "Epoch 47/50\n",
            "822/822 [==============================] - 57s 69ms/step - loss: 0.3145 - accuracy: 0.8757 - val_loss: 0.7814 - val_accuracy: 0.6812\n",
            "\n",
            "Epoch 00047: val_loss did not improve from 0.07616\n",
            "Epoch 48/50\n",
            "822/822 [==============================] - 57s 69ms/step - loss: 0.3134 - accuracy: 0.8768 - val_loss: 0.7575 - val_accuracy: 0.7000\n",
            "\n",
            "Epoch 00048: val_loss did not improve from 0.07616\n",
            "Epoch 49/50\n",
            "822/822 [==============================] - 57s 69ms/step - loss: 0.3115 - accuracy: 0.8764 - val_loss: 0.8442 - val_accuracy: 0.6375\n",
            "\n",
            "Epoch 00049: val_loss did not improve from 0.07616\n",
            "Epoch 50/50\n",
            "822/822 [==============================] - 57s 69ms/step - loss: 0.3125 - accuracy: 0.8771 - val_loss: 0.7103 - val_accuracy: 0.7063\n",
            "\n",
            "Epoch 00050: val_loss did not improve from 0.07616\n",
            "18/18 [==============================] - 1s 53ms/step - loss: 0.5910 - accuracy: 0.7706\n",
            "18/18 [==============================] - 1s 53ms/step - loss: 0.5910 - accuracy: 0.7706\n",
            "Loss on test set:  0.5910\n",
            "Accuracy on test set:  0.7706\n",
            "\n"
          ],
          "name": "stdout"
        },
        {
          "output_type": "display_data",
          "data": {
            "text/html": [
              "<br/>Waiting for W&B process to finish, PID 3125<br/>Program ended successfully."
            ],
            "text/plain": [
              "<IPython.core.display.HTML object>"
            ]
          },
          "metadata": {
            "tags": []
          }
        },
        {
          "output_type": "display_data",
          "data": {
            "application/vnd.jupyter.widget-view+json": {
              "model_id": "e4eba8c961aa4314853215ad9a0d97fc",
              "version_minor": 0,
              "version_major": 2
            },
            "text/plain": [
              "VBox(children=(Label(value=' 211.33MB of 211.33MB uploaded (0.00MB deduped)\\r'), FloatProgress(value=1.0, max=…"
            ]
          },
          "metadata": {
            "tags": []
          }
        },
        {
          "output_type": "display_data",
          "data": {
            "text/html": [
              "Find user logs for this run at: <code>/content/wandb/run-20210612_153354-3jav4sks/logs/debug.log</code>"
            ],
            "text/plain": [
              "<IPython.core.display.HTML object>"
            ]
          },
          "metadata": {
            "tags": []
          }
        },
        {
          "output_type": "display_data",
          "data": {
            "text/html": [
              "Find internal logs for this run at: <code>/content/wandb/run-20210612_153354-3jav4sks/logs/debug-internal.log</code>"
            ],
            "text/plain": [
              "<IPython.core.display.HTML object>"
            ]
          },
          "metadata": {
            "tags": []
          }
        },
        {
          "output_type": "display_data",
          "data": {
            "text/html": [
              "<h3>Run summary:</h3><br/><style>\n",
              "    table.wandb td:nth-child(1) { padding: 0 10px; text-align: right }\n",
              "    </style><table class=\"wandb\">\n",
              "<tr><td>epoch</td><td>49</td></tr><tr><td>loss</td><td>0.31252</td></tr><tr><td>accuracy</td><td>0.87707</td></tr><tr><td>val_loss</td><td>0.71026</td></tr><tr><td>val_accuracy</td><td>0.70625</td></tr><tr><td>lr</td><td>0.0</td></tr><tr><td>_runtime</td><td>2944</td></tr><tr><td>_timestamp</td><td>1623514978</td></tr><tr><td>_step</td><td>49</td></tr><tr><td>best_val_loss</td><td>0.07616</td></tr><tr><td>best_epoch</td><td>15</td></tr></table>"
            ],
            "text/plain": [
              "<IPython.core.display.HTML object>"
            ]
          },
          "metadata": {
            "tags": []
          }
        },
        {
          "output_type": "display_data",
          "data": {
            "text/html": [
              "<h3>Run history:</h3><br/><style>\n",
              "    table.wandb td:nth-child(1) { padding: 0 10px; text-align: right }\n",
              "    </style><table class=\"wandb\">\n",
              "<tr><td>epoch</td><td>▁▁▁▁▂▂▂▂▂▃▃▃▃▃▃▄▄▄▄▄▅▅▅▅▅▅▆▆▆▆▆▆▇▇▇▇▇███</td></tr><tr><td>loss</td><td>█▆▅▅▄▄▃▃▃▃▃▂▂▂▂▂▂▂▂▂▂▂▁▁▁▁▁▁▁▁▁▁▁▁▁▁▁▁▁▁</td></tr><tr><td>accuracy</td><td>▁▃▃▄▄▄▅▅▅▅▅▆▆▆▆▆▆▆▇▇▇▇▇▇▇▇██████████████</td></tr><tr><td>val_loss</td><td>▁▁▄▂▆█▁▃▁▃▃▁▁▂▁▃▂▁▂▂▁▁▁▂▁▁▁▁▁▁▁▁▁▁▁▁▁▁▁▁</td></tr><tr><td>val_accuracy</td><td>▇▇▁▂▁▁▅▂█▁▁▇█▇█▁▆▇▃▆▇▇▇▄▇▇▅▆▆▆▆▆▆▆▆▆▆▆▆▆</td></tr><tr><td>lr</td><td>████████▄▄▄▄▄▄▄▄▄▃▃▃▃▂▂▂▂▁▁▁▁▁▁▁▁▁▁▁▁▁▁▁</td></tr><tr><td>_runtime</td><td>▁▁▁▁▂▂▂▂▂▃▃▃▃▃▃▄▄▄▄▄▅▅▅▅▅▅▆▆▆▆▆▆▇▇▇▇▇███</td></tr><tr><td>_timestamp</td><td>▁▁▁▁▂▂▂▂▂▃▃▃▃▃▃▄▄▄▄▄▅▅▅▅▅▅▆▆▆▆▆▆▇▇▇▇▇███</td></tr><tr><td>_step</td><td>▁▁▁▁▂▂▂▂▂▃▃▃▃▃▃▄▄▄▄▄▅▅▅▅▅▅▆▆▆▆▆▆▇▇▇▇▇███</td></tr></table><br/>"
            ],
            "text/plain": [
              "<IPython.core.display.HTML object>"
            ]
          },
          "metadata": {
            "tags": []
          }
        },
        {
          "output_type": "display_data",
          "data": {
            "text/html": [
              "Synced 5 W&B file(s), 1 media file(s), 0 artifact file(s) and 1 other file(s)"
            ],
            "text/plain": [
              "<IPython.core.display.HTML object>"
            ]
          },
          "metadata": {
            "tags": []
          }
        },
        {
          "output_type": "display_data",
          "data": {
            "text/html": [
              "\n",
              "                    <br/>Synced <strong style=\"color:#cdcd00\">driven-violet-5</strong>: <a href=\"https://wandb.ai/hong-dasol/Final_AIAS/runs/3jav4sks\" target=\"_blank\">https://wandb.ai/hong-dasol/Final_AIAS/runs/3jav4sks</a><br/>\n",
              "                "
            ],
            "text/plain": [
              "<IPython.core.display.HTML object>"
            ]
          },
          "metadata": {
            "tags": []
          }
        },
        {
          "output_type": "display_data",
          "data": {
            "text/html": [
              "\n",
              "                Tracking run with wandb version 0.10.32<br/>\n",
              "                Syncing run <strong style=\"color:#cdcd00\">wise-cloud-6</strong> to <a href=\"https://wandb.ai\" target=\"_blank\">Weights & Biases</a> <a href=\"https://docs.wandb.com/integrations/jupyter.html\" target=\"_blank\">(Documentation)</a>.<br/>\n",
              "                Project page: <a href=\"https://wandb.ai/hong-dasol/Final_AIAS\" target=\"_blank\">https://wandb.ai/hong-dasol/Final_AIAS</a><br/>\n",
              "                Run page: <a href=\"https://wandb.ai/hong-dasol/Final_AIAS/runs/2pnn9r88\" target=\"_blank\">https://wandb.ai/hong-dasol/Final_AIAS/runs/2pnn9r88</a><br/>\n",
              "                Run data is saved locally in <code>/content/wandb/run-20210612_162305-2pnn9r88</code><br/><br/>\n",
              "            "
            ],
            "text/plain": [
              "<IPython.core.display.HTML object>"
            ]
          },
          "metadata": {
            "tags": []
          }
        },
        {
          "output_type": "stream",
          "text": [
            "0 ImageInput - False\n",
            "1 concatenate - False\n",
            "2 conv1_pad - False\n",
            "3 conv1_conv - False\n",
            "4 conv1_bn - False\n",
            "5 conv1_relu - False\n",
            "6 pool1_pad - False\n",
            "7 pool1_pool - False\n",
            "8 conv2_block1_1_conv - False\n",
            "9 conv2_block1_1_bn - False\n",
            "10 conv2_block1_1_relu - False\n",
            "11 conv2_block1_2_conv - False\n",
            "12 conv2_block1_2_bn - False\n",
            "13 conv2_block1_2_relu - False\n",
            "14 conv2_block1_0_conv - False\n",
            "15 conv2_block1_3_conv - False\n",
            "16 conv2_block1_0_bn - False\n",
            "17 conv2_block1_3_bn - False\n",
            "18 conv2_block1_add - False\n",
            "19 conv2_block1_out - False\n",
            "20 conv2_block2_1_conv - False\n",
            "21 conv2_block2_1_bn - False\n",
            "22 conv2_block2_1_relu - False\n",
            "23 conv2_block2_2_conv - False\n",
            "24 conv2_block2_2_bn - False\n",
            "25 conv2_block2_2_relu - False\n",
            "26 conv2_block2_3_conv - False\n",
            "27 conv2_block2_3_bn - False\n",
            "28 conv2_block2_add - False\n",
            "29 conv2_block2_out - False\n",
            "30 conv2_block3_1_conv - False\n",
            "31 conv2_block3_1_bn - False\n",
            "32 conv2_block3_1_relu - False\n",
            "33 conv2_block3_2_conv - False\n",
            "34 conv2_block3_2_bn - False\n",
            "35 conv2_block3_2_relu - False\n",
            "36 conv2_block3_3_conv - False\n",
            "37 conv2_block3_3_bn - False\n",
            "38 conv2_block3_add - False\n",
            "39 conv2_block3_out - False\n",
            "40 conv3_block1_1_conv - False\n",
            "41 conv3_block1_1_bn - False\n",
            "42 conv3_block1_1_relu - False\n",
            "43 conv3_block1_2_conv - False\n",
            "44 conv3_block1_2_bn - False\n",
            "45 conv3_block1_2_relu - False\n",
            "46 conv3_block1_0_conv - False\n",
            "47 conv3_block1_3_conv - False\n",
            "48 conv3_block1_0_bn - False\n",
            "49 conv3_block1_3_bn - False\n",
            "50 conv3_block1_add - False\n",
            "51 conv3_block1_out - False\n",
            "52 conv3_block2_1_conv - False\n",
            "53 conv3_block2_1_bn - False\n",
            "54 conv3_block2_1_relu - False\n",
            "55 conv3_block2_2_conv - False\n",
            "56 conv3_block2_2_bn - False\n",
            "57 conv3_block2_2_relu - False\n",
            "58 conv3_block2_3_conv - False\n",
            "59 conv3_block2_3_bn - False\n",
            "60 conv3_block2_add - False\n",
            "61 conv3_block2_out - False\n",
            "62 conv3_block3_1_conv - False\n",
            "63 conv3_block3_1_bn - False\n",
            "64 conv3_block3_1_relu - False\n",
            "65 conv3_block3_2_conv - False\n",
            "66 conv3_block3_2_bn - False\n",
            "67 conv3_block3_2_relu - False\n",
            "68 conv3_block3_3_conv - False\n",
            "69 conv3_block3_3_bn - False\n",
            "70 conv3_block3_add - False\n",
            "71 conv3_block3_out - False\n",
            "72 conv3_block4_1_conv - False\n",
            "73 conv3_block4_1_bn - False\n",
            "74 conv3_block4_1_relu - False\n",
            "75 conv3_block4_2_conv - False\n",
            "76 conv3_block4_2_bn - False\n",
            "77 conv3_block4_2_relu - False\n",
            "78 conv3_block4_3_conv - False\n",
            "79 conv3_block4_3_bn - False\n",
            "80 conv3_block4_add - False\n",
            "81 conv3_block4_out - False\n",
            "82 conv4_block1_1_conv - False\n",
            "83 conv4_block1_1_bn - False\n",
            "84 conv4_block1_1_relu - False\n",
            "85 conv4_block1_2_conv - False\n",
            "86 conv4_block1_2_bn - False\n",
            "87 conv4_block1_2_relu - False\n",
            "88 conv4_block1_0_conv - False\n",
            "89 conv4_block1_3_conv - False\n",
            "90 conv4_block1_0_bn - False\n",
            "91 conv4_block1_3_bn - False\n",
            "92 conv4_block1_add - False\n",
            "93 conv4_block1_out - False\n",
            "94 conv4_block2_1_conv - False\n",
            "95 conv4_block2_1_bn - False\n",
            "96 conv4_block2_1_relu - False\n",
            "97 conv4_block2_2_conv - False\n",
            "98 conv4_block2_2_bn - False\n",
            "99 conv4_block2_2_relu - False\n",
            "100 conv4_block2_3_conv - False\n",
            "101 conv4_block2_3_bn - False\n",
            "102 conv4_block2_add - False\n",
            "103 conv4_block2_out - False\n",
            "104 conv4_block3_1_conv - False\n",
            "105 conv4_block3_1_bn - False\n",
            "106 conv4_block3_1_relu - False\n",
            "107 conv4_block3_2_conv - False\n",
            "108 conv4_block3_2_bn - False\n",
            "109 conv4_block3_2_relu - False\n",
            "110 conv4_block3_3_conv - False\n",
            "111 conv4_block3_3_bn - False\n",
            "112 conv4_block3_add - False\n",
            "113 conv4_block3_out - False\n",
            "114 conv4_block4_1_conv - False\n",
            "115 conv4_block4_1_bn - False\n",
            "116 conv4_block4_1_relu - False\n",
            "117 conv4_block4_2_conv - False\n",
            "118 conv4_block4_2_bn - False\n",
            "119 conv4_block4_2_relu - False\n",
            "120 conv4_block4_3_conv - False\n",
            "121 conv4_block4_3_bn - False\n",
            "122 conv4_block4_add - False\n",
            "123 conv4_block4_out - False\n",
            "124 conv4_block5_1_conv - False\n",
            "125 conv4_block5_1_bn - False\n",
            "126 conv4_block5_1_relu - False\n",
            "127 conv4_block5_2_conv - False\n",
            "128 conv4_block5_2_bn - False\n",
            "129 conv4_block5_2_relu - False\n",
            "130 conv4_block5_3_conv - False\n",
            "131 conv4_block5_3_bn - False\n",
            "132 conv4_block5_add - False\n",
            "133 conv4_block5_out - False\n",
            "134 conv4_block6_1_conv - False\n",
            "135 conv4_block6_1_bn - False\n",
            "136 conv4_block6_1_relu - False\n",
            "137 conv4_block6_2_conv - False\n",
            "138 conv4_block6_2_bn - False\n",
            "139 conv4_block6_2_relu - False\n",
            "140 conv4_block6_3_conv - False\n",
            "141 conv4_block6_3_bn - False\n",
            "142 conv4_block6_add - False\n",
            "143 conv4_block6_out - False\n",
            "144 conv5_block1_1_conv - True\n",
            "145 conv5_block1_1_bn - True\n",
            "146 conv5_block1_1_relu - True\n",
            "147 conv5_block1_2_conv - True\n",
            "148 conv5_block1_2_bn - True\n",
            "149 conv5_block1_2_relu - True\n",
            "150 conv5_block1_0_conv - True\n",
            "151 conv5_block1_3_conv - True\n",
            "152 conv5_block1_0_bn - True\n",
            "153 conv5_block1_3_bn - True\n",
            "154 conv5_block1_add - True\n",
            "155 conv5_block1_out - True\n",
            "156 conv5_block2_1_conv - True\n",
            "157 conv5_block2_1_bn - True\n",
            "158 conv5_block2_1_relu - True\n",
            "159 conv5_block2_2_conv - True\n",
            "160 conv5_block2_2_bn - True\n",
            "161 conv5_block2_2_relu - True\n",
            "162 conv5_block2_3_conv - True\n",
            "163 conv5_block2_3_bn - True\n",
            "164 conv5_block2_add - True\n",
            "165 conv5_block2_out - True\n",
            "166 conv5_block3_1_conv - True\n",
            "167 conv5_block3_1_bn - True\n",
            "168 conv5_block3_1_relu - True\n",
            "169 conv5_block3_2_conv - True\n",
            "170 conv5_block3_2_bn - True\n",
            "171 conv5_block3_2_relu - True\n",
            "172 conv5_block3_3_conv - True\n",
            "173 conv5_block3_3_bn - True\n",
            "174 conv5_block3_add - True\n",
            "175 conv5_block3_out - True\n",
            ">> Original\n",
            "      X_model_train: (4543, 224, 224)\n",
            "      y_model_train: (4543, 3)\n",
            ">> Oversampling\n",
            "after oversampling\n",
            "   X_model_train_oversampled (6501, 224, 224)\n",
            "   y_model_train_oversampled (6501, 3)\n",
            "\n",
            ">> Augmentation1\n",
            "      X_aug_train1: (6501, 224, 224)\n",
            "      X_aug_train2: (6501, 224, 224)\n",
            "      X_model_train: (17545, 224, 224)\n",
            "      y_model_train: (17545, 3)\n",
            ">> Augmentation2\n",
            "      X_aug_train3: (6501, 224, 224)\n",
            "      X_model_train: (24046, 224, 224)\n",
            "      y_model_train: (24046, 3)\n",
            ">> Undersampling\n",
            "      max_num: 8668\n",
            "      target_num: [   0  952 1006]\n",
            "      X_model_train_u: (1958, 224, 224)\n",
            "      X_model_train_u: (1958, 224, 224)\n",
            "      y_model_train_u: (1958, 3)\n",
            ">> final Concatenate \n",
            "      X_model_train: (26004, 224, 224)\n",
            "      y_model_train: (26004, 3)\n",
            "=== what I want ===\n",
            "data size:  26004\n",
            "batch_size:  32\n",
            "nb_epochs:  50\n",
            "nb_train_steps:  812\n",
            "\n",
            "Epoch 1/50\n",
            "813/813 [==============================] - 60s 70ms/step - loss: 1.2570 - accuracy: 0.6115 - val_loss: 0.7861 - val_accuracy: 0.9062\n",
            "\n",
            "Epoch 00001: val_loss did not improve from 0.07616\n",
            "Epoch 2/50\n",
            "813/813 [==============================] - 56s 69ms/step - loss: 0.9923 - accuracy: 0.6825 - val_loss: 9.8799 - val_accuracy: 0.0437\n",
            "\n",
            "Epoch 00002: val_loss did not improve from 0.07616\n",
            "Epoch 3/50\n",
            "813/813 [==============================] - 56s 69ms/step - loss: 0.8648 - accuracy: 0.7075 - val_loss: 4.3199 - val_accuracy: 0.2375\n",
            "\n",
            "Epoch 00003: val_loss did not improve from 0.07616\n",
            "Epoch 4/50\n",
            "813/813 [==============================] - 56s 69ms/step - loss: 0.7781 - accuracy: 0.7217 - val_loss: 1.8089 - val_accuracy: 0.0562\n",
            "\n",
            "Epoch 00004: val_loss did not improve from 0.07616\n",
            "Epoch 5/50\n",
            "813/813 [==============================] - 56s 69ms/step - loss: 0.7213 - accuracy: 0.7315 - val_loss: 1.0206 - val_accuracy: 0.7188\n",
            "\n",
            "Epoch 00005: val_loss did not improve from 0.07616\n",
            "Epoch 6/50\n",
            "813/813 [==============================] - 56s 69ms/step - loss: 0.6836 - accuracy: 0.7359 - val_loss: 0.3729 - val_accuracy: 0.9937\n",
            "\n",
            "Epoch 00006: val_loss did not improve from 0.07616\n",
            "Epoch 7/50\n",
            "813/813 [==============================] - 56s 69ms/step - loss: 0.6498 - accuracy: 0.7415 - val_loss: 2.0792 - val_accuracy: 0.0500\n",
            "\n",
            "Epoch 00007: val_loss did not improve from 0.07616\n",
            "Epoch 8/50\n",
            "813/813 [==============================] - 56s 69ms/step - loss: 0.6262 - accuracy: 0.7483 - val_loss: 2.5162 - val_accuracy: 0.0000e+00\n",
            "\n",
            "Epoch 00008: val_loss did not improve from 0.07616\n",
            "Epoch 9/50\n",
            "813/813 [==============================] - 57s 70ms/step - loss: 0.6125 - accuracy: 0.7514 - val_loss: 1.1046 - val_accuracy: 0.0875\n",
            "\n",
            "Epoch 00009: val_loss did not improve from 0.07616\n",
            "Epoch 10/50\n",
            "813/813 [==============================] - 56s 69ms/step - loss: 0.5957 - accuracy: 0.7571 - val_loss: 4.8508 - val_accuracy: 0.0375\n",
            "\n",
            "Epoch 00010: val_loss did not improve from 0.07616\n",
            "Epoch 11/50\n",
            "813/813 [==============================] - 56s 69ms/step - loss: 0.5854 - accuracy: 0.7553 - val_loss: 0.3814 - val_accuracy: 0.9062\n",
            "\n",
            "Epoch 00011: ReduceLROnPlateau reducing learning rate to 4.999999873689376e-05.\n",
            "\n",
            "Epoch 00011: val_loss did not improve from 0.07616\n",
            "Epoch 12/50\n",
            "813/813 [==============================] - 56s 69ms/step - loss: 0.5510 - accuracy: 0.7699 - val_loss: 1.1964 - val_accuracy: 0.4187\n",
            "\n",
            "Epoch 00012: val_loss did not improve from 0.07616\n",
            "Epoch 13/50\n",
            "813/813 [==============================] - 56s 69ms/step - loss: 0.5348 - accuracy: 0.7803 - val_loss: 2.4642 - val_accuracy: 0.1000\n",
            "\n",
            "Epoch 00013: val_loss did not improve from 0.07616\n",
            "Epoch 14/50\n",
            "813/813 [==============================] - 56s 69ms/step - loss: 0.5296 - accuracy: 0.7808 - val_loss: 0.8431 - val_accuracy: 0.5500\n",
            "\n",
            "Epoch 00014: val_loss did not improve from 0.07616\n",
            "Epoch 15/50\n",
            "813/813 [==============================] - 56s 69ms/step - loss: 0.5174 - accuracy: 0.7850 - val_loss: 0.3241 - val_accuracy: 0.9500\n",
            "\n",
            "Epoch 00015: val_loss did not improve from 0.07616\n",
            "Epoch 16/50\n",
            "813/813 [==============================] - 56s 69ms/step - loss: 0.5072 - accuracy: 0.7902 - val_loss: 2.1785 - val_accuracy: 0.0437\n",
            "\n",
            "Epoch 00016: ReduceLROnPlateau reducing learning rate to 2.499999936844688e-05.\n",
            "\n",
            "Epoch 00016: val_loss did not improve from 0.07616\n",
            "Epoch 17/50\n",
            "813/813 [==============================] - 57s 70ms/step - loss: 0.4826 - accuracy: 0.8003 - val_loss: 1.3211 - val_accuracy: 0.3313\n",
            "\n",
            "Epoch 00017: val_loss did not improve from 0.07616\n",
            "Epoch 18/50\n",
            "813/813 [==============================] - 56s 69ms/step - loss: 0.4745 - accuracy: 0.8038 - val_loss: 1.8585 - val_accuracy: 0.2000\n",
            "\n",
            "Epoch 00018: val_loss did not improve from 0.07616\n",
            "Epoch 19/50\n",
            "813/813 [==============================] - 56s 69ms/step - loss: 0.4731 - accuracy: 0.8035 - val_loss: 1.6211 - val_accuracy: 0.6000\n",
            "\n",
            "Epoch 00019: val_loss did not improve from 0.07616\n",
            "Epoch 20/50\n",
            "813/813 [==============================] - 56s 69ms/step - loss: 0.4593 - accuracy: 0.8103 - val_loss: 1.7663 - val_accuracy: 0.5000\n",
            "\n",
            "Epoch 00020: val_loss did not improve from 0.07616\n",
            "Epoch 21/50\n",
            "813/813 [==============================] - 57s 70ms/step - loss: 0.4556 - accuracy: 0.8123 - val_loss: 0.8095 - val_accuracy: 0.5500\n",
            "\n",
            "Epoch 00021: ReduceLROnPlateau reducing learning rate to 1.249999968422344e-05.\n",
            "\n",
            "Epoch 00021: val_loss did not improve from 0.07616\n",
            "Epoch 22/50\n",
            "813/813 [==============================] - 56s 69ms/step - loss: 0.4394 - accuracy: 0.8184 - val_loss: 1.3559 - val_accuracy: 0.2750\n",
            "\n",
            "Epoch 00022: val_loss did not improve from 0.07616\n",
            "Epoch 23/50\n",
            "813/813 [==============================] - 56s 69ms/step - loss: 0.4325 - accuracy: 0.8232 - val_loss: 0.7707 - val_accuracy: 0.8250\n",
            "\n",
            "Epoch 00023: val_loss did not improve from 0.07616\n",
            "Epoch 24/50\n",
            "813/813 [==============================] - 56s 69ms/step - loss: 0.4287 - accuracy: 0.8256 - val_loss: 1.0288 - val_accuracy: 0.5250\n",
            "\n",
            "Epoch 00024: val_loss did not improve from 0.07616\n",
            "Epoch 25/50\n",
            "813/813 [==============================] - 56s 69ms/step - loss: 0.4242 - accuracy: 0.8272 - val_loss: 2.1093 - val_accuracy: 0.5375\n",
            "\n",
            "Epoch 00025: val_loss did not improve from 0.07616\n",
            "Epoch 26/50\n",
            "813/813 [==============================] - 56s 69ms/step - loss: 0.4247 - accuracy: 0.8283 - val_loss: 1.2567 - val_accuracy: 0.4437\n",
            "\n",
            "Epoch 00026: ReduceLROnPlateau reducing learning rate to 6.24999984211172e-06.\n",
            "\n",
            "Epoch 00026: val_loss did not improve from 0.07616\n",
            "Epoch 27/50\n",
            "813/813 [==============================] - 56s 69ms/step - loss: 0.4091 - accuracy: 0.8356 - val_loss: 0.3731 - val_accuracy: 0.8625\n",
            "\n",
            "Epoch 00027: val_loss did not improve from 0.07616\n",
            "Epoch 28/50\n",
            "813/813 [==============================] - 56s 69ms/step - loss: 0.4067 - accuracy: 0.8349 - val_loss: 1.7802 - val_accuracy: 0.4750\n",
            "\n",
            "Epoch 00028: val_loss did not improve from 0.07616\n",
            "Epoch 29/50\n",
            "813/813 [==============================] - 56s 69ms/step - loss: 0.3998 - accuracy: 0.8371 - val_loss: 0.2982 - val_accuracy: 0.9000\n",
            "\n",
            "Epoch 00029: val_loss did not improve from 0.07616\n",
            "Epoch 30/50\n",
            "813/813 [==============================] - 56s 69ms/step - loss: 0.4016 - accuracy: 0.8385 - val_loss: 0.5824 - val_accuracy: 0.8250\n",
            "\n",
            "Epoch 00030: val_loss did not improve from 0.07616\n",
            "Epoch 31/50\n",
            "813/813 [==============================] - 56s 69ms/step - loss: 0.3930 - accuracy: 0.8411 - val_loss: 0.6039 - val_accuracy: 0.8062\n",
            "\n",
            "Epoch 00031: ReduceLROnPlateau reducing learning rate to 3.12499992105586e-06.\n",
            "\n",
            "Epoch 00031: val_loss did not improve from 0.07616\n",
            "Epoch 32/50\n",
            "813/813 [==============================] - 56s 69ms/step - loss: 0.3891 - accuracy: 0.8438 - val_loss: 0.7399 - val_accuracy: 0.6687\n",
            "\n",
            "Epoch 00032: val_loss did not improve from 0.07616\n",
            "Epoch 33/50\n",
            "813/813 [==============================] - 56s 69ms/step - loss: 0.3865 - accuracy: 0.8439 - val_loss: 0.5746 - val_accuracy: 0.7250\n",
            "\n",
            "Epoch 00033: val_loss did not improve from 0.07616\n",
            "Epoch 34/50\n",
            "813/813 [==============================] - 56s 69ms/step - loss: 0.3875 - accuracy: 0.8437 - val_loss: 0.3758 - val_accuracy: 0.8813\n",
            "\n",
            "Epoch 00034: val_loss did not improve from 0.07616\n",
            "Epoch 35/50\n",
            "813/813 [==============================] - 56s 69ms/step - loss: 0.3835 - accuracy: 0.8455 - val_loss: 0.5833 - val_accuracy: 0.7375\n",
            "\n",
            "Epoch 00035: val_loss did not improve from 0.07616\n",
            "Epoch 36/50\n",
            "813/813 [==============================] - 57s 70ms/step - loss: 0.3832 - accuracy: 0.8483 - val_loss: 1.1840 - val_accuracy: 0.4125\n",
            "\n",
            "Epoch 00036: ReduceLROnPlateau reducing learning rate to 1.56249996052793e-06.\n",
            "\n",
            "Epoch 00036: val_loss did not improve from 0.07616\n",
            "Epoch 37/50\n",
            "813/813 [==============================] - 56s 69ms/step - loss: 0.3779 - accuracy: 0.8489 - val_loss: 0.5471 - val_accuracy: 0.8000\n",
            "\n",
            "Epoch 00037: val_loss did not improve from 0.07616\n",
            "Epoch 38/50\n",
            "813/813 [==============================] - 57s 70ms/step - loss: 0.3758 - accuracy: 0.8505 - val_loss: 0.4239 - val_accuracy: 0.8562\n",
            "\n",
            "Epoch 00038: val_loss did not improve from 0.07616\n",
            "Epoch 39/50\n",
            "813/813 [==============================] - 57s 70ms/step - loss: 0.3783 - accuracy: 0.8496 - val_loss: 0.6341 - val_accuracy: 0.7125\n",
            "\n",
            "Epoch 00039: val_loss did not improve from 0.07616\n",
            "Epoch 40/50\n",
            "813/813 [==============================] - 57s 70ms/step - loss: 0.3761 - accuracy: 0.8504 - val_loss: 0.4474 - val_accuracy: 0.8438\n",
            "\n",
            "Epoch 00040: val_loss did not improve from 0.07616\n",
            "Epoch 41/50\n",
            "813/813 [==============================] - 57s 70ms/step - loss: 0.3749 - accuracy: 0.8500 - val_loss: 0.6918 - val_accuracy: 0.6812\n",
            "\n",
            "Epoch 00041: ReduceLROnPlateau reducing learning rate to 7.81249980263965e-07.\n",
            "\n",
            "Epoch 00041: val_loss did not improve from 0.07616\n",
            "Epoch 42/50\n",
            "813/813 [==============================] - 57s 70ms/step - loss: 0.3709 - accuracy: 0.8531 - val_loss: 0.4979 - val_accuracy: 0.8313\n",
            "\n",
            "Epoch 00042: val_loss did not improve from 0.07616\n",
            "Epoch 43/50\n",
            "813/813 [==============================] - 57s 70ms/step - loss: 0.3713 - accuracy: 0.8541 - val_loss: 0.7929 - val_accuracy: 0.6375\n",
            "\n",
            "Epoch 00043: val_loss did not improve from 0.07616\n",
            "Epoch 44/50\n",
            "813/813 [==============================] - 57s 70ms/step - loss: 0.3704 - accuracy: 0.8545 - val_loss: 0.4933 - val_accuracy: 0.8062\n",
            "\n",
            "Epoch 00044: val_loss did not improve from 0.07616\n",
            "Epoch 45/50\n",
            "813/813 [==============================] - 57s 70ms/step - loss: 0.3700 - accuracy: 0.8525 - val_loss: 0.5404 - val_accuracy: 0.8000\n",
            "\n",
            "Epoch 00045: val_loss did not improve from 0.07616\n",
            "Epoch 46/50\n",
            "813/813 [==============================] - 57s 70ms/step - loss: 0.3696 - accuracy: 0.8526 - val_loss: 0.5549 - val_accuracy: 0.8000\n",
            "\n",
            "Epoch 00046: ReduceLROnPlateau reducing learning rate to 3.906249901319825e-07.\n",
            "\n",
            "Epoch 00046: val_loss did not improve from 0.07616\n",
            "Epoch 47/50\n",
            "813/813 [==============================] - 56s 69ms/step - loss: 0.3696 - accuracy: 0.8524 - val_loss: 0.5693 - val_accuracy: 0.7937\n",
            "\n",
            "Epoch 00047: val_loss did not improve from 0.07616\n",
            "Epoch 48/50\n",
            "813/813 [==============================] - 56s 69ms/step - loss: 0.3692 - accuracy: 0.8548 - val_loss: 0.5515 - val_accuracy: 0.7937\n",
            "\n",
            "Epoch 00048: val_loss did not improve from 0.07616\n",
            "Epoch 49/50\n",
            "813/813 [==============================] - 57s 70ms/step - loss: 0.3670 - accuracy: 0.8564 - val_loss: 0.6031 - val_accuracy: 0.7625\n",
            "\n",
            "Epoch 00049: val_loss did not improve from 0.07616\n",
            "Epoch 50/50\n",
            "813/813 [==============================] - 57s 70ms/step - loss: 0.3686 - accuracy: 0.8538 - val_loss: 0.5801 - val_accuracy: 0.7812\n",
            "\n",
            "Epoch 00050: val_loss did not improve from 0.07616\n",
            "18/18 [==============================] - 1s 53ms/step - loss: 0.5839 - accuracy: 0.7828\n",
            "18/18 [==============================] - 1s 53ms/step - loss: 0.5839 - accuracy: 0.7828\n",
            "Loss on test set:  0.5839\n",
            "Accuracy on test set:  0.7828\n",
            "\n"
          ],
          "name": "stdout"
        },
        {
          "output_type": "display_data",
          "data": {
            "text/html": [
              "<br/>Waiting for W&B process to finish, PID 3530<br/>Program ended successfully."
            ],
            "text/plain": [
              "<IPython.core.display.HTML object>"
            ]
          },
          "metadata": {
            "tags": []
          }
        },
        {
          "output_type": "display_data",
          "data": {
            "application/vnd.jupyter.widget-view+json": {
              "model_id": "86ddf9d95922437b8410cedf480ed7e8",
              "version_minor": 0,
              "version_major": 2
            },
            "text/plain": [
              "VBox(children=(Label(value=' 211.33MB of 211.33MB uploaded (0.00MB deduped)\\r'), FloatProgress(value=1.0, max=…"
            ]
          },
          "metadata": {
            "tags": []
          }
        },
        {
          "output_type": "display_data",
          "data": {
            "text/html": [
              "Find user logs for this run at: <code>/content/wandb/run-20210612_162305-2pnn9r88/logs/debug.log</code>"
            ],
            "text/plain": [
              "<IPython.core.display.HTML object>"
            ]
          },
          "metadata": {
            "tags": []
          }
        },
        {
          "output_type": "display_data",
          "data": {
            "text/html": [
              "Find internal logs for this run at: <code>/content/wandb/run-20210612_162305-2pnn9r88/logs/debug-internal.log</code>"
            ],
            "text/plain": [
              "<IPython.core.display.HTML object>"
            ]
          },
          "metadata": {
            "tags": []
          }
        },
        {
          "output_type": "display_data",
          "data": {
            "text/html": [
              "<h3>Run summary:</h3><br/><style>\n",
              "    table.wandb td:nth-child(1) { padding: 0 10px; text-align: right }\n",
              "    </style><table class=\"wandb\">\n",
              "<tr><td>epoch</td><td>49</td></tr><tr><td>loss</td><td>0.36864</td></tr><tr><td>accuracy</td><td>0.85383</td></tr><tr><td>val_loss</td><td>0.58015</td></tr><tr><td>val_accuracy</td><td>0.78125</td></tr><tr><td>lr</td><td>0.0</td></tr><tr><td>_runtime</td><td>2912</td></tr><tr><td>_timestamp</td><td>1623517897</td></tr><tr><td>_step</td><td>49</td></tr><tr><td>best_val_loss</td><td>0.29823</td></tr><tr><td>best_epoch</td><td>28</td></tr></table>"
            ],
            "text/plain": [
              "<IPython.core.display.HTML object>"
            ]
          },
          "metadata": {
            "tags": []
          }
        },
        {
          "output_type": "display_data",
          "data": {
            "text/html": [
              "<h3>Run history:</h3><br/><style>\n",
              "    table.wandb td:nth-child(1) { padding: 0 10px; text-align: right }\n",
              "    </style><table class=\"wandb\">\n",
              "<tr><td>epoch</td><td>▁▁▁▁▂▂▂▂▂▃▃▃▃▃▃▄▄▄▄▄▅▅▅▅▅▅▆▆▆▆▆▆▇▇▇▇▇███</td></tr><tr><td>loss</td><td>█▆▅▄▃▃▃▃▃▂▂▂▂▂▂▂▂▂▂▁▁▁▁▁▁▁▁▁▁▁▁▁▁▁▁▁▁▁▁▁</td></tr><tr><td>accuracy</td><td>▁▃▄▄▅▅▅▅▅▆▆▆▆▆▇▇▇▇▇▇▇▇▇▇████████████████</td></tr><tr><td>val_loss</td><td>▁█▄▂▁▂▃▂▁▂▃▁▂▂▂▂▁▂▁▂▂▁▂▁▁▁▁▁▂▁▁▁▁▁▁▁▁▁▁▁</td></tr><tr><td>val_accuracy</td><td>▇▁▃▁█▁▁▂▇▄▂▅▁▃▂▅▅▃▇▅▄▇▄▇▇▆▆▇▄▇▇▆▆▇▅▇▇▇▇▇</td></tr><tr><td>lr</td><td>█████████▄▄▄▄▃▃▃▃▂▂▂▂▁▁▁▁▁▁▁▁▁▁▁▁▁▁▁▁▁▁▁</td></tr><tr><td>_runtime</td><td>▁▁▁▁▂▂▂▂▂▃▃▃▃▃▃▄▄▄▄▄▅▅▅▅▅▅▆▆▆▆▆▆▇▇▇▇▇███</td></tr><tr><td>_timestamp</td><td>▁▁▁▁▂▂▂▂▂▃▃▃▃▃▃▄▄▄▄▄▅▅▅▅▅▅▆▆▆▆▆▆▇▇▇▇▇███</td></tr><tr><td>_step</td><td>▁▁▁▁▂▂▂▂▂▃▃▃▃▃▃▄▄▄▄▄▅▅▅▅▅▅▆▆▆▆▆▆▇▇▇▇▇███</td></tr></table><br/>"
            ],
            "text/plain": [
              "<IPython.core.display.HTML object>"
            ]
          },
          "metadata": {
            "tags": []
          }
        },
        {
          "output_type": "display_data",
          "data": {
            "text/html": [
              "Synced 5 W&B file(s), 1 media file(s), 0 artifact file(s) and 1 other file(s)"
            ],
            "text/plain": [
              "<IPython.core.display.HTML object>"
            ]
          },
          "metadata": {
            "tags": []
          }
        },
        {
          "output_type": "display_data",
          "data": {
            "text/html": [
              "\n",
              "                    <br/>Synced <strong style=\"color:#cdcd00\">wise-cloud-6</strong>: <a href=\"https://wandb.ai/hong-dasol/Final_AIAS/runs/2pnn9r88\" target=\"_blank\">https://wandb.ai/hong-dasol/Final_AIAS/runs/2pnn9r88</a><br/>\n",
              "                "
            ],
            "text/plain": [
              "<IPython.core.display.HTML object>"
            ]
          },
          "metadata": {
            "tags": []
          }
        },
        {
          "output_type": "display_data",
          "data": {
            "text/html": [
              "\n",
              "                Tracking run with wandb version 0.10.32<br/>\n",
              "                Syncing run <strong style=\"color:#cdcd00\">zesty-blaze-7</strong> to <a href=\"https://wandb.ai\" target=\"_blank\">Weights & Biases</a> <a href=\"https://docs.wandb.com/integrations/jupyter.html\" target=\"_blank\">(Documentation)</a>.<br/>\n",
              "                Project page: <a href=\"https://wandb.ai/hong-dasol/Final_AIAS\" target=\"_blank\">https://wandb.ai/hong-dasol/Final_AIAS</a><br/>\n",
              "                Run page: <a href=\"https://wandb.ai/hong-dasol/Final_AIAS/runs/1qc2f222\" target=\"_blank\">https://wandb.ai/hong-dasol/Final_AIAS/runs/1qc2f222</a><br/>\n",
              "                Run data is saved locally in <code>/content/wandb/run-20210612_171145-1qc2f222</code><br/><br/>\n",
              "            "
            ],
            "text/plain": [
              "<IPython.core.display.HTML object>"
            ]
          },
          "metadata": {
            "tags": []
          }
        },
        {
          "output_type": "stream",
          "text": [
            "0 ImageInput - False\n",
            "1 concatenate - False\n",
            "2 conv1_pad - False\n",
            "3 conv1_conv - False\n",
            "4 conv1_bn - False\n",
            "5 conv1_relu - False\n",
            "6 pool1_pad - False\n",
            "7 pool1_pool - False\n",
            "8 conv2_block1_1_conv - False\n",
            "9 conv2_block1_1_bn - False\n",
            "10 conv2_block1_1_relu - False\n",
            "11 conv2_block1_2_conv - False\n",
            "12 conv2_block1_2_bn - False\n",
            "13 conv2_block1_2_relu - False\n",
            "14 conv2_block1_0_conv - False\n",
            "15 conv2_block1_3_conv - False\n",
            "16 conv2_block1_0_bn - False\n",
            "17 conv2_block1_3_bn - False\n",
            "18 conv2_block1_add - False\n",
            "19 conv2_block1_out - False\n",
            "20 conv2_block2_1_conv - False\n",
            "21 conv2_block2_1_bn - False\n",
            "22 conv2_block2_1_relu - False\n",
            "23 conv2_block2_2_conv - False\n",
            "24 conv2_block2_2_bn - False\n",
            "25 conv2_block2_2_relu - False\n",
            "26 conv2_block2_3_conv - False\n",
            "27 conv2_block2_3_bn - False\n",
            "28 conv2_block2_add - False\n",
            "29 conv2_block2_out - False\n",
            "30 conv2_block3_1_conv - False\n",
            "31 conv2_block3_1_bn - False\n",
            "32 conv2_block3_1_relu - False\n",
            "33 conv2_block3_2_conv - False\n",
            "34 conv2_block3_2_bn - False\n",
            "35 conv2_block3_2_relu - False\n",
            "36 conv2_block3_3_conv - False\n",
            "37 conv2_block3_3_bn - False\n",
            "38 conv2_block3_add - False\n",
            "39 conv2_block3_out - False\n",
            "40 conv3_block1_1_conv - False\n",
            "41 conv3_block1_1_bn - False\n",
            "42 conv3_block1_1_relu - False\n",
            "43 conv3_block1_2_conv - False\n",
            "44 conv3_block1_2_bn - False\n",
            "45 conv3_block1_2_relu - False\n",
            "46 conv3_block1_0_conv - False\n",
            "47 conv3_block1_3_conv - False\n",
            "48 conv3_block1_0_bn - False\n",
            "49 conv3_block1_3_bn - False\n",
            "50 conv3_block1_add - False\n",
            "51 conv3_block1_out - False\n",
            "52 conv3_block2_1_conv - False\n",
            "53 conv3_block2_1_bn - False\n",
            "54 conv3_block2_1_relu - False\n",
            "55 conv3_block2_2_conv - False\n",
            "56 conv3_block2_2_bn - False\n",
            "57 conv3_block2_2_relu - False\n",
            "58 conv3_block2_3_conv - False\n",
            "59 conv3_block2_3_bn - False\n",
            "60 conv3_block2_add - False\n",
            "61 conv3_block2_out - False\n",
            "62 conv3_block3_1_conv - False\n",
            "63 conv3_block3_1_bn - False\n",
            "64 conv3_block3_1_relu - False\n",
            "65 conv3_block3_2_conv - False\n",
            "66 conv3_block3_2_bn - False\n",
            "67 conv3_block3_2_relu - False\n",
            "68 conv3_block3_3_conv - False\n",
            "69 conv3_block3_3_bn - False\n",
            "70 conv3_block3_add - False\n",
            "71 conv3_block3_out - False\n",
            "72 conv3_block4_1_conv - False\n",
            "73 conv3_block4_1_bn - False\n",
            "74 conv3_block4_1_relu - False\n",
            "75 conv3_block4_2_conv - False\n",
            "76 conv3_block4_2_bn - False\n",
            "77 conv3_block4_2_relu - False\n",
            "78 conv3_block4_3_conv - False\n",
            "79 conv3_block4_3_bn - False\n",
            "80 conv3_block4_add - False\n",
            "81 conv3_block4_out - False\n",
            "82 conv4_block1_1_conv - False\n",
            "83 conv4_block1_1_bn - False\n",
            "84 conv4_block1_1_relu - False\n",
            "85 conv4_block1_2_conv - False\n",
            "86 conv4_block1_2_bn - False\n",
            "87 conv4_block1_2_relu - False\n",
            "88 conv4_block1_0_conv - False\n",
            "89 conv4_block1_3_conv - False\n",
            "90 conv4_block1_0_bn - False\n",
            "91 conv4_block1_3_bn - False\n",
            "92 conv4_block1_add - False\n",
            "93 conv4_block1_out - False\n",
            "94 conv4_block2_1_conv - False\n",
            "95 conv4_block2_1_bn - False\n",
            "96 conv4_block2_1_relu - False\n",
            "97 conv4_block2_2_conv - False\n",
            "98 conv4_block2_2_bn - False\n",
            "99 conv4_block2_2_relu - False\n",
            "100 conv4_block2_3_conv - False\n",
            "101 conv4_block2_3_bn - False\n",
            "102 conv4_block2_add - False\n",
            "103 conv4_block2_out - False\n",
            "104 conv4_block3_1_conv - False\n",
            "105 conv4_block3_1_bn - False\n",
            "106 conv4_block3_1_relu - False\n",
            "107 conv4_block3_2_conv - False\n",
            "108 conv4_block3_2_bn - False\n",
            "109 conv4_block3_2_relu - False\n",
            "110 conv4_block3_3_conv - False\n",
            "111 conv4_block3_3_bn - False\n",
            "112 conv4_block3_add - False\n",
            "113 conv4_block3_out - False\n",
            "114 conv4_block4_1_conv - False\n",
            "115 conv4_block4_1_bn - False\n",
            "116 conv4_block4_1_relu - False\n",
            "117 conv4_block4_2_conv - False\n",
            "118 conv4_block4_2_bn - False\n",
            "119 conv4_block4_2_relu - False\n",
            "120 conv4_block4_3_conv - False\n",
            "121 conv4_block4_3_bn - False\n",
            "122 conv4_block4_add - False\n",
            "123 conv4_block4_out - False\n",
            "124 conv4_block5_1_conv - False\n",
            "125 conv4_block5_1_bn - False\n",
            "126 conv4_block5_1_relu - False\n",
            "127 conv4_block5_2_conv - False\n",
            "128 conv4_block5_2_bn - False\n",
            "129 conv4_block5_2_relu - False\n",
            "130 conv4_block5_3_conv - False\n",
            "131 conv4_block5_3_bn - False\n",
            "132 conv4_block5_add - False\n",
            "133 conv4_block5_out - False\n",
            "134 conv4_block6_1_conv - False\n",
            "135 conv4_block6_1_bn - False\n",
            "136 conv4_block6_1_relu - False\n",
            "137 conv4_block6_2_conv - False\n",
            "138 conv4_block6_2_bn - False\n",
            "139 conv4_block6_2_relu - False\n",
            "140 conv4_block6_3_conv - False\n",
            "141 conv4_block6_3_bn - False\n",
            "142 conv4_block6_add - False\n",
            "143 conv4_block6_out - False\n",
            "144 conv5_block1_1_conv - True\n",
            "145 conv5_block1_1_bn - True\n",
            "146 conv5_block1_1_relu - True\n",
            "147 conv5_block1_2_conv - True\n",
            "148 conv5_block1_2_bn - True\n",
            "149 conv5_block1_2_relu - True\n",
            "150 conv5_block1_0_conv - True\n",
            "151 conv5_block1_3_conv - True\n",
            "152 conv5_block1_0_bn - True\n",
            "153 conv5_block1_3_bn - True\n",
            "154 conv5_block1_add - True\n",
            "155 conv5_block1_out - True\n",
            "156 conv5_block2_1_conv - True\n",
            "157 conv5_block2_1_bn - True\n",
            "158 conv5_block2_1_relu - True\n",
            "159 conv5_block2_2_conv - True\n",
            "160 conv5_block2_2_bn - True\n",
            "161 conv5_block2_2_relu - True\n",
            "162 conv5_block2_3_conv - True\n",
            "163 conv5_block2_3_bn - True\n",
            "164 conv5_block2_add - True\n",
            "165 conv5_block2_out - True\n",
            "166 conv5_block3_1_conv - True\n",
            "167 conv5_block3_1_bn - True\n",
            "168 conv5_block3_1_relu - True\n",
            "169 conv5_block3_2_conv - True\n",
            "170 conv5_block3_2_bn - True\n",
            "171 conv5_block3_2_relu - True\n",
            "172 conv5_block3_3_conv - True\n",
            "173 conv5_block3_3_bn - True\n",
            "174 conv5_block3_add - True\n",
            "175 conv5_block3_out - True\n",
            ">> Original\n",
            "      X_model_train: (4543, 224, 224)\n",
            "      y_model_train: (4543, 3)\n",
            ">> Oversampling\n",
            "after oversampling\n",
            "   X_model_train_oversampled (6555, 224, 224)\n",
            "   y_model_train_oversampled (6555, 3)\n",
            "\n",
            ">> Augmentation1\n",
            "      X_aug_train1: (6555, 224, 224)\n",
            "      X_aug_train2: (6555, 224, 224)\n",
            "      X_model_train: (17653, 224, 224)\n",
            "      y_model_train: (17653, 3)\n",
            ">> Augmentation2\n",
            "      X_aug_train3: (6555, 224, 224)\n",
            "      X_model_train: (24208, 224, 224)\n",
            "      y_model_train: (24208, 3)\n",
            ">> Undersampling\n",
            "      max_num: 8740\n",
            "      target_num: [   0  976 1036]\n",
            "      X_model_train_u: (2012, 224, 224)\n",
            "      X_model_train_u: (2012, 224, 224)\n",
            "      y_model_train_u: (2012, 3)\n",
            ">> final Concatenate \n",
            "      X_model_train: (26220, 224, 224)\n",
            "      y_model_train: (26220, 3)\n",
            "=== what I want ===\n",
            "data size:  26220\n",
            "batch_size:  32\n",
            "nb_epochs:  50\n",
            "nb_train_steps:  819\n",
            "\n",
            "Epoch 1/50\n",
            "820/820 [==============================] - 61s 71ms/step - loss: 1.2657 - accuracy: 0.6039 - val_loss: 0.9117 - val_accuracy: 0.8062\n",
            "\n",
            "Epoch 00001: val_loss did not improve from 0.07616\n",
            "Epoch 2/50\n",
            "820/820 [==============================] - 57s 70ms/step - loss: 0.9887 - accuracy: 0.6856 - val_loss: 12.7396 - val_accuracy: 0.0000e+00\n",
            "\n",
            "Epoch 00002: val_loss did not improve from 0.07616\n",
            "Epoch 3/50\n",
            "820/820 [==============================] - 57s 69ms/step - loss: 0.8592 - accuracy: 0.7151 - val_loss: 3.8795 - val_accuracy: 0.0000e+00\n",
            "\n",
            "Epoch 00003: val_loss did not improve from 0.07616\n",
            "Epoch 4/50\n",
            "820/820 [==============================] - 57s 69ms/step - loss: 0.7806 - accuracy: 0.7277 - val_loss: 4.0243 - val_accuracy: 0.2812\n",
            "\n",
            "Epoch 00004: val_loss did not improve from 0.07616\n",
            "Epoch 5/50\n",
            "820/820 [==============================] - 57s 69ms/step - loss: 0.7260 - accuracy: 0.7367 - val_loss: 0.6807 - val_accuracy: 0.9000\n",
            "\n",
            "Epoch 00005: val_loss did not improve from 0.07616\n",
            "Epoch 6/50\n",
            "820/820 [==============================] - 57s 69ms/step - loss: 0.6792 - accuracy: 0.7465 - val_loss: 0.2183 - val_accuracy: 0.9812\n",
            "\n",
            "Epoch 00006: val_loss did not improve from 0.07616\n",
            "Epoch 7/50\n",
            "820/820 [==============================] - 57s 69ms/step - loss: 0.6515 - accuracy: 0.7478 - val_loss: 6.4196 - val_accuracy: 0.0000e+00\n",
            "\n",
            "Epoch 00007: val_loss did not improve from 0.07616\n",
            "Epoch 8/50\n",
            "820/820 [==============================] - 57s 69ms/step - loss: 0.6253 - accuracy: 0.7540 - val_loss: 1.2640 - val_accuracy: 0.7000\n",
            "\n",
            "Epoch 00008: val_loss did not improve from 0.07616\n",
            "Epoch 9/50\n",
            "820/820 [==============================] - 57s 69ms/step - loss: 0.6033 - accuracy: 0.7614 - val_loss: 0.3560 - val_accuracy: 0.9062\n",
            "\n",
            "Epoch 00009: val_loss did not improve from 0.07616\n",
            "Epoch 10/50\n",
            "820/820 [==============================] - 57s 69ms/step - loss: 0.5890 - accuracy: 0.7615 - val_loss: 1.5060 - val_accuracy: 0.2000\n",
            "\n",
            "Epoch 00010: val_loss did not improve from 0.07616\n",
            "Epoch 11/50\n",
            "820/820 [==============================] - 57s 69ms/step - loss: 0.5738 - accuracy: 0.7657 - val_loss: 0.5301 - val_accuracy: 0.8500\n",
            "\n",
            "Epoch 00011: ReduceLROnPlateau reducing learning rate to 4.999999873689376e-05.\n",
            "\n",
            "Epoch 00011: val_loss did not improve from 0.07616\n",
            "Epoch 12/50\n",
            "820/820 [==============================] - 57s 70ms/step - loss: 0.5362 - accuracy: 0.7807 - val_loss: 1.8475 - val_accuracy: 0.4313\n",
            "\n",
            "Epoch 00012: val_loss did not improve from 0.07616\n",
            "Epoch 13/50\n",
            "820/820 [==============================] - 57s 69ms/step - loss: 0.5249 - accuracy: 0.7861 - val_loss: 1.2819 - val_accuracy: 0.1562\n",
            "\n",
            "Epoch 00013: val_loss did not improve from 0.07616\n",
            "Epoch 14/50\n",
            "820/820 [==============================] - 57s 69ms/step - loss: 0.5164 - accuracy: 0.7897 - val_loss: 0.0800 - val_accuracy: 1.0000\n",
            "\n",
            "Epoch 00014: val_loss did not improve from 0.07616\n",
            "Epoch 15/50\n",
            "820/820 [==============================] - 57s 70ms/step - loss: 0.5032 - accuracy: 0.7943 - val_loss: 1.9750 - val_accuracy: 0.0250\n",
            "\n",
            "Epoch 00015: val_loss did not improve from 0.07616\n",
            "Epoch 16/50\n",
            "820/820 [==============================] - 57s 70ms/step - loss: 0.4949 - accuracy: 0.7967 - val_loss: 2.6318 - val_accuracy: 0.0063\n",
            "\n",
            "Epoch 00016: val_loss did not improve from 0.07616\n",
            "Epoch 17/50\n",
            "820/820 [==============================] - 57s 70ms/step - loss: 0.4938 - accuracy: 0.8010 - val_loss: 0.8010 - val_accuracy: 0.6562\n",
            "\n",
            "Epoch 00017: val_loss did not improve from 0.07616\n",
            "Epoch 18/50\n",
            "820/820 [==============================] - 57s 69ms/step - loss: 0.4856 - accuracy: 0.8008 - val_loss: 1.7649 - val_accuracy: 0.0125\n",
            "\n",
            "Epoch 00018: val_loss did not improve from 0.07616\n",
            "Epoch 19/50\n",
            "820/820 [==============================] - 57s 69ms/step - loss: 0.4818 - accuracy: 0.8034 - val_loss: 1.4624 - val_accuracy: 0.2500\n",
            "\n",
            "Epoch 00019: ReduceLROnPlateau reducing learning rate to 2.499999936844688e-05.\n",
            "\n",
            "Epoch 00019: val_loss did not improve from 0.07616\n",
            "Epoch 20/50\n",
            "820/820 [==============================] - 57s 69ms/step - loss: 0.4533 - accuracy: 0.8127 - val_loss: 0.8707 - val_accuracy: 0.6062\n",
            "\n",
            "Epoch 00020: val_loss did not improve from 0.07616\n",
            "Epoch 21/50\n",
            "820/820 [==============================] - 57s 69ms/step - loss: 0.4418 - accuracy: 0.8193 - val_loss: 1.6281 - val_accuracy: 0.1937\n",
            "\n",
            "Epoch 00021: val_loss did not improve from 0.07616\n",
            "Epoch 22/50\n",
            "820/820 [==============================] - 57s 69ms/step - loss: 0.4344 - accuracy: 0.8218 - val_loss: 0.9837 - val_accuracy: 0.8000\n",
            "\n",
            "Epoch 00022: val_loss did not improve from 0.07616\n",
            "Epoch 23/50\n",
            "820/820 [==============================] - 57s 70ms/step - loss: 0.4308 - accuracy: 0.8238 - val_loss: 2.8016 - val_accuracy: 0.4375\n",
            "\n",
            "Epoch 00023: val_loss did not improve from 0.07616\n",
            "Epoch 24/50\n",
            "820/820 [==============================] - 57s 70ms/step - loss: 0.4223 - accuracy: 0.8281 - val_loss: 0.3312 - val_accuracy: 0.8562\n",
            "\n",
            "Epoch 00024: ReduceLROnPlateau reducing learning rate to 1.249999968422344e-05.\n",
            "\n",
            "Epoch 00024: val_loss did not improve from 0.07616\n",
            "Epoch 25/50\n",
            "820/820 [==============================] - 57s 70ms/step - loss: 0.4073 - accuracy: 0.8347 - val_loss: 2.3432 - val_accuracy: 0.0562\n",
            "\n",
            "Epoch 00025: val_loss did not improve from 0.07616\n",
            "Epoch 26/50\n",
            "820/820 [==============================] - 57s 69ms/step - loss: 0.3993 - accuracy: 0.8372 - val_loss: 0.1536 - val_accuracy: 0.9688\n",
            "\n",
            "Epoch 00026: val_loss did not improve from 0.07616\n",
            "Epoch 27/50\n",
            "820/820 [==============================] - 57s 70ms/step - loss: 0.3922 - accuracy: 0.8410 - val_loss: 0.1733 - val_accuracy: 0.9563\n",
            "\n",
            "Epoch 00027: val_loss did not improve from 0.07616\n",
            "Epoch 28/50\n",
            "820/820 [==============================] - 57s 70ms/step - loss: 0.3877 - accuracy: 0.8440 - val_loss: 0.6489 - val_accuracy: 0.7500\n",
            "\n",
            "Epoch 00028: val_loss did not improve from 0.07616\n",
            "Epoch 29/50\n",
            "820/820 [==============================] - 57s 70ms/step - loss: 0.3885 - accuracy: 0.8439 - val_loss: 0.4308 - val_accuracy: 0.9375\n",
            "\n",
            "Epoch 00029: ReduceLROnPlateau reducing learning rate to 6.24999984211172e-06.\n",
            "\n",
            "Epoch 00029: val_loss did not improve from 0.07616\n",
            "Epoch 30/50\n",
            "820/820 [==============================] - 57s 70ms/step - loss: 0.3738 - accuracy: 0.8490 - val_loss: 1.1530 - val_accuracy: 0.5312\n",
            "\n",
            "Epoch 00030: val_loss did not improve from 0.07616\n",
            "Epoch 31/50\n",
            "820/820 [==============================] - 57s 70ms/step - loss: 0.3715 - accuracy: 0.8521 - val_loss: 0.5342 - val_accuracy: 0.8125\n",
            "\n",
            "Epoch 00031: val_loss did not improve from 0.07616\n",
            "Epoch 32/50\n",
            "820/820 [==============================] - 57s 69ms/step - loss: 0.3702 - accuracy: 0.8494 - val_loss: 0.8605 - val_accuracy: 0.6313\n",
            "\n",
            "Epoch 00032: val_loss did not improve from 0.07616\n",
            "Epoch 33/50\n",
            "820/820 [==============================] - 57s 70ms/step - loss: 0.3647 - accuracy: 0.8544 - val_loss: 0.5789 - val_accuracy: 0.7812\n",
            "\n",
            "Epoch 00033: val_loss did not improve from 0.07616\n",
            "Epoch 34/50\n",
            "820/820 [==============================] - 57s 70ms/step - loss: 0.3644 - accuracy: 0.8535 - val_loss: 1.1225 - val_accuracy: 0.5312\n",
            "\n",
            "Epoch 00034: ReduceLROnPlateau reducing learning rate to 3.12499992105586e-06.\n",
            "\n",
            "Epoch 00034: val_loss did not improve from 0.07616\n",
            "Epoch 35/50\n",
            "820/820 [==============================] - 57s 70ms/step - loss: 0.3550 - accuracy: 0.8607 - val_loss: 0.5741 - val_accuracy: 0.7875\n",
            "\n",
            "Epoch 00035: val_loss did not improve from 0.07616\n",
            "Epoch 36/50\n",
            "820/820 [==============================] - 57s 70ms/step - loss: 0.3537 - accuracy: 0.8592 - val_loss: 0.6787 - val_accuracy: 0.7437\n",
            "\n",
            "Epoch 00036: val_loss did not improve from 0.07616\n",
            "Epoch 37/50\n",
            "820/820 [==============================] - 57s 70ms/step - loss: 0.3520 - accuracy: 0.8606 - val_loss: 1.0091 - val_accuracy: 0.5750\n",
            "\n",
            "Epoch 00037: val_loss did not improve from 0.07616\n",
            "Epoch 38/50\n",
            "820/820 [==============================] - 57s 70ms/step - loss: 0.3494 - accuracy: 0.8597 - val_loss: 1.0404 - val_accuracy: 0.6000\n",
            "\n",
            "Epoch 00038: val_loss did not improve from 0.07616\n",
            "Epoch 39/50\n",
            "820/820 [==============================] - 57s 70ms/step - loss: 0.3480 - accuracy: 0.8626 - val_loss: 0.9880 - val_accuracy: 0.6250\n",
            "\n",
            "Epoch 00039: ReduceLROnPlateau reducing learning rate to 1.56249996052793e-06.\n",
            "\n",
            "Epoch 00039: val_loss did not improve from 0.07616\n",
            "Epoch 40/50\n",
            "820/820 [==============================] - 57s 70ms/step - loss: 0.3454 - accuracy: 0.8652 - val_loss: 0.6523 - val_accuracy: 0.7375\n",
            "\n",
            "Epoch 00040: val_loss did not improve from 0.07616\n",
            "Epoch 41/50\n",
            "820/820 [==============================] - 57s 70ms/step - loss: 0.3443 - accuracy: 0.8646 - val_loss: 0.7374 - val_accuracy: 0.7125\n",
            "\n",
            "Epoch 00041: val_loss did not improve from 0.07616\n",
            "Epoch 42/50\n",
            "219/820 [=======>......................] - ETA: 41s - loss: 0.3357 - accuracy: 0.8690"
          ],
          "name": "stdout"
        },
        {
          "output_type": "error",
          "ename": "KeyboardInterrupt",
          "evalue": "ignored",
          "traceback": [
            "\u001b[0;31m---------------------------------------------------------------------------\u001b[0m",
            "\u001b[0;31mKeyboardInterrupt\u001b[0m                         Traceback (most recent call last)",
            "\u001b[0;32m<ipython-input-27-53cb887bad52>\u001b[0m in \u001b[0;36m<module>\u001b[0;34m()\u001b[0m\n\u001b[1;32m    131\u001b[0m                         \u001b[0mvalidation_data\u001b[0m \u001b[0;34m=\u001b[0m \u001b[0;34m(\u001b[0m\u001b[0mX_model_val\u001b[0m\u001b[0;34m,\u001b[0m \u001b[0my_model_val\u001b[0m\u001b[0;34m)\u001b[0m\u001b[0;34m,\u001b[0m\u001b[0;34m\u001b[0m\u001b[0;34m\u001b[0m\u001b[0m\n\u001b[1;32m    132\u001b[0m                         \u001b[0mvalidation_steps\u001b[0m \u001b[0;34m=\u001b[0m \u001b[0;36m5\u001b[0m\u001b[0;34m,\u001b[0m\u001b[0;34m\u001b[0m\u001b[0;34m\u001b[0m\u001b[0m\n\u001b[0;32m--> 133\u001b[0;31m                         callbacks = callbacks)\n\u001b[0m\u001b[1;32m    134\u001b[0m   \u001b[0mk_loss\u001b[0m \u001b[0;34m=\u001b[0m \u001b[0;34m'%.4f'\u001b[0m \u001b[0;34m%\u001b[0m \u001b[0;34m(\u001b[0m\u001b[0mmodel\u001b[0m\u001b[0;34m.\u001b[0m\u001b[0mevaluate\u001b[0m\u001b[0;34m(\u001b[0m\u001b[0mX_test\u001b[0m\u001b[0;34m,\u001b[0m \u001b[0my_test\u001b[0m\u001b[0;34m)\u001b[0m\u001b[0;34m[\u001b[0m\u001b[0;36m0\u001b[0m\u001b[0;34m]\u001b[0m\u001b[0;34m)\u001b[0m\u001b[0;34m\u001b[0m\u001b[0;34m\u001b[0m\u001b[0m\n\u001b[1;32m    135\u001b[0m   \u001b[0mk_accuracy\u001b[0m \u001b[0;34m=\u001b[0m \u001b[0;34m'%.4f'\u001b[0m \u001b[0;34m%\u001b[0m \u001b[0;34m(\u001b[0m\u001b[0mmodel\u001b[0m\u001b[0;34m.\u001b[0m\u001b[0mevaluate\u001b[0m\u001b[0;34m(\u001b[0m\u001b[0mX_test\u001b[0m\u001b[0;34m,\u001b[0m \u001b[0my_test\u001b[0m\u001b[0;34m)\u001b[0m\u001b[0;34m[\u001b[0m\u001b[0;36m1\u001b[0m\u001b[0;34m]\u001b[0m\u001b[0;34m)\u001b[0m\u001b[0;34m\u001b[0m\u001b[0;34m\u001b[0m\u001b[0m\n",
            "\u001b[0;32m/usr/local/lib/python3.7/dist-packages/wandb/integration/keras/keras.py\u001b[0m in \u001b[0;36mnew_v2\u001b[0;34m(*args, **kwargs)\u001b[0m\n\u001b[1;32m    122\u001b[0m             \u001b[0;32mfor\u001b[0m \u001b[0mcbk\u001b[0m \u001b[0;32min\u001b[0m \u001b[0mcbks\u001b[0m\u001b[0;34m:\u001b[0m\u001b[0;34m\u001b[0m\u001b[0;34m\u001b[0m\u001b[0m\n\u001b[1;32m    123\u001b[0m                 \u001b[0mset_wandb_attrs\u001b[0m\u001b[0;34m(\u001b[0m\u001b[0mcbk\u001b[0m\u001b[0;34m,\u001b[0m \u001b[0mval_data\u001b[0m\u001b[0;34m)\u001b[0m\u001b[0;34m\u001b[0m\u001b[0;34m\u001b[0m\u001b[0m\n\u001b[0;32m--> 124\u001b[0;31m         \u001b[0;32mreturn\u001b[0m \u001b[0mold_v2\u001b[0m\u001b[0;34m(\u001b[0m\u001b[0;34m*\u001b[0m\u001b[0margs\u001b[0m\u001b[0;34m,\u001b[0m \u001b[0;34m**\u001b[0m\u001b[0mkwargs\u001b[0m\u001b[0;34m)\u001b[0m\u001b[0;34m\u001b[0m\u001b[0;34m\u001b[0m\u001b[0m\n\u001b[0m\u001b[1;32m    125\u001b[0m \u001b[0;34m\u001b[0m\u001b[0m\n\u001b[1;32m    126\u001b[0m     \u001b[0mtraining_arrays\u001b[0m\u001b[0;34m.\u001b[0m\u001b[0morig_fit_loop\u001b[0m \u001b[0;34m=\u001b[0m \u001b[0mold_arrays\u001b[0m\u001b[0;34m\u001b[0m\u001b[0;34m\u001b[0m\u001b[0m\n",
            "\u001b[0;32m/usr/local/lib/python3.7/dist-packages/tensorflow/python/keras/engine/training.py\u001b[0m in \u001b[0;36mfit\u001b[0;34m(self, x, y, batch_size, epochs, verbose, callbacks, validation_split, validation_data, shuffle, class_weight, sample_weight, initial_epoch, steps_per_epoch, validation_steps, validation_batch_size, validation_freq, max_queue_size, workers, use_multiprocessing)\u001b[0m\n\u001b[1;32m   1181\u001b[0m                 _r=1):\n\u001b[1;32m   1182\u001b[0m               \u001b[0mcallbacks\u001b[0m\u001b[0;34m.\u001b[0m\u001b[0mon_train_batch_begin\u001b[0m\u001b[0;34m(\u001b[0m\u001b[0mstep\u001b[0m\u001b[0;34m)\u001b[0m\u001b[0;34m\u001b[0m\u001b[0;34m\u001b[0m\u001b[0m\n\u001b[0;32m-> 1183\u001b[0;31m               \u001b[0mtmp_logs\u001b[0m \u001b[0;34m=\u001b[0m \u001b[0mself\u001b[0m\u001b[0;34m.\u001b[0m\u001b[0mtrain_function\u001b[0m\u001b[0;34m(\u001b[0m\u001b[0miterator\u001b[0m\u001b[0;34m)\u001b[0m\u001b[0;34m\u001b[0m\u001b[0;34m\u001b[0m\u001b[0m\n\u001b[0m\u001b[1;32m   1184\u001b[0m               \u001b[0;32mif\u001b[0m \u001b[0mdata_handler\u001b[0m\u001b[0;34m.\u001b[0m\u001b[0mshould_sync\u001b[0m\u001b[0;34m:\u001b[0m\u001b[0;34m\u001b[0m\u001b[0;34m\u001b[0m\u001b[0m\n\u001b[1;32m   1185\u001b[0m                 \u001b[0mcontext\u001b[0m\u001b[0;34m.\u001b[0m\u001b[0masync_wait\u001b[0m\u001b[0;34m(\u001b[0m\u001b[0;34m)\u001b[0m\u001b[0;34m\u001b[0m\u001b[0;34m\u001b[0m\u001b[0m\n",
            "\u001b[0;32m/usr/local/lib/python3.7/dist-packages/tensorflow/python/eager/def_function.py\u001b[0m in \u001b[0;36m__call__\u001b[0;34m(self, *args, **kwds)\u001b[0m\n\u001b[1;32m    887\u001b[0m \u001b[0;34m\u001b[0m\u001b[0m\n\u001b[1;32m    888\u001b[0m       \u001b[0;32mwith\u001b[0m \u001b[0mOptionalXlaContext\u001b[0m\u001b[0;34m(\u001b[0m\u001b[0mself\u001b[0m\u001b[0;34m.\u001b[0m\u001b[0m_jit_compile\u001b[0m\u001b[0;34m)\u001b[0m\u001b[0;34m:\u001b[0m\u001b[0;34m\u001b[0m\u001b[0;34m\u001b[0m\u001b[0m\n\u001b[0;32m--> 889\u001b[0;31m         \u001b[0mresult\u001b[0m \u001b[0;34m=\u001b[0m \u001b[0mself\u001b[0m\u001b[0;34m.\u001b[0m\u001b[0m_call\u001b[0m\u001b[0;34m(\u001b[0m\u001b[0;34m*\u001b[0m\u001b[0margs\u001b[0m\u001b[0;34m,\u001b[0m \u001b[0;34m**\u001b[0m\u001b[0mkwds\u001b[0m\u001b[0;34m)\u001b[0m\u001b[0;34m\u001b[0m\u001b[0;34m\u001b[0m\u001b[0m\n\u001b[0m\u001b[1;32m    890\u001b[0m \u001b[0;34m\u001b[0m\u001b[0m\n\u001b[1;32m    891\u001b[0m       \u001b[0mnew_tracing_count\u001b[0m \u001b[0;34m=\u001b[0m \u001b[0mself\u001b[0m\u001b[0;34m.\u001b[0m\u001b[0mexperimental_get_tracing_count\u001b[0m\u001b[0;34m(\u001b[0m\u001b[0;34m)\u001b[0m\u001b[0;34m\u001b[0m\u001b[0;34m\u001b[0m\u001b[0m\n",
            "\u001b[0;32m/usr/local/lib/python3.7/dist-packages/tensorflow/python/eager/def_function.py\u001b[0m in \u001b[0;36m_call\u001b[0;34m(self, *args, **kwds)\u001b[0m\n\u001b[1;32m    915\u001b[0m       \u001b[0;31m# In this case we have created variables on the first call, so we run the\u001b[0m\u001b[0;34m\u001b[0m\u001b[0;34m\u001b[0m\u001b[0;34m\u001b[0m\u001b[0m\n\u001b[1;32m    916\u001b[0m       \u001b[0;31m# defunned version which is guaranteed to never create variables.\u001b[0m\u001b[0;34m\u001b[0m\u001b[0;34m\u001b[0m\u001b[0;34m\u001b[0m\u001b[0m\n\u001b[0;32m--> 917\u001b[0;31m       \u001b[0;32mreturn\u001b[0m \u001b[0mself\u001b[0m\u001b[0;34m.\u001b[0m\u001b[0m_stateless_fn\u001b[0m\u001b[0;34m(\u001b[0m\u001b[0;34m*\u001b[0m\u001b[0margs\u001b[0m\u001b[0;34m,\u001b[0m \u001b[0;34m**\u001b[0m\u001b[0mkwds\u001b[0m\u001b[0;34m)\u001b[0m  \u001b[0;31m# pylint: disable=not-callable\u001b[0m\u001b[0;34m\u001b[0m\u001b[0;34m\u001b[0m\u001b[0m\n\u001b[0m\u001b[1;32m    918\u001b[0m     \u001b[0;32melif\u001b[0m \u001b[0mself\u001b[0m\u001b[0;34m.\u001b[0m\u001b[0m_stateful_fn\u001b[0m \u001b[0;32mis\u001b[0m \u001b[0;32mnot\u001b[0m \u001b[0;32mNone\u001b[0m\u001b[0;34m:\u001b[0m\u001b[0;34m\u001b[0m\u001b[0;34m\u001b[0m\u001b[0m\n\u001b[1;32m    919\u001b[0m       \u001b[0;31m# Release the lock early so that multiple threads can perform the call\u001b[0m\u001b[0;34m\u001b[0m\u001b[0;34m\u001b[0m\u001b[0;34m\u001b[0m\u001b[0m\n",
            "\u001b[0;32m/usr/local/lib/python3.7/dist-packages/tensorflow/python/eager/function.py\u001b[0m in \u001b[0;36m__call__\u001b[0;34m(self, *args, **kwargs)\u001b[0m\n\u001b[1;32m   3022\u001b[0m        filtered_flat_args) = self._maybe_define_function(args, kwargs)\n\u001b[1;32m   3023\u001b[0m     return graph_function._call_flat(\n\u001b[0;32m-> 3024\u001b[0;31m         filtered_flat_args, captured_inputs=graph_function.captured_inputs)  # pylint: disable=protected-access\n\u001b[0m\u001b[1;32m   3025\u001b[0m \u001b[0;34m\u001b[0m\u001b[0m\n\u001b[1;32m   3026\u001b[0m   \u001b[0;34m@\u001b[0m\u001b[0mproperty\u001b[0m\u001b[0;34m\u001b[0m\u001b[0;34m\u001b[0m\u001b[0m\n",
            "\u001b[0;32m/usr/local/lib/python3.7/dist-packages/tensorflow/python/eager/function.py\u001b[0m in \u001b[0;36m_call_flat\u001b[0;34m(self, args, captured_inputs, cancellation_manager)\u001b[0m\n\u001b[1;32m   1959\u001b[0m       \u001b[0;31m# No tape is watching; skip to running the function.\u001b[0m\u001b[0;34m\u001b[0m\u001b[0;34m\u001b[0m\u001b[0;34m\u001b[0m\u001b[0m\n\u001b[1;32m   1960\u001b[0m       return self._build_call_outputs(self._inference_function.call(\n\u001b[0;32m-> 1961\u001b[0;31m           ctx, args, cancellation_manager=cancellation_manager))\n\u001b[0m\u001b[1;32m   1962\u001b[0m     forward_backward = self._select_forward_and_backward_functions(\n\u001b[1;32m   1963\u001b[0m         \u001b[0margs\u001b[0m\u001b[0;34m,\u001b[0m\u001b[0;34m\u001b[0m\u001b[0;34m\u001b[0m\u001b[0m\n",
            "\u001b[0;32m/usr/local/lib/python3.7/dist-packages/tensorflow/python/eager/function.py\u001b[0m in \u001b[0;36mcall\u001b[0;34m(self, ctx, args, cancellation_manager)\u001b[0m\n\u001b[1;32m    594\u001b[0m               \u001b[0minputs\u001b[0m\u001b[0;34m=\u001b[0m\u001b[0margs\u001b[0m\u001b[0;34m,\u001b[0m\u001b[0;34m\u001b[0m\u001b[0;34m\u001b[0m\u001b[0m\n\u001b[1;32m    595\u001b[0m               \u001b[0mattrs\u001b[0m\u001b[0;34m=\u001b[0m\u001b[0mattrs\u001b[0m\u001b[0;34m,\u001b[0m\u001b[0;34m\u001b[0m\u001b[0;34m\u001b[0m\u001b[0m\n\u001b[0;32m--> 596\u001b[0;31m               ctx=ctx)\n\u001b[0m\u001b[1;32m    597\u001b[0m         \u001b[0;32melse\u001b[0m\u001b[0;34m:\u001b[0m\u001b[0;34m\u001b[0m\u001b[0;34m\u001b[0m\u001b[0m\n\u001b[1;32m    598\u001b[0m           outputs = execute.execute_with_cancellation(\n",
            "\u001b[0;32m/usr/local/lib/python3.7/dist-packages/tensorflow/python/eager/execute.py\u001b[0m in \u001b[0;36mquick_execute\u001b[0;34m(op_name, num_outputs, inputs, attrs, ctx, name)\u001b[0m\n\u001b[1;32m     58\u001b[0m     \u001b[0mctx\u001b[0m\u001b[0;34m.\u001b[0m\u001b[0mensure_initialized\u001b[0m\u001b[0;34m(\u001b[0m\u001b[0;34m)\u001b[0m\u001b[0;34m\u001b[0m\u001b[0;34m\u001b[0m\u001b[0m\n\u001b[1;32m     59\u001b[0m     tensors = pywrap_tfe.TFE_Py_Execute(ctx._handle, device_name, op_name,\n\u001b[0;32m---> 60\u001b[0;31m                                         inputs, attrs, num_outputs)\n\u001b[0m\u001b[1;32m     61\u001b[0m   \u001b[0;32mexcept\u001b[0m \u001b[0mcore\u001b[0m\u001b[0;34m.\u001b[0m\u001b[0m_NotOkStatusException\u001b[0m \u001b[0;32mas\u001b[0m \u001b[0me\u001b[0m\u001b[0;34m:\u001b[0m\u001b[0;34m\u001b[0m\u001b[0;34m\u001b[0m\u001b[0m\n\u001b[1;32m     62\u001b[0m     \u001b[0;32mif\u001b[0m \u001b[0mname\u001b[0m \u001b[0;32mis\u001b[0m \u001b[0;32mnot\u001b[0m \u001b[0;32mNone\u001b[0m\u001b[0;34m:\u001b[0m\u001b[0;34m\u001b[0m\u001b[0;34m\u001b[0m\u001b[0m\n",
            "\u001b[0;31mKeyboardInterrupt\u001b[0m: "
          ]
        }
      ]
    },
    {
      "cell_type": "markdown",
      "metadata": {
        "id": "7wt22XuhSL-n"
      },
      "source": [
        "### 3.3.2. Without Cross-validation"
      ]
    },
    {
      "cell_type": "code",
      "metadata": {
        "id": "ktiO2odsSPQN"
      },
      "source": [
        "del(X)\n",
        "del(Y)\n",
        "\n",
        "## <Settings>\n",
        "run = wandb.init(project='Final_AIAS',\n",
        "                config={  # and include hyperparameters and metadata\n",
        "                    \"learning_rate\": 0.0001,\n",
        "                    \"epochs\": 50,\n",
        "                    \"batch_size\": 32,\n",
        "                    \"loss_function\": \"categorical_crossentropy\",\n",
        "                    \"architecture\": \"RenNet-50\",\n",
        "                    \"dataset\": \"original+augm*3((balanced))\"\n",
        "                })\n",
        "config = wandb.config  # We'll use this to configure our experiment\n",
        "callbacks=[Learning_rate_reduction, chkpt, WandbCallback()] #콜백함수에 chkpt추가 (early_stop)\n",
        "tf.keras.backend.clear_session()\n",
        "\n",
        "## <Define the model>\n",
        "model = build_model()\n",
        "optimizer = tf.keras.optimizers.Adam(config.learning_rate) \n",
        "model.compile(optimizer=optimizer,\n",
        "              loss = config.loss_function,\n",
        "              metrics = ['accuracy']\n",
        "              )\n",
        "\n",
        "## <Training Dataset>\n",
        "# Original : X\n",
        "print('>> Original')\n",
        "X_model_train = X_train\n",
        "y_model_train = y_train\n",
        "print('      X_model_train:',X_model_train.shape)\n",
        "print('      y_model_train:',y_model_train.shape)\n",
        "\n",
        "# Oversampling : X + alpha\n",
        "print('>> Oversampling')\n",
        "balance = get_balance(y_model_train)\n",
        "max_num = np.max(balance)\n",
        "\n",
        "X_model_train_oversampled = np.zeros((max_num*3,img_size,img_size))\n",
        "y_model_train_oversampled = np.zeros((max_num*3,3))\n",
        "X_model_train_oversampled, y_model_train_oversampled = oversampling(X_model_train, y_model_train, max_num, 0)\n",
        "print('after oversampling')\n",
        "print('   X_model_train_oversampled',X_model_train_oversampled.shape)\n",
        "print('   y_model_train_oversampled',y_model_train_oversampled.shape)\n",
        "print()\n",
        "\n",
        "# Augmentation : X' + alpha'\n",
        "print('>> Augmentation1')\n",
        "X_aug_train1 = np.stack(get_alb_aug(X_model_train_oversampled)).reshape(-1, img_size, img_size).astype('float32')\n",
        "X_aug_train2 = np.stack(get_alb_aug(X_model_train_oversampled)).reshape(-1, img_size, img_size).astype('float32')\n",
        "print('      X_aug_train1:',X_aug_train1.shape)\n",
        "print('      X_aug_train2:',X_aug_train2.shape)\n",
        "\n",
        "X_model_train = np.concatenate([X_model_train, X_aug_train1, X_aug_train2]) # X_aug_train3, X_aug_train4, X_model_train_u])\n",
        "del(X_aug_train1)\n",
        "del(X_aug_train2)\n",
        "y_model_train = np.concatenate([y_model_train, y_model_train_oversampled, y_model_train_oversampled]) #, y_model_train_oversampled, y_model_train_oversampled, y_model_train_u])\n",
        "print('      X_model_train:',X_model_train.shape)\n",
        "print('      y_model_train:',y_model_train.shape)\n",
        "\n",
        "print('>> Augmentation2')\n",
        "X_aug_train3 = np.stack(get_alb_aug(X_model_train_oversampled)).reshape(-1, img_size, img_size).astype('float32')\n",
        "print('      X_aug_train3:',X_aug_train3.shape)\n",
        "del(X_model_train_oversampled)\n",
        "\n",
        "X_model_train = np.concatenate([X_model_train, X_aug_train3])#, X_aug_train4]) # X_aug_train3, X_aug_train4, X_model_train_u])\n",
        "del(X_aug_train3)\n",
        "y_model_train = np.concatenate([y_model_train, y_model_train_oversampled]) #, y_model_train_oversampled]) #, y_model_train_oversampled, y_model_train_oversampled, y_model_train_u])\n",
        "del(y_model_train_oversampled)\n",
        "print('      X_model_train:',X_model_train.shape)\n",
        "print('      y_model_train:',y_model_train.shape)\n",
        "\n",
        "# Undersampling : alpha\"\n",
        "print('>> Undersampling')\n",
        "balance = get_balance(y_model_train)\n",
        "max_num = np.max(balance)\n",
        "target_num = np.array([max_num-balance[0], max_num-balance[1], max_num-balance[2]],dtype='uint32')\n",
        "print('      max_num:',max_num)\n",
        "print('      target_num:',target_num)\n",
        "\n",
        "\n",
        "X_model_train_u =  np.zeros((np.sum(target_num),img_size,img_size))\n",
        "print('      X_model_train_u:',X_model_train_u.shape)\n",
        "y_model_train_u =  np.zeros((np.sum(target_num),3))\n",
        "X_model_train_u, y_model_train_u = undersampling(X_model_train.copy(), y_model_train.copy(), target_num, 0)\n",
        "print('      X_model_train_u:',X_model_train_u.shape)\n",
        "print('      y_model_train_u:',y_model_train_u.shape)\n",
        "\n",
        "# Concatenate : X + (X'+alpha')*4 + alph\"\n",
        "print('>> final Concatenate ')\n",
        "X_model_train = np.concatenate([X_model_train, X_model_train_u])\n",
        "del(X_model_train_u)\n",
        "y_model_train = np.concatenate([y_model_train, y_model_train_u])\n",
        "del(y_model_train_u)\n",
        "print('      X_model_train:',X_model_train.shape)\n",
        "print('      y_model_train:',y_model_train.shape)\n",
        "\n",
        "# Suffling\n",
        "# print('>> Shuffling')\n",
        "# s = np.arange(X_model_train.shape[0])\n",
        "# np.random.shuffle(s)\n",
        "# X_model_train = X_model_train[s]\n",
        "# y_model_train = y_model_train[s]\n",
        "# print('      X_model_train:',X_model_train.shape)\n",
        "# print('      y_model_train:',y_model_train.shape)\n",
        "\n",
        "## <Validation Dataset>\n",
        "X_model_val = X_val\n",
        "y_model_val = y_val\n",
        "\n",
        "print('=== what I want ===')\n",
        "print('data size: ', X_model_train.shape[0])\n",
        "print('batch_size: ',config.batch_size)\n",
        "print('nb_epochs: ',config.epochs)\n",
        "print('nb_train_steps: ', X_model_train.shape[0]//config.batch_size)\n",
        "print()\n",
        "\n",
        "\n",
        "## <Run>\n",
        "with tf.device('/device:GPU:0'): \n",
        "  history = model.fit(X_model_train, y_model_train,\n",
        "                      epochs=config.epochs,\n",
        "                      # steps_per_epoch = nb_train_steps,\n",
        "                      batch_size = config.batch_size,\n",
        "                      validation_data = (X_model_val, y_model_val),\n",
        "                      validation_steps = 5,\n",
        "                      callbacks = callbacks)\n",
        "\n",
        "run.join() #send end signal to wandb"
      ],
      "execution_count": null,
      "outputs": []
    },
    {
      "cell_type": "markdown",
      "metadata": {
        "id": "bSH5H76iQt4x"
      },
      "source": [
        "# 4. Validation"
      ]
    },
    {
      "cell_type": "markdown",
      "metadata": {
        "id": "STMDARrfQ_A4"
      },
      "source": [
        "## 4.1. Accuracy per Epochs"
      ]
    },
    {
      "cell_type": "code",
      "metadata": {
        "id": "btbwP2pyRWPG"
      },
      "source": [
        "epochs = [i for i in range(50)] # Early Stopping 주의\n",
        "# print(np.shape(acc),np.shape(acc))\n",
        "\n",
        "fig , ax = plt.subplots(1,2)\n",
        "train_acc = history.history['accuracy']\n",
        "train_loss = history.history['loss']\n",
        "val_acc = history.history['val_accuracy']\n",
        "val_loss = history.history['val_loss']\n",
        "fig.set_size_inches(20,10)\n",
        "\n",
        "ax[0].plot(epochs , train_acc , 'go-' , label = 'Training Accuracy')\n",
        "ax[0].plot(epochs , val_acc , 'ro-' , label = 'Validation Accuracy')\n",
        "ax[0].set_title('Training & Validation Accuracy')\n",
        "ax[0].legend()\n",
        "ax[0].set_xlabel(\"Epochs\")\n",
        "ax[0].set_ylabel(\"Accuracy\")\n",
        "\n",
        "ax[1].plot(epochs , train_loss , 'g-o' , label = 'Training Loss')\n",
        "ax[1].plot(epochs , val_loss , 'r-o' , label = 'Validation Loss')\n",
        "ax[1].set_title('Testing Accuracy & Loss')\n",
        "ax[1].legend()\n",
        "ax[1].set_xlabel(\"Epochs\")\n",
        "ax[1].set_ylabel(\"Training & Validation Loss\")\n",
        "plt.show()"
      ],
      "execution_count": null,
      "outputs": []
    },
    {
      "cell_type": "markdown",
      "metadata": {
        "id": "iRf5JBLoRJtP"
      },
      "source": [
        "## 4.2. Heatmap & Precision-Recall"
      ]
    },
    {
      "cell_type": "code",
      "metadata": {
        "id": "cojUiAb0Re1f"
      },
      "source": [
        "# Load the model weights\n",
        "# model.load_weights(\"/content/drive/MyDrive/AIAS2/case1/48-0.87500.h5\") #best weights\n",
        "y_pred = model.predict(X_val)\n",
        "\n",
        "print(y_val.shape, y_pred.shape)\n",
        "cm = confusion_matrix(np.argmax(y_val, axis=1),\n",
        "                      np.argmax(y_pred, axis=1))\n",
        "cm = pd.DataFrame(cm , index = ['0','1','2,'] , columns = ['0','1','2'])\n",
        "plt.figure(figsize = (10,10))\n",
        "sns.heatmap(cm,cmap= \"Blues\", linecolor = 'black' , linewidth = 1 , annot = True, fmt='',xticklabels = labels,yticklabels = labels)"
      ],
      "execution_count": null,
      "outputs": []
    },
    {
      "cell_type": "code",
      "metadata": {
        "id": "CXoJ1e_7RMgd"
      },
      "source": [
        "bb, bv, bn, vb, vv, vn, nb, nv, nn = cm.values.ravel() #실제-예측 순서\n",
        "\n",
        "precision_b = bb/(bb+vb+nb) \n",
        "recall_b = bb/(bn+bv+bb)\n",
        "\n",
        "precision_v = vv/(bv+vv+nv) \n",
        "recall_v = vv/(vn+vv+vb)\n",
        "\n",
        "precision_n = nn/(bn+vn+nn) \n",
        "recall_n = nn/(nn+nv+nb)\n",
        "\n",
        "print(\"Recall_b of the model is {:.2f}\".format(recall_b))\n",
        "print(\"Precision_b of the model is {:.2f}\\n\".format(precision_b))\n",
        "\n",
        "print(\"Recall_v of the model is {:.2f}\".format(recall_v))\n",
        "print(\"Precision_v of the model is {:.2f}\".format(precision_v))\n",
        "\n",
        "print(\"Recall_n of the model is {:.2f}\".format(recall_n))\n",
        "print(\"Precision_n of the model is {:.2f}\\n\".format(precision_n))"
      ],
      "execution_count": null,
      "outputs": []
    },
    {
      "cell_type": "markdown",
      "metadata": {
        "id": "qOW2PQ1KRu1M"
      },
      "source": [
        "# 5. Test"
      ]
    },
    {
      "cell_type": "markdown",
      "metadata": {
        "id": "EnwOR7TaRvx2"
      },
      "source": [
        "## 5.1. Heatmap & Precision-Recall"
      ]
    },
    {
      "cell_type": "code",
      "metadata": {
        "id": "jL3YnMEMRya3"
      },
      "source": [
        "# Load the model weights\n",
        "# model.load_weights(\"/content/drive/MyDrive/AIAS2/case1/48-0.87500.h5\") #best weight\n",
        "\n",
        "# Evaluation on test dataset\n",
        "test_loss, test_score = model.evaluate(X_test, y_test, batch_size=16)\n",
        "print(\"Loss on test set: \", test_loss)\n",
        "print(\"Accuracy on test set: \", test_score)"
      ],
      "execution_count": null,
      "outputs": []
    },
    {
      "cell_type": "code",
      "metadata": {
        "id": "njKtcuGz48cw"
      },
      "source": [
        "# confusion matrix\n",
        "y_pred = model.predict(X_test)\n",
        "cm = confusion_matrix(np.argmax(y_test, axis=1),\n",
        "                      np.argmax(y_pred, axis=1))\n",
        "cm = pd.DataFrame(cm , index = ['0','1','2,'] , columns = ['0','1','2'])\n",
        "plt.figure(figsize = (10,10))\n",
        "sns.heatmap(cm,cmap= \"Blues\", linecolor = 'black' , linewidth = 1 , annot = True, fmt='',xticklabels = labels,yticklabels = labels)"
      ],
      "execution_count": null,
      "outputs": []
    },
    {
      "cell_type": "code",
      "metadata": {
        "id": "gLexXZp-R70q"
      },
      "source": [
        "bb, bv, bn, vb, vv, vn, nb, nv, nn = cm.values.ravel() #실제-예측 순서\n",
        "\n",
        "precision_b = bb/(bb+vb+nb) \n",
        "recall_b = bb/(bn+bv+bb)\n",
        "\n",
        "precision_v = vv/(bv+vv+nv) \n",
        "recall_v = vv/(vn+vv+vb)\n",
        "\n",
        "precision_n = nn/(bn+vn+nn) \n",
        "recall_n = nn/(nn+nv+nb)\n",
        "\n",
        "print(\"Recall_b of the model is {:.2f}\".format(recall_b))\n",
        "print(\"Precision_b of the model is {:.2f}\\n\".format(precision_b))\n",
        "\n",
        "print(\"Recall_v of the model is {:.2f}\".format(recall_v))\n",
        "print(\"Precision_v of the model is {:.2f}\".format(precision_v))\n",
        "\n",
        "print(\"Recall_n of the model is {:.2f}\".format(recall_n))\n",
        "print(\"Precision_n of the model is {:.2f}\\n\".format(precision_n))"
      ],
      "execution_count": null,
      "outputs": []
    },
    {
      "cell_type": "markdown",
      "metadata": {
        "id": "vNCkz2fdR-sE"
      },
      "source": [
        "## 5.2. Convolutional Activation Map"
      ]
    },
    {
      "cell_type": "code",
      "metadata": {
        "id": "_3FH4Bx8SDD1"
      },
      "source": [
        "import tensorflow.keras.backend as K\n",
        "from google.colab.patches import cv2_imshow\n",
        "\n",
        "from tensorflow.keras.preprocessing import image\n",
        "\n",
        "num=-10\n",
        "\n",
        "x = np.copy(X_test[num])\n",
        "x = np.concatenate((x,x,x), axis=2)\n",
        "x = image.img_to_array(x)\n",
        "x = np.expand_dims(x, axis=0)\n",
        "x = preprocess_input(x)\n",
        "x = x[:,:,:,0]\n",
        "x = np.expand_dims(x, axis=3)\n",
        "\n",
        "with tf.GradientTape() as tape:\n",
        "  last_conv_layer = model.get_layer('conv5_block3_add') # [0][0] conv1_pad conv5_block3_add\n",
        "  iterate = tf.keras.models.Model([model.inputs], [model.output, last_conv_layer.output])\n",
        "  print('x:', x.shape)\n",
        "  model_out, last_conv_layer = iterate(x)\n",
        "  print('model_out:', model_out.shape)\n",
        "  print('last_conv_layer:', last_conv_layer.shape)\n",
        "  class_out = model_out[:, np.argmax(model_out)] # model_out[0]\n",
        "  grads = tape.gradient(class_out, last_conv_layer)\n",
        "  pooled_grads = K.mean(grads, axis=(0, 1, 2))\n",
        "  \n",
        "tmp = tf.multiply(pooled_grads, last_conv_layer)\n",
        "#print('tmp:',tmp.shape)\n",
        "heatmap = tf.reduce_mean(tmp, axis=-1)\n",
        "#print('heatmap:', heatmap.shape)\n",
        "print()\n",
        "\n",
        "heatmap = np.maximum(heatmap, 0)\n",
        "heatmap /= np.max(heatmap)\n",
        "#print('heatmap:', heatmap.shape)\n",
        "heatmap = heatmap.reshape((7, 7))\n",
        "\n",
        "heatmap = cv2.resize(heatmap, (img_size, img_size))\n",
        "heatmap = cv2.applyColorMap(np.uint8(255*heatmap), cv2.COLORMAP_JET)\n",
        "heatmap = cv2.resize(heatmap, dsize=(img_size, img_size), interpolation=cv2.INTER_AREA)\n",
        "#print('heatmap:', heatmap.shape)\n",
        "\n",
        "img = np.copy(X_test[num])\n",
        "INTENSITY = 0.5\n",
        "img = heatmap * INTENSITY + img\n",
        "cv2_imshow(img)"
      ],
      "execution_count": null,
      "outputs": []
    }
  ]
}